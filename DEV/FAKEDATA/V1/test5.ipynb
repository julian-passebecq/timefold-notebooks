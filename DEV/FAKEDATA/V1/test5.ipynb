{
 "cells": [
  {
   "cell_type": "code",
   "metadata": {
    "collapsed": true,
    "ExecuteTime": {
     "end_time": "2024-09-27T13:47:22.235952400Z",
     "start_time": "2024-09-27T13:47:19.946209400Z"
    }
   },
   "source": [
    "@file:DependsOn(\"ai.timefold.solver:timefold-solver-core:1.13.0\")\n",
    "@file:DependsOn(\"com.fasterxml.jackson.module:jackson-module-kotlin:2.17.1\")\n",
    "@file:DependsOn(\"org.jetbrains.kotlinx:kotlinx-serialization-json:1.5.1\")"
   ],
   "outputs": [],
   "execution_count": 1
  },
  {
   "metadata": {
    "ExecuteTime": {
     "end_time": "2024-09-27T13:47:24.046049400Z",
     "start_time": "2024-09-27T13:47:22.246394100Z"
    }
   },
   "cell_type": "code",
   "source": [
    "import com.fasterxml.jackson.annotation.JsonFormat\n",
    "import ai.timefold.solver.core.api.domain.entity.PlanningEntity\n",
    "import ai.timefold.solver.core.api.domain.lookup.PlanningId\n",
    "import ai.timefold.solver.core.api.domain.variable.PlanningListVariable\n",
    "import java.time.LocalDateTime\n",
    "import java.util.ArrayList\n",
    "\n",
    "@JsonFormat(shape = JsonFormat.Shape.ARRAY)\n",
    "data class Location(\n",
    "    val latitude: Double,\n",
    "    val longitude: Double\n",
    ") {\n",
    "    fun calcEuclideanDistanceTo(other: Location): Double {\n",
    "        val xDifference = latitude - other.latitude\n",
    "        val yDifference = longitude - other.longitude\n",
    "        return Math.sqrt(xDifference * xDifference + yDifference * yDifference)\n",
    "    }\n",
    "}\n",
    "\n",
    "data class Visit(\n",
    "    val name: String,\n",
    "    val location: Location,\n",
    "    val load: Int\n",
    ") {\n",
    "    override fun toString(): String = name\n",
    "}\n",
    "\n",
    "@PlanningEntity\n",
    "data class Vehicle(\n",
    "    @PlanningId\n",
    "    val name: String,\n",
    "    val homeLocation: Location,\n",
    "    val capacity: Int\n",
    ") {\n",
    "    @PlanningListVariable\n",
    "    var visits: MutableList<Visit> = ArrayList()\n",
    "\n",
    "    // No-arg constructor required for Timefold\n",
    "    constructor() : this(\"\", Location(0.0, 0.0), 0)\n",
    "\n",
    "    override fun toString(): String = name\n",
    "}"
   ],
   "outputs": [],
   "execution_count": 2
  },
  {
   "metadata": {
    "ExecuteTime": {
     "end_time": "2024-09-27T13:47:30.186383400Z",
     "start_time": "2024-09-27T13:47:28.747612300Z"
    }
   },
   "cell_type": "code",
   "source": [
    "import ai.timefold.solver.core.api.score.buildin.hardsoftlong.HardSoftLongScore\n",
    "import ai.timefold.solver.core.api.score.stream.Constraint\n",
    "import ai.timefold.solver.core.api.score.stream.ConstraintFactory\n",
    "import ai.timefold.solver.core.api.score.stream.ConstraintProvider\n",
    "\n",
    "class VehicleRoutingConstraintProvider : ConstraintProvider {\n",
    "    override fun defineConstraints(constraintFactory: ConstraintFactory): Array<Constraint> {\n",
    "        return arrayOf(\n",
    "            capacity(constraintFactory),\n",
    "            minimizeDistance(constraintFactory)\n",
    "        )\n",
    "    }\n",
    "\n",
    "    fun capacity(constraintFactory: ConstraintFactory): Constraint {\n",
    "        return constraintFactory\n",
    "            .forEach(Vehicle::class.java)\n",
    "            .filter { vehicle -> vehicle.visits.sumOf { it.load } > vehicle.capacity }\n",
    "            .penalizeLong(HardSoftLongScore.ONE_HARD,\n",
    "                { vehicle -> vehicle.visits.sumOf { it.load } - vehicle.capacity.toLong() })\n",
    "            .asConstraint(\"vehicle-routing\", \"Capacity\")\n",
    "    }\n",
    "\n",
    "    fun minimizeDistance(constraintFactory: ConstraintFactory): Constraint {\n",
    "        return constraintFactory\n",
    "            .forEach(Vehicle::class.java)\n",
    "            .penalizeLong(HardSoftLongScore.ONE_SOFT, { vehicle ->\n",
    "                var distance = 0.0\n",
    "                var previousLocation = vehicle.homeLocation\n",
    "                for (visit in vehicle.visits) {\n",
    "                    distance += previousLocation.calcEuclideanDistanceTo(visit.location)\n",
    "                    previousLocation = visit.location\n",
    "                }\n",
    "                distance += previousLocation.calcEuclideanDistanceTo(vehicle.homeLocation)\n",
    "                (distance * 1_000_000.0).toLong()\n",
    "            })\n",
    "            .asConstraint(\"vehicle-routing\", \"Minimize distance\")\n",
    "    }\n",
    "}"
   ],
   "outputs": [],
   "execution_count": 3
  },
  {
   "metadata": {
    "ExecuteTime": {
     "end_time": "2024-09-27T13:47:38.193957Z",
     "start_time": "2024-09-27T13:47:38.044658600Z"
    }
   },
   "cell_type": "code",
   "source": [
    "import ai.timefold.solver.core.api.domain.solution.PlanningEntityCollectionProperty\n",
    "import ai.timefold.solver.core.api.domain.solution.PlanningScore\n",
    "import ai.timefold.solver.core.api.domain.solution.PlanningSolution\n",
    "import ai.timefold.solver.core.api.domain.solution.ProblemFactCollectionProperty\n",
    "import ai.timefold.solver.core.api.domain.valuerange.ValueRangeProvider\n",
    "import ai.timefold.solver.core.api.score.buildin.hardsoftlong.HardSoftLongScore\n",
    "\n",
    "@PlanningSolution\n",
    "data class Schedule(\n",
    "    val name: String,\n",
    "    @PlanningEntityCollectionProperty\n",
    "    val vehicles: List<Vehicle>,\n",
    "    @ProblemFactCollectionProperty\n",
    "    @ValueRangeProvider\n",
    "    val visits: List<Visit>\n",
    ") {\n",
    "    @PlanningScore\n",
    "    var score: HardSoftLongScore? = null\n",
    "\n",
    "    // No-arg constructor required for Timefold\n",
    "    constructor() : this(\"\", emptyList(), emptyList())\n",
    "}"
   ],
   "outputs": [],
   "execution_count": 4
  },
  {
   "metadata": {},
   "cell_type": "code",
   "outputs": [],
   "execution_count": null,
   "source": ""
  },
  {
   "metadata": {},
   "cell_type": "code",
   "outputs": [],
   "execution_count": null,
   "source": ""
  },
  {
   "metadata": {},
   "cell_type": "code",
   "outputs": [],
   "execution_count": null,
   "source": ""
  },
  {
   "metadata": {},
   "cell_type": "code",
   "outputs": [],
   "execution_count": null,
   "source": ""
  },
  {
   "metadata": {},
   "cell_type": "code",
   "outputs": [],
   "execution_count": null,
   "source": ""
  }
 ],
 "metadata": {
  "kernelspec": {
   "display_name": "Kotlin",
   "language": "kotlin",
   "name": "kotlin"
  },
  "language_info": {
   "name": "kotlin",
   "version": "1.9.23",
   "mimetype": "text/x-kotlin",
   "file_extension": ".kt",
   "pygments_lexer": "kotlin",
   "codemirror_mode": "text/x-kotlin",
   "nbconvert_exporter": ""
  }
 },
 "nbformat": 4,
 "nbformat_minor": 0
}
