{
 "cells": [
  {
   "cell_type": "code",
   "execution_count": 27,
   "metadata": {},
   "outputs": [],
   "source": [
    "import pandas as pd\n",
    "import numpy as np\n",
    "import folium\n",
    "from folium.plugins import MarkerCluster\n",
    "import random\n",
    "from datetime import datetime\n",
    "import ipywidgets as widgets\n",
    "from ipywidgets import interact\n",
    "from IPython.display import display, clear_output\n"
   ]
  },
  {
   "cell_type": "code",
   "execution_count": 28,
   "metadata": {},
   "outputs": [
    {
     "data": {
      "text/html": [
       "<div>\n",
       "<style scoped>\n",
       "    .dataframe tbody tr th:only-of-type {\n",
       "        vertical-align: middle;\n",
       "    }\n",
       "\n",
       "    .dataframe tbody tr th {\n",
       "        vertical-align: top;\n",
       "    }\n",
       "\n",
       "    .dataframe thead th {\n",
       "        text-align: right;\n",
       "    }\n",
       "</style>\n",
       "<table border=\"1\" class=\"dataframe\">\n",
       "  <thead>\n",
       "    <tr style=\"text-align: right;\">\n",
       "      <th></th>\n",
       "      <th>Truck_ID</th>\n",
       "      <th>Truck_Type</th>\n",
       "      <th>Category</th>\n",
       "      <th>Capabilities</th>\n",
       "      <th>Possible_Equipment</th>\n",
       "      <th>Available</th>\n",
       "    </tr>\n",
       "  </thead>\n",
       "  <tbody>\n",
       "    <tr>\n",
       "      <th>0</th>\n",
       "      <td>T1</td>\n",
       "      <td>Multilift 4 Axles</td>\n",
       "      <td>[Waste, Enrobée]</td>\n",
       "      <td>[Standard Access]</td>\n",
       "      <td>[Benne 10 m³, Benne 20 m³, Thermos, Pont 13 m³]</td>\n",
       "      <td>True</td>\n",
       "    </tr>\n",
       "    <tr>\n",
       "      <th>1</th>\n",
       "      <td>T2</td>\n",
       "      <td>Multilift 4 Axles</td>\n",
       "      <td>[Waste, Enrobée]</td>\n",
       "      <td>[Standard Access]</td>\n",
       "      <td>[Benne 10 m³, Benne 20 m³, Thermos, Pont 13 m³]</td>\n",
       "      <td>True</td>\n",
       "    </tr>\n",
       "    <tr>\n",
       "      <th>2</th>\n",
       "      <td>T3</td>\n",
       "      <td>Multilift 4 Axles Tridem</td>\n",
       "      <td>[Waste, Enrobée]</td>\n",
       "      <td>[Difficult Access]</td>\n",
       "      <td>[Benne 10 m³, Benne 20 m³, Thermos, Pont 13 m³]</td>\n",
       "      <td>True</td>\n",
       "    </tr>\n",
       "    <tr>\n",
       "      <th>3</th>\n",
       "      <td>T4</td>\n",
       "      <td>Camion-grue 4 Axles</td>\n",
       "      <td>[Grue]</td>\n",
       "      <td>[Equipped with Crane]</td>\n",
       "      <td>[Grue, Remorque Tandem]</td>\n",
       "      <td>True</td>\n",
       "    </tr>\n",
       "    <tr>\n",
       "      <th>4</th>\n",
       "      <td>T5</td>\n",
       "      <td>Multilift 4 Axles</td>\n",
       "      <td>[Waste]</td>\n",
       "      <td>[Standard Access]</td>\n",
       "      <td>[Pont 13 m³]</td>\n",
       "      <td>True</td>\n",
       "    </tr>\n",
       "  </tbody>\n",
       "</table>\n",
       "</div>"
      ],
      "text/plain": [
       "  Truck_ID                Truck_Type          Category           Capabilities  \\\n",
       "0       T1         Multilift 4 Axles  [Waste, Enrobée]      [Standard Access]   \n",
       "1       T2         Multilift 4 Axles  [Waste, Enrobée]      [Standard Access]   \n",
       "2       T3  Multilift 4 Axles Tridem  [Waste, Enrobée]     [Difficult Access]   \n",
       "3       T4       Camion-grue 4 Axles            [Grue]  [Equipped with Crane]   \n",
       "4       T5         Multilift 4 Axles           [Waste]      [Standard Access]   \n",
       "\n",
       "                                Possible_Equipment  Available  \n",
       "0  [Benne 10 m³, Benne 20 m³, Thermos, Pont 13 m³]       True  \n",
       "1  [Benne 10 m³, Benne 20 m³, Thermos, Pont 13 m³]       True  \n",
       "2  [Benne 10 m³, Benne 20 m³, Thermos, Pont 13 m³]       True  \n",
       "3                          [Grue, Remorque Tandem]       True  \n",
       "4                                     [Pont 13 m³]       True  "
      ]
     },
     "execution_count": 28,
     "metadata": {},
     "output_type": "execute_result"
    }
   ],
   "source": [
    "# Define truck types with their capabilities and possible equipment\n",
    "truck_types = [\n",
    "    {\n",
    "        'Truck_ID': 'T1',\n",
    "        'Truck_Type': 'Multilift 4 Axles',\n",
    "        'Category': ['Waste', 'Enrobée'],\n",
    "        'Capabilities': ['Standard Access'],\n",
    "        'Possible_Equipment': ['Benne 10 m³', 'Benne 20 m³', 'Thermos', 'Pont 13 m³'],\n",
    "        'Available': True\n",
    "    },\n",
    "    {\n",
    "        'Truck_ID': 'T2',\n",
    "        'Truck_Type': 'Multilift 4 Axles',\n",
    "        'Category': ['Waste', 'Enrobée'],\n",
    "        'Capabilities': ['Standard Access'],\n",
    "        'Possible_Equipment': ['Benne 10 m³', 'Benne 20 m³', 'Thermos', 'Pont 13 m³'],\n",
    "        'Available': True\n",
    "    },\n",
    "    {\n",
    "        'Truck_ID': 'T3',\n",
    "        'Truck_Type': 'Multilift 4 Axles Tridem',\n",
    "        'Category': ['Waste', 'Enrobée'],\n",
    "        'Capabilities': ['Difficult Access'],\n",
    "        'Possible_Equipment': ['Benne 10 m³', 'Benne 20 m³', 'Thermos', 'Pont 13 m³'],\n",
    "        'Available': True\n",
    "    },\n",
    "    {\n",
    "        'Truck_ID': 'T4',\n",
    "        'Truck_Type': 'Camion-grue 4 Axles',\n",
    "        'Category': ['Grue'],\n",
    "        'Capabilities': ['Equipped with Crane'],\n",
    "        'Possible_Equipment': ['Grue', 'Remorque Tandem'],\n",
    "        'Available': True\n",
    "    },\n",
    "    {\n",
    "        'Truck_ID': 'T5',\n",
    "        'Truck_Type': 'Multilift 4 Axles',\n",
    "        'Category': ['Waste'],\n",
    "        'Capabilities': ['Standard Access'],\n",
    "        'Possible_Equipment': ['Pont 13 m³'],\n",
    "        'Available': True\n",
    "    }\n",
    "]\n",
    "\n",
    "# Convert to DataFrame for better handling\n",
    "trucks_df = pd.DataFrame(truck_types)\n",
    "trucks_df\n"
   ]
  },
  {
   "cell_type": "code",
   "execution_count": 29,
   "metadata": {},
   "outputs": [],
   "source": [
    "# Define client needs without specifying equipment\n",
    "client_needs = ['Waste', 'Enrobée', 'Grue']\n",
    "\n",
    "# Define time windows\n",
    "time_windows = [\n",
    "    ('Morning', '08:00', '12:00'),\n",
    "    ('Afternoon', '13:00', '17:00'),\n",
    "    ('All Day', '08:00', '17:00')\n",
    "]\n"
   ]
  },
  {
   "cell_type": "code",
   "execution_count": 30,
   "metadata": {},
   "outputs": [],
   "source": [
    "# Paris geographical boundaries\n",
    "paris_bounds = {\n",
    "    'lat_min': 48.815573,\n",
    "    'lat_max': 48.902144,\n",
    "    'lon_min': 2.224199,\n",
    "    'lon_max': 2.469920\n",
    "}\n"
   ]
  },
  {
   "cell_type": "code",
   "execution_count": 31,
   "metadata": {},
   "outputs": [],
   "source": [
    "def generate_random_location(num_locations):\n",
    "    latitudes = np.random.uniform(paris_bounds['lat_min'], paris_bounds['lat_max'], num_locations)\n",
    "    longitudes = np.random.uniform(paris_bounds['lon_min'], paris_bounds['lon_max'], num_locations)\n",
    "    return pd.DataFrame({\n",
    "        'Latitude': latitudes,\n",
    "        'Longitude': longitudes\n",
    "    })\n"
   ]
  },
  {
   "cell_type": "code",
   "execution_count": 32,
   "metadata": {},
   "outputs": [],
   "source": [
    "def generate_clients(num_clients, waste_ratio=0.6, enrobee_ratio=0.3, grue_ratio=0.1,\n",
    "                     difficult_access_ratio=0.2, time_window_distribution=None):\n",
    "    \"\"\"\n",
    "    Generates fake client data without assigning required equipment.\n",
    "    \"\"\"\n",
    "    if time_window_distribution is None:\n",
    "        time_window_distribution = {'Morning': 0.4, 'Afternoon': 0.4, 'All Day': 0.2}\n",
    "    \n",
    "    # Ensure the ratios sum up to 1\n",
    "    total_ratio = waste_ratio + enrobee_ratio + grue_ratio\n",
    "    if total_ratio != 1.0:\n",
    "        print(\"Adjusting ratios to sum up to 1.0\")\n",
    "        waste_ratio /= total_ratio\n",
    "        enrobee_ratio /= total_ratio\n",
    "        grue_ratio /= total_ratio\n",
    "\n",
    "    # Assign client needs based on ratios\n",
    "    needs = np.random.choice(client_needs,\n",
    "                             size=num_clients,\n",
    "                             p=[waste_ratio, enrobee_ratio, grue_ratio])\n",
    "\n",
    "    # Assign access difficulty\n",
    "    access_difficulty = np.random.choice(['Yes', 'No'],\n",
    "                                         size=num_clients,\n",
    "                                         p=[difficult_access_ratio, 1 - difficult_access_ratio])\n",
    "\n",
    "    # Assign time windows based on distribution\n",
    "    time_window_labels = list(time_window_distribution.keys())\n",
    "    time_window_probs = list(time_window_distribution.values())\n",
    "    time_window = np.random.choice(time_window_labels,\n",
    "                                   size=num_clients,\n",
    "                                   p=time_window_probs)\n",
    "\n",
    "    # Generate random locations\n",
    "    locations = generate_random_location(num_clients)\n",
    "\n",
    "    # Assign volumes based on client needs\n",
    "    volumes_t = []\n",
    "    volumes_kg = []\n",
    "    for need in needs:\n",
    "        if need == 'Waste':\n",
    "            volume = np.random.uniform(10, 20)  # in tonnes\n",
    "        elif need == 'Enrobée':\n",
    "            volume = np.random.uniform(13, 18)  # in tonnes\n",
    "        elif need == 'Grue':\n",
    "            volume = np.random.uniform(8.5, 17)  # in tonnes\n",
    "        volumes_t.append(round(volume, 2))\n",
    "        volumes_kg.append(round(volume * 1000, 2))  # Convert to kg\n",
    "\n",
    "    clients_df = pd.DataFrame({\n",
    "        'Client_ID': [f'C{str(i).zfill(3)}' for i in range(1, num_clients + 1)],\n",
    "        'Need': needs,\n",
    "        'Volume_t': volumes_t,\n",
    "        'Volume_kg': volumes_kg,\n",
    "        'Access_Difficulty': access_difficulty,\n",
    "        'Time_Window_Label': time_window,\n",
    "        'Latitude': locations['Latitude'],\n",
    "        'Longitude': locations['Longitude']\n",
    "    })\n",
    "\n",
    "    return clients_df\n"
   ]
  },
  {
   "cell_type": "code",
   "execution_count": 33,
   "metadata": {},
   "outputs": [],
   "source": [
    "def map_time_windows(clients_df):\n",
    "    time_window_map = {\n",
    "        'Morning': ('08:00', '12:00'),\n",
    "        'Afternoon': ('13:00', '17:00'),\n",
    "        'All Day': ('08:00', '17:00')\n",
    "    }\n",
    "    \n",
    "    clients_df['Time_Window_Start'] = clients_df['Time_Window_Label'].map(lambda x: time_window_map[x][0])\n",
    "    clients_df['Time_Window_End'] = clients_df['Time_Window_Label'].map(lambda x: time_window_map[x][1])\n",
    "    \n",
    "    return clients_df\n"
   ]
  },
  {
   "cell_type": "code",
   "execution_count": 34,
   "metadata": {},
   "outputs": [
    {
     "data": {
      "application/vnd.jupyter.widget-view+json": {
       "model_id": "8a235f2c9f2647618e1ef81e5b0226b3",
       "version_major": 2,
       "version_minor": 0
      },
      "text/plain": [
       "interactive(children=(IntSlider(value=50, continuous_update=False, description='Number of Clients:', max=200, …"
      ]
     },
     "metadata": {},
     "output_type": "display_data"
    }
   ],
   "source": [
    "# Define widgets\n",
    "num_clients_widget = widgets.IntSlider(value=50, min=10, max=200, step=10,\n",
    "                                       description='Number of Clients:', continuous_update=False)\n",
    "\n",
    "waste_ratio_widget = widgets.FloatSlider(value=0.6, min=0.0, max=1.0, step=0.05,\n",
    "                                         description='Waste Ratio:', continuous_update=False)\n",
    "\n",
    "enrobee_ratio_widget = widgets.FloatSlider(value=0.3, min=0.0, max=1.0, step=0.05,\n",
    "                                           description='Enrobée Ratio:', continuous_update=False)\n",
    "\n",
    "grue_ratio_widget = widgets.FloatSlider(value=0.1, min=0.0, max=1.0, step=0.05,\n",
    "                                        description='Grue Ratio:', continuous_update=False)\n",
    "\n",
    "difficult_access_ratio_widget = widgets.FloatSlider(value=0.2, min=0.0, max=1.0, step=0.05,\n",
    "                                                   description='Difficult Access %:', continuous_update=False)\n",
    "\n",
    "@interact(num_clients=num_clients_widget,\n",
    "          waste_ratio=waste_ratio_widget,\n",
    "          enrobee_ratio=enrobee_ratio_widget,\n",
    "          grue_ratio=grue_ratio_widget,\n",
    "          difficult_access_ratio=difficult_access_ratio_widget)\n",
    "def generate_data(num_clients, waste_ratio, enrobee_ratio, grue_ratio, difficult_access_ratio):\n",
    "    # Validate that ratios sum to 1.0\n",
    "    total_ratio = waste_ratio + enrobee_ratio + grue_ratio\n",
    "    if total_ratio != 1.0:\n",
    "        print(\"Adjusting ratios to sum up to 1.0\")\n",
    "        waste_ratio /= total_ratio\n",
    "        enrobee_ratio /= total_ratio\n",
    "        grue_ratio /= total_ratio\n",
    "    \n",
    "    # Generate clients\n",
    "    clients = generate_clients(\n",
    "        num_clients=num_clients,\n",
    "        waste_ratio=waste_ratio,\n",
    "        enrobee_ratio=enrobee_ratio,\n",
    "        grue_ratio=grue_ratio,\n",
    "        difficult_access_ratio=difficult_access_ratio\n",
    "    )\n",
    "    \n",
    "    # Map time windows\n",
    "    clients = map_time_windows(clients)\n",
    "    \n",
    "    # Display the first few rows of the generated data\n",
    "    display(clients.head())\n",
    "    \n",
    "    # Store the generated clients in a global variable for later use\n",
    "    global generated_clients\n",
    "    generated_clients = clients\n"
   ]
  },
  {
   "cell_type": "code",
   "execution_count": 35,
   "metadata": {},
   "outputs": [],
   "source": [
    "def visualize_clients(clients_df):\n",
    "    # Initialize Folium map centered around Paris\n",
    "    paris_map = folium.Map(location=[48.8566, 2.3522], zoom_start=12)\n",
    "    \n",
    "    # Define color mapping based on client needs\n",
    "    color_map = {\n",
    "        'Waste': 'blue',\n",
    "        'Enrobée': 'green',\n",
    "        'Grue': 'red'\n",
    "    }\n",
    "    \n",
    "    marker_cluster = MarkerCluster().add_to(paris_map)\n",
    "    \n",
    "    for idx, row in clients_df.iterrows():\n",
    "        popup_text = (f\"Client ID: {row['Client_ID']}<br>\"\n",
    "                      f\"Need: {row['Need']}<br>\"\n",
    "                      f\"Volume: {row['Volume_kg']} kg<br>\"\n",
    "                      f\"Access Difficulty: {row['Access_Difficulty']}<br>\"\n",
    "                      f\"Time Window: {row['Time_Window_Start']} - {row['Time_Window_End']}\")\n",
    "        \n",
    "        icon = folium.Icon(color=color_map.get(row['Need'], 'gray'), icon='info-sign')\n",
    "        \n",
    "        folium.Marker(\n",
    "            location=[row['Latitude'], row['Longitude']],\n",
    "            popup=popup_text,\n",
    "            icon=icon\n",
    "        ).add_to(marker_cluster)\n",
    "    \n",
    "    display(paris_map)\n"
   ]
  },
  {
   "cell_type": "code",
   "execution_count": 36,
   "metadata": {},
   "outputs": [
    {
     "data": {
      "application/vnd.jupyter.widget-view+json": {
       "model_id": "4c73bb7bd5b240d68aa7b02d8358a77d",
       "version_major": 2,
       "version_minor": 0
      },
      "text/plain": [
       "Button(button_style='success', description='Visualize Clients on Map', style=ButtonStyle())"
      ]
     },
     "metadata": {},
     "output_type": "display_data"
    },
    {
     "data": {
      "application/vnd.jupyter.widget-view+json": {
       "model_id": "13469f62a48b4d6481241dd275270cfb",
       "version_major": 2,
       "version_minor": 0
      },
      "text/plain": [
       "Output()"
      ]
     },
     "metadata": {},
     "output_type": "display_data"
    }
   ],
   "source": [
    "visualize_button = widgets.Button(description=\"Visualize Clients on Map\", button_style='success')\n",
    "\n",
    "output_map = widgets.Output()\n",
    "\n",
    "def on_button_click(b):\n",
    "    with output_map:\n",
    "        clear_output()\n",
    "        if 'generated_clients' in globals():\n",
    "            visualize_clients(generated_clients)\n",
    "        else:\n",
    "            print(\"Please generate the data first.\")\n",
    "\n",
    "visualize_button.on_click(on_button_click)\n",
    "\n",
    "display(visualize_button, output_map)\n"
   ]
  },
  {
   "cell_type": "code",
   "execution_count": 37,
   "metadata": {},
   "outputs": [],
   "source": [
    "def display_summary(clients_df):\n",
    "    total = len(clients_df)\n",
    "    needs_counts = clients_df['Need'].value_counts()\n",
    "    access_counts = clients_df['Access_Difficulty'].value_counts()\n",
    "    time_window_counts = clients_df['Time_Window_Label'].value_counts()\n",
    "    \n",
    "    print(f\"Total Clients: {total}\\n\")\n",
    "    print(\"Clients per Need:\")\n",
    "    display(needs_counts)\n",
    "    print(\"\\nAccess Difficulty:\")\n",
    "    display(access_counts)\n",
    "    print(\"\\nTime Windows:\")\n",
    "    display(time_window_counts)\n"
   ]
  },
  {
   "cell_type": "code",
   "execution_count": 38,
   "metadata": {},
   "outputs": [
    {
     "data": {
      "application/vnd.jupyter.widget-view+json": {
       "model_id": "1f32608a502943f09b72aa5e9388c9c8",
       "version_major": 2,
       "version_minor": 0
      },
      "text/plain": [
       "Button(button_style='info', description='Display Summary', style=ButtonStyle())"
      ]
     },
     "metadata": {},
     "output_type": "display_data"
    },
    {
     "data": {
      "application/vnd.jupyter.widget-view+json": {
       "model_id": "79a0636a574d4b16929ed5e170a16cf0",
       "version_major": 2,
       "version_minor": 0
      },
      "text/plain": [
       "Output()"
      ]
     },
     "metadata": {},
     "output_type": "display_data"
    }
   ],
   "source": [
    "summary_button = widgets.Button(description=\"Display Summary\", button_style='info')\n",
    "\n",
    "output_summary = widgets.Output()\n",
    "\n",
    "def on_summary_click(b):\n",
    "    with output_summary:\n",
    "        clear_output()\n",
    "        if 'generated_clients' in globals():\n",
    "            display_summary(generated_clients)\n",
    "        else:\n",
    "            print(\"Please generate the data first.\")\n",
    "\n",
    "summary_button.on_click(on_summary_click)\n",
    "\n",
    "display(summary_button, output_summary)\n"
   ]
  },
  {
   "cell_type": "code",
   "execution_count": 39,
   "metadata": {},
   "outputs": [
    {
     "data": {
      "application/vnd.jupyter.widget-view+json": {
       "model_id": "df11a280617f402b8a49bd5463dd843c",
       "version_major": 2,
       "version_minor": 0
      },
      "text/plain": [
       "Button(button_style='warning', description='Export to JSON', style=ButtonStyle())"
      ]
     },
     "metadata": {},
     "output_type": "display_data"
    },
    {
     "data": {
      "application/vnd.jupyter.widget-view+json": {
       "model_id": "60c41fb2e14c4e559578692d4b94269b",
       "version_major": 2,
       "version_minor": 0
      },
      "text/plain": [
       "Output()"
      ]
     },
     "metadata": {},
     "output_type": "display_data"
    }
   ],
   "source": [
    "export_button = widgets.Button(description=\"Export to JSON\", button_style='warning')\n",
    "\n",
    "output_export = widgets.Output()\n",
    "\n",
    "def on_export_click(b):\n",
    "    with output_export:\n",
    "        clear_output()\n",
    "        if 'generated_clients' in globals():\n",
    "            # Reorder columns for clarity\n",
    "            export_df = generated_clients.copy()\n",
    "            \n",
    "            export_df = export_df[[\n",
    "                'Client_ID',\n",
    "                'Need',\n",
    "                'Volume_t',\n",
    "                'Volume_kg',\n",
    "                'Access_Difficulty',\n",
    "                'Time_Window_Label',\n",
    "                'Time_Window_Start',\n",
    "                'Time_Window_End',\n",
    "                'Latitude',\n",
    "                'Longitude'\n",
    "            ]]\n",
    "            \n",
    "            # Export to JSON with proper encoding\n",
    "            filename = f\"clients_{datetime.now().strftime('%Y%m%d_%H%M%S')}.json\"\n",
    "            export_df.to_json(filename, orient='records', lines=False, indent=4, force_ascii=False)\n",
    "            print(f\"Data exported to {filename}\")\n",
    "        else:\n",
    "            print(\"Please generate the data first.\")\n",
    "\n",
    "export_button.on_click(on_export_click)\n",
    "\n",
    "display(export_button, output_export)\n"
   ]
  },
  {
   "cell_type": "code",
   "execution_count": null,
   "metadata": {},
   "outputs": [],
   "source": []
  }
 ],
 "metadata": {
  "kernelspec": {
   "display_name": "Python 3",
   "language": "python",
   "name": "python3"
  },
  "language_info": {
   "codemirror_mode": {
    "name": "ipython",
    "version": 3
   },
   "file_extension": ".py",
   "mimetype": "text/x-python",
   "name": "python",
   "nbconvert_exporter": "python",
   "pygments_lexer": "ipython3",
   "version": "3.12.2"
  }
 },
 "nbformat": 4,
 "nbformat_minor": 2
}
