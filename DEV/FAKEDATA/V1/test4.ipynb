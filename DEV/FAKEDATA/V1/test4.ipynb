{
 "cells": [
  {
   "cell_type": "code",
   "metadata": {
    "collapsed": true,
    "ExecuteTime": {
     "end_time": "2024-09-27T13:41:00.024550200Z",
     "start_time": "2024-09-27T13:40:58.055775Z"
    }
   },
   "source": [
    "// Cell 1: Import necessary dependencies\n",
    "@file:DependsOn(\"ai.timefold.solver:timefold-solver-core:1.13.0\")\n",
    "@file:DependsOn(\"com.fasterxml.jackson.module:jackson-module-kotlin:2.17.1\")\n",
    "@file:DependsOn(\"org.jetbrains.kotlinx:kotlinx-serialization-json:1.5.1\")\n"
   ],
   "outputs": [],
   "execution_count": 1
  },
  {
   "metadata": {
    "ExecuteTime": {
     "end_time": "2024-09-27T13:41:04.365604600Z",
     "start_time": "2024-09-27T13:41:04.138891Z"
    }
   },
   "cell_type": "code",
   "source": [
    "// Cell 2: Import statements\n",
    "import com.fasterxml.jackson.annotation.JsonFormat\n",
    "import com.fasterxml.jackson.annotation.JsonProperty\n",
    "import com.fasterxml.jackson.module.kotlin.jacksonObjectMapper\n",
    "import com.fasterxml.jackson.module.kotlin.readValue\n",
    "import ai.timefold.solver.core.api.domain.entity.PlanningEntity\n",
    "import ai.timefold.solver.core.api.domain.lookup.PlanningId\n",
    "import ai.timefold.solver.core.api.domain.solution.PlanningSolution\n",
    "import ai.timefold.solver.core.api.domain.solution.PlanningScore\n",
    "import ai.timefold.solver.core.api.domain.variable.PlanningVariable\n",
    "import ai.timefold.solver.core.api.domain.variable.PlanningListVariable\n",
    "import ai.timefold.solver.core.api.score.buildin.hardsoftlong.HardSoftLongScore\n",
    "import ai.timefold.solver.core.api.score.stream.Constraint\n",
    "import ai.timefold.solver.core.api.score.stream.ConstraintFactory\n",
    "import ai.timefold.solver.core.api.score.stream.ConstraintProvider\n",
    "import ai.timefold.solver.core.api.score.stream.ConstraintCollectors\n",
    "import ai.timefold.solver.core.api.solver.SolverFactory\n",
    "import ai.timefold.solver.core.api.solver.Solver\n",
    "import java.io.File\n",
    "import java.time.Duration\n",
    "import java.time.LocalTime\n"
   ],
   "outputs": [],
   "execution_count": 2
  },
  {
   "metadata": {
    "ExecuteTime": {
     "end_time": "2024-09-27T13:41:15.645919900Z",
     "start_time": "2024-09-27T13:41:14.938458Z"
    }
   },
   "cell_type": "code",
   "source": [
    "// Cell 3: Define Location class\n",
    "data class Location(\n",
    "    val latitude: Double,\n",
    "    val longitude: Double\n",
    ") {\n",
    "    fun distanceTo(other: Location): Double {\n",
    "        val earthRadius = 6371e3 // Earth radius in meters\n",
    "        val lat1 = Math.toRadians(latitude)\n",
    "        val lat2 = Math.toRadians(other.latitude)\n",
    "        val deltaLat = Math.toRadians(other.latitude - latitude)\n",
    "        val deltaLon = Math.toRadians(other.longitude - longitude)\n",
    "\n",
    "        val a = Math.sin(deltaLat / 2) * Math.sin(deltaLat / 2) +\n",
    "                Math.cos(lat1) * Math.cos(lat2) *\n",
    "                Math.sin(deltaLon / 2) * Math.sin(deltaLon / 2)\n",
    "        val c = 2 * Math.atan2(Math.sqrt(a), Math.sqrt(1 - a))\n",
    "\n",
    "        val distance = earthRadius * c // Distance in meters\n",
    "        return distance\n",
    "    }\n",
    "}\n"
   ],
   "outputs": [],
   "execution_count": 3
  },
  {
   "metadata": {
    "ExecuteTime": {
     "end_time": "2024-09-27T13:41:28.938750800Z",
     "start_time": "2024-09-27T13:41:28.614489300Z"
    }
   },
   "cell_type": "code",
   "source": [
    "// Cell 4: Define Truck and Client Classes\n",
    "\n",
    "// Define Truck class as a problem fact\n",
    "data class Truck(\n",
    "    @JsonProperty(\"Truck_ID\")\n",
    "    val truckId: String,\n",
    "\n",
    "    @JsonProperty(\"Truck_Type\")\n",
    "    val truckType: String, // e.g., \"Multilift 4 essieux\", \"Multilift 4 essieux Tridem\", \"Camion-grue 4 essieux\"\n",
    "\n",
    "    @JsonProperty(\"Capacity_Kg\")\n",
    "    val capacityKg: Double,\n",
    "\n",
    "    @JsonProperty(\"Equipment\")\n",
    "    val equipment: String, // e.g., \"Benne 10 m3\", \"Benne 20 m3\", \"Pont 13 m3\", \"Thermosilo\"\n",
    "\n",
    "    @JsonProperty(\"Can_Access_Difficult_Locations\")\n",
    "    val canAccessDifficultLocations: Boolean,\n",
    "\n",
    "    @JsonProperty(\"Home_Location\")\n",
    "    val homeLocation: Location // Warehouse location\n",
    ") {\n",
    "    override fun toString(): String = truckId\n",
    "}\n",
    "\n",
    "// Define Client class as a planning entity\n",
    "@PlanningEntity\n",
    "data class Client(\n",
    "    @JsonProperty(\"Client_ID\")\n",
    "    val clientId: String,\n",
    "\n",
    "    @JsonProperty(\"Need\")\n",
    "    val need: String, // \"Waste\", \"Enrobé\", \"Grue\"\n",
    "\n",
    "    @JsonProperty(\"Volume_t\")\n",
    "    val volumeT: Double,\n",
    "\n",
    "    @JsonProperty(\"Volume_kg\")\n",
    "    val volumeKg: Double,\n",
    "\n",
    "    @JsonProperty(\"Access_Difficulty\")\n",
    "    val accessDifficulty: String, // \"Yes\" or \"No\"\n",
    "\n",
    "    @JsonProperty(\"Time_Window_Label\")\n",
    "    val timeWindowLabel: String, // \"Morning\", \"Afternoon\", \"All Day\"\n",
    "\n",
    "    @JsonProperty(\"Time_Window_Start\")\n",
    "    val timeWindowStart: String, // \"08:00\", \"13:00\", etc.\n",
    "\n",
    "    @JsonProperty(\"Time_Window_End\")\n",
    "    val timeWindowEnd: String,\n",
    "\n",
    "    @JsonProperty(\"Latitude\")\n",
    "    val latitude: Double,\n",
    "\n",
    "    @JsonProperty(\"Longitude\")\n",
    "    val longitude: Double\n",
    ") {\n",
    "    val location: Location = Location(latitude, longitude)\n",
    "\n",
    "    // Convert \"Yes\"/\"No\" to Boolean\n",
    "    val hasAccessDifficulty: Boolean\n",
    "        get() = accessDifficulty.equals(\"Yes\", ignoreCase = true)\n",
    "\n",
    "    // Time windows as LocalTime\n",
    "    val timeWindowStartTime: LocalTime\n",
    "        get() = LocalTime.parse(timeWindowStart, DateTimeFormatter.ofPattern(\"HH:mm\"))\n",
    "\n",
    "    val timeWindowEndTime: LocalTime\n",
    "        get() = LocalTime.parse(timeWindowEnd, DateTimeFormatter.ofPattern(\"HH:mm\"))\n",
    "\n",
    "    // Planning variable: Assign a Truck to this Client\n",
    "    @PlanningVariable(valueRangeProviderRefs = [\"truckRange\"], nullable = false)\n",
    "    var truck: Truck? = null\n",
    "\n",
    "    // No-arg constructor for Timefold\n",
    "    constructor() : this(\n",
    "        clientId = \"\",\n",
    "        need = \"\",\n",
    "        volumeT = 0.0,\n",
    "        volumeKg = 0.0,\n",
    "        accessDifficulty = \"No\",\n",
    "        timeWindowLabel = \"\",\n",
    "        timeWindowStart = \"00:00\",\n",
    "        timeWindowEnd = \"00:00\",\n",
    "        latitude = 0.0,\n",
    "        longitude = 0.0\n",
    "    )\n",
    "\n",
    "    override fun toString(): String = clientId\n",
    "}\n"
   ],
   "outputs": [
    {
     "name": "stderr",
     "output_type": "stream",
     "text": [
      "Line_4.jupyter.kts (67:50 - 67) Unresolved reference: DateTimeFormatter\n",
      "Line_4.jupyter.kts (70:48 - 65) Unresolved reference: DateTimeFormatter"
     ]
    }
   ],
   "execution_count": 4
  },
  {
   "metadata": {},
   "cell_type": "code",
   "outputs": [],
   "execution_count": null,
   "source": ""
  }
 ],
 "metadata": {
  "kernelspec": {
   "display_name": "Kotlin",
   "language": "kotlin",
   "name": "kotlin"
  },
  "language_info": {
   "name": "kotlin",
   "version": "1.9.23",
   "mimetype": "text/x-kotlin",
   "file_extension": ".kt",
   "pygments_lexer": "kotlin",
   "codemirror_mode": "text/x-kotlin",
   "nbconvert_exporter": ""
  }
 },
 "nbformat": 4,
 "nbformat_minor": 0
}
