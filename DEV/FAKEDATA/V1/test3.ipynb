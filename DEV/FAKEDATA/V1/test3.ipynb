{
 "cells": [
  {
   "cell_type": "code",
   "metadata": {
    "collapsed": true,
    "ExecuteTime": {
     "end_time": "2024-09-27T13:30:31.404887800Z",
     "start_time": "2024-09-27T13:30:28.766712Z"
    }
   },
   "source": [
    "@file:DependsOn(\"ai.timefold.solver:timefold-solver-core:1.13.0\")\n",
    "@file:DependsOn(\"com.fasterxml.jackson.module:jackson-module-kotlin:2.17.1\")\n",
    "@file:DependsOn(\"org.jetbrains.kotlinx:kotlinx-serialization-json:1.5.1\")\n",
    "@file:DependsOn(\"org.slf4j:slf4j-simple:2.0.7\") // For logging\n"
   ],
   "outputs": [],
   "execution_count": 1
  },
  {
   "metadata": {
    "ExecuteTime": {
     "end_time": "2024-09-27T13:30:37.072031Z",
     "start_time": "2024-09-27T13:30:36.961296Z"
    }
   },
   "cell_type": "code",
   "source": [
    "import com.fasterxml.jackson.annotation.JsonFormat\n",
    "import com.fasterxml.jackson.module.kotlin.jacksonObjectMapper\n",
    "import com.fasterxml.jackson.module.kotlin.readValue\n",
    "import ai.timefold.solver.core.api.domain.solution.PlanningSolution\n",
    "import ai.timefold.solver.core.api.domain.solution.PlanningScore\n",
    "import ai.timefold.solver.core.api.domain.variable.PlanningListVariable\n",
    "import ai.timefold.solver.core.api.score.buildin.hardsoftlong.HardSoftLongScore\n",
    "import ai.timefold.solver.core.api.score.stream.Constraint\n",
    "import ai.timefold.solver.core.api.score.stream.ConstraintFactory\n",
    "import ai.timefold.solver.core.api.score.stream.ConstraintProvider\n",
    "import ai.timefold.solver.core.api.score.stream.ConstraintCollectors\n",
    "import ai.timefold.solver.core.api.solver.SolverFactory\n",
    "import ai.timefold.solver.core.api.solver.Solver\n",
    "import java.io.File\n",
    "import java.time.Duration\n",
    "import java.time.LocalTime\n",
    "import org.slf4j.LoggerFactory\n"
   ],
   "outputs": [],
   "execution_count": 2
  },
  {
   "metadata": {
    "ExecuteTime": {
     "end_time": "2024-09-27T13:30:45.292252300Z",
     "start_time": "2024-09-27T13:30:44.758823Z"
    }
   },
   "cell_type": "code",
   "source": [
    "data class Location(\n",
    "    val latitude: Double,\n",
    "    val longitude: Double\n",
    ") {\n",
    "    fun distanceTo(other: Location): Double {\n",
    "        val earthRadius = 6371e3 // Earth radius in meters\n",
    "        val lat1 = Math.toRadians(latitude)\n",
    "        val lat2 = Math.toRadians(other.latitude)\n",
    "        val deltaLat = Math.toRadians(other.latitude - latitude)\n",
    "        val deltaLon = Math.toRadians(other.longitude - longitude)\n",
    "\n",
    "        val a = Math.sin(deltaLat / 2) * Math.sin(deltaLat / 2) +\n",
    "                Math.cos(lat1) * Math.cos(lat2) *\n",
    "                Math.sin(deltaLon / 2) * Math.sin(deltaLon / 2)\n",
    "        val c = 2 * Math.atan2(Math.sqrt(a), Math.sqrt(1 - a))\n",
    "\n",
    "        val distance = earthRadius * c // Distance in meters\n",
    "        return distance\n",
    "    }\n",
    "}\n"
   ],
   "outputs": [],
   "execution_count": 3
  },
  {
   "metadata": {
    "ExecuteTime": {
     "end_time": "2024-09-27T13:30:52.761494100Z",
     "start_time": "2024-09-27T13:30:52.410074800Z"
    }
   },
   "cell_type": "code",
   "source": [
    "import com.fasterxml.jackson.annotation.JsonProperty\n",
    "import ai.timefold.solver.core.api.domain.variable.InverseRelationShadowVariable\n",
    "import ai.timefold.solver.core.api.domain.variable.NextElementShadowVariable\n",
    "import ai.timefold.solver.core.api.domain.variable.PreviousElementShadowVariable\n",
    "import ai.timefold.solver.core.api.domain.lookup.PlanningId\n",
    "import java.time.LocalTime\n",
    "import java.time.format.DateTimeFormatter\n",
    "\n",
    "// Define Client class (Problem Fact, not a Planning Entity)\n",
    "data class Client(\n",
    "    @JsonProperty(\"Client_ID\")\n",
    "    val clientId: String,\n",
    "\n",
    "    @JsonProperty(\"Need\")\n",
    "    val need: String, // \"Waste\", \"Enrobé\", \"Grue\"\n",
    "\n",
    "    @JsonProperty(\"Volume_t\")\n",
    "    val volumeT: Double,\n",
    "\n",
    "    @JsonProperty(\"Volume_kg\")\n",
    "    val volumeKg: Double,\n",
    "\n",
    "    @JsonProperty(\"Access_Difficulty\")\n",
    "    val accessDifficulty: String, // \"Yes\" or \"No\"\n",
    "\n",
    "    @JsonProperty(\"Time_Window_Label\")\n",
    "    val timeWindowLabel: String, // \"Morning\", \"Afternoon\", \"All Day\"\n",
    "\n",
    "    @JsonProperty(\"Time_Window_Start\")\n",
    "    val timeWindowStart: String, // \"08:00\", \"13:00\", etc.\n",
    "\n",
    "    @JsonProperty(\"Time_Window_End\")\n",
    "    val timeWindowEnd: String,\n",
    "\n",
    "    @JsonProperty(\"Latitude\")\n",
    "    val latitude: Double,\n",
    "\n",
    "    @JsonProperty(\"Longitude\")\n",
    "    val longitude: Double\n",
    ") {\n",
    "    val location: Location = Location(latitude, longitude)\n",
    "\n",
    "    // Convert \"Yes\"/\"No\" to Boolean\n",
    "    val hasAccessDifficulty: Boolean\n",
    "        get() = accessDifficulty.equals(\"Yes\", ignoreCase = true)\n",
    "\n",
    "    // Time windows as LocalTime\n",
    "    val timeWindowStartTime: LocalTime\n",
    "        get() = LocalTime.parse(timeWindowStart, DateTimeFormatter.ofPattern(\"HH:mm\"))\n",
    "\n",
    "    val timeWindowEndTime: LocalTime\n",
    "        get() = LocalTime.parse(timeWindowEnd, DateTimeFormatter.ofPattern(\"HH:mm\"))\n",
    "\n",
    "    override fun toString(): String = clientId\n",
    "}\n",
    "\n",
    "// Define Truck class\n",
    "@PlanningEntity\n",
    "data class Truck(\n",
    "    @PlanningId\n",
    "    val truckId: String,\n",
    "\n",
    "    val truckType: String, // e.g., \"Multilift 4 essieux\", \"Multilift 4 essieux Tridem\", \"Camion-grue 4 essieux\"\n",
    "\n",
    "    val capacityKg: Double,\n",
    "\n",
    "    val equipment: String, // e.g., \"Benne 10 m3\", \"Benne 20 m3\", \"Pont 13 m3\", \"Thermosilo\"\n",
    "\n",
    "    val canAccessDifficultLocations: Boolean,\n",
    "\n",
    "    val homeLocation: Location // Warehouse location\n",
    ") {\n",
    "    @PlanningListVariable(valueRangeProviderRefs = [\"clientRange\"], nullable = true) // Allow unassigned clients\n",
    "    var assignedClients: MutableList<Client> = mutableListOf()\n",
    "\n",
    "    // No-arg constructor for Timefold\n",
    "    constructor() : this(\n",
    "        truckId = \"\",\n",
    "        truckType = \"\",\n",
    "        capacityKg = 0.0,\n",
    "        equipment = \"\",\n",
    "        canAccessDifficultLocations = false,\n",
    "        homeLocation = Location(0.0, 0.0)\n",
    "    )\n",
    "\n",
    "    override fun toString(): String = truckId\n",
    "}\n"
   ],
   "outputs": [
    {
     "name": "stderr",
     "output_type": "stream",
     "text": [
      "Line_4.jupyter.kts (58:2 - 16) Unresolved reference: PlanningEntity\n",
      "Line_4.jupyter.kts (73:69 - 77) Cannot find a parameter with this name: nullable"
     ]
    }
   ],
   "execution_count": 4
  },
  {
   "metadata": {},
   "cell_type": "code",
   "outputs": [],
   "execution_count": null,
   "source": ""
  }
 ],
 "metadata": {
  "kernelspec": {
   "display_name": "Kotlin",
   "language": "kotlin",
   "name": "kotlin"
  },
  "language_info": {
   "name": "kotlin",
   "version": "1.9.23",
   "mimetype": "text/x-kotlin",
   "file_extension": ".kt",
   "pygments_lexer": "kotlin",
   "codemirror_mode": "text/x-kotlin",
   "nbconvert_exporter": ""
  }
 },
 "nbformat": 4,
 "nbformat_minor": 0
}
