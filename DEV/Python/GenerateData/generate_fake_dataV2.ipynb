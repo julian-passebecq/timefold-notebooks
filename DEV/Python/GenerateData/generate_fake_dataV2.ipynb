{
 "cells": [
  {
   "cell_type": "code",
   "execution_count": 6,
   "metadata": {},
   "outputs": [],
   "source": [
    "# Cellule: Importations\n",
    "import json\n",
    "import random\n",
    "from datetime import datetime, timedelta\n",
    "import ipywidgets as widgets\n",
    "from IPython.display import display\n",
    "from geopy.geocoders import Nominatim\n",
    "from geopy.distance import geodesic\n"
   ]
  },
  {
   "cell_type": "code",
   "execution_count": 7,
   "metadata": {},
   "outputs": [
    {
     "data": {
      "application/vnd.jupyter.widget-view+json": {
       "model_id": "f1031cc10eaf41da91066472f96a224d",
       "version_major": 2,
       "version_minor": 0
      },
      "text/plain": [
       "IntSlider(value=5, description='Nombre de véhicules:', max=20, min=1)"
      ]
     },
     "metadata": {},
     "output_type": "display_data"
    },
    {
     "data": {
      "application/vnd.jupyter.widget-view+json": {
       "model_id": "e0ad98196e9540e7bcb538566b93f554",
       "version_major": 2,
       "version_minor": 0
      },
      "text/plain": [
       "IntSlider(value=20, description='Nombre de visites:', min=1)"
      ]
     },
     "metadata": {},
     "output_type": "display_data"
    },
    {
     "data": {
      "application/vnd.jupyter.widget-view+json": {
       "model_id": "d83cc0e40fa246ffaea6c696a9c22948",
       "version_major": 2,
       "version_minor": 0
      },
      "text/plain": [
       "IntSlider(value=100, description='Capacité véhicule:', max=200, min=50)"
      ]
     },
     "metadata": {},
     "output_type": "display_data"
    },
    {
     "data": {
      "application/vnd.jupyter.widget-view+json": {
       "model_id": "55597f746e1d4b54a2f2b98c19ef189a",
       "version_major": 2,
       "version_minor": 0
      },
      "text/plain": [
       "IntSlider(value=30, description='Charge max visite:', max=50, min=1)"
      ]
     },
     "metadata": {},
     "output_type": "display_data"
    }
   ],
   "source": [
    "# Cellule: Widgets de paramètres\n",
    "nombre_vehicules = widgets.IntSlider(value=5, min=1, max=20, description='Nombre de véhicules:')\n",
    "nombre_visites = widgets.IntSlider(value=20, min=1, max=100, description='Nombre de visites:')\n",
    "capacite_vehicule = widgets.IntSlider(value=100, min=50, max=200, description='Capacité véhicule:')\n",
    "charge_max_visite = widgets.IntSlider(value=30, min=1, max=50, description='Charge max visite:')\n",
    "display(nombre_vehicules, nombre_visites, capacite_vehicule, charge_max_visite)\n"
   ]
  },
  {
   "cell_type": "code",
   "execution_count": 8,
   "metadata": {},
   "outputs": [
    {
     "name": "stdout",
     "output_type": "stream",
     "text": [
      "Données générées et sauvegardées dans vehicle-routing-data.json\n"
     ]
    }
   ],
   "source": [
    "# Cellule: Génération des données\n",
    "# Utilisation du géocodeur pour obtenir les coordonnées de Genève\n",
    "geolocator = Nominatim(user_agent=\"my_app\")\n",
    "location_geneve = geolocator.geocode(\"Genève, Suisse\")\n",
    "latitude_centre = location_geneve.latitude\n",
    "longitude_centre = location_geneve.longitude\n",
    "\n",
    "# Fonction pour générer des coordonnées aléatoires autour de Genève\n",
    "def generer_coordonnees_aleatoires(n, rayon_km=10):\n",
    "    points = []\n",
    "    for _ in range(n):\n",
    "        angle = random.uniform(0, 360)\n",
    "        distance = random.uniform(0, rayon_km)\n",
    "        delta_lat = (distance / 111) * math.cos(math.radians(angle))\n",
    "        delta_lon = (distance / 111) * math.sin(math.radians(angle)) / math.cos(math.radians(latitude_centre))\n",
    "        lat = latitude_centre + delta_lat\n",
    "        lon = longitude_centre + delta_lon\n",
    "        points.append([lat, lon])\n",
    "    return points\n",
    "\n",
    "import math\n",
    "\n",
    "# Génération des véhicules\n",
    "vehicules = []\n",
    "coord_vehicules = generer_coordonnees_aleatoires(nombre_vehicules.value, rayon_km=5)\n",
    "for i in range(nombre_vehicules.value):\n",
    "    vehicule = {\n",
    "        \"name\": f\"Véhicule {chr(65 + i)}\",\n",
    "        \"homeLocation\": coord_vehicules[i],\n",
    "        \"capacity\": capacite_vehicule.value\n",
    "    }\n",
    "    vehicules.append(vehicule)\n",
    "\n",
    "# Génération des visites\n",
    "visites = []\n",
    "coord_visites = generer_coordonnees_aleatoires(nombre_visites.value, rayon_km=10)\n",
    "for i in range(nombre_visites.value):\n",
    "    charge = random.randint(1, charge_max_visite.value)\n",
    "    # Génération de fenêtres temporelles aléatoires\n",
    "    debut_fenetre = datetime.now() + timedelta(hours=random.randint(8, 12))\n",
    "    fin_fenetre = debut_fenetre + timedelta(hours=random.randint(1, 4))\n",
    "    visite = {\n",
    "        \"name\": f\"Visite {i+1}\",\n",
    "        \"location\": coord_visites[i],\n",
    "        \"load\": charge,\n",
    "        \"timeWindow\": {\n",
    "            \"start\": debut_fenetre.isoformat(),\n",
    "            \"end\": fin_fenetre.isoformat()\n",
    "        }\n",
    "    }\n",
    "    visites.append(visite)\n",
    "\n",
    "# Création de l'objet de données\n",
    "donnees = {\n",
    "    \"name\": \"geneva-data\",\n",
    "    \"vehicles\": vehicules,\n",
    "    \"visits\": visites\n",
    "}\n",
    "\n",
    "# Sauvegarde dans un fichier JSON\n",
    "with open('vehicle-routing-data.json', 'w', encoding='utf-8') as f:\n",
    "    json.dump(donnees, f, ensure_ascii=False, indent=4)\n",
    "\n",
    "print(\"Données générées et sauvegardées dans vehicle-routing-data.json\")\n"
   ]
  }
 ],
 "metadata": {
  "kernelspec": {
   "display_name": "Python 3",
   "language": "python",
   "name": "python3"
  },
  "language_info": {
   "codemirror_mode": {
    "name": "ipython",
    "version": 3
   },
   "file_extension": ".py",
   "mimetype": "text/x-python",
   "name": "python",
   "nbconvert_exporter": "python",
   "pygments_lexer": "ipython3",
   "version": "3.12.2"
  }
 },
 "nbformat": 4,
 "nbformat_minor": 2
}
