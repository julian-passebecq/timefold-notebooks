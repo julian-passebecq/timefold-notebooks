{
 "cells": [
  {
   "cell_type": "code",
   "execution_count": 7,
   "metadata": {},
   "outputs": [
    {
     "data": {
      "application/vnd.jupyter.widget-view+json": {
       "model_id": "1680722f6fa4490ab8ab95f9833a74a5",
       "version_major": 2,
       "version_minor": 0
      },
      "text/plain": [
       "interactive(children=(IntSlider(value=3, description='Nombre de véhicules', max=10, min=1), IntSlider(value=10…"
      ]
     },
     "metadata": {},
     "output_type": "display_data"
    }
   ],
   "source": [
    "# Importer les bibliothèques nécessaires\n",
    "import json\n",
    "import random\n",
    "import numpy as np\n",
    "from ipywidgets import interact, IntSlider, FloatSlider, DatePicker\n",
    "import ipywidgets as widgets\n",
    "import datetime\n",
    "\n",
    "# Définir les limites géographiques approximatives de Genève\n",
    "GENEVA_LATITUDE_RANGE = (46.1875, 46.2561)\n",
    "GENEVA_LONGITUDE_RANGE = (6.1153, 6.1669)\n",
    "\n",
    "# Fonction pour générer des coordonnées aléatoires à Genève\n",
    "def generate_random_location():\n",
    "    latitude = random.uniform(*GENEVA_LATITUDE_RANGE)\n",
    "    longitude = random.uniform(*GENEVA_LONGITUDE_RANGE)\n",
    "    return [latitude, longitude]\n",
    "\n",
    "# Fonction pour générer les données fictives\n",
    "def generate_data(num_vehicles, num_visits, vehicle_capacity, date):\n",
    "    data = {\n",
    "        \"name\": \"geneva-problem\",\n",
    "        \"vehicles\": [],\n",
    "        \"visits\": []\n",
    "    }\n",
    "\n",
    "    # Générer les véhicules\n",
    "    for i in range(num_vehicles):\n",
    "        vehicle = {\n",
    "            \"name\": f\"Vehicle {chr(65 + i)}\",\n",
    "            \"homeLocation\": generate_random_location(),\n",
    "            \"capacity\": vehicle_capacity\n",
    "        }\n",
    "        data[\"vehicles\"].append(vehicle)\n",
    "\n",
    "    # Générer les visites avec fenêtres temporelles\n",
    "    for i in range(num_visits):\n",
    "        # Générer une fenêtre temporelle aléatoire\n",
    "        start_hour = random.randint(8, 16)\n",
    "        end_hour = start_hour + random.randint(1, 4)\n",
    "        min_start_time = datetime.datetime.combine(date, datetime.time(start_hour, 0)).isoformat()\n",
    "        max_end_time = datetime.datetime.combine(date, datetime.time(end_hour, 0)).isoformat()\n",
    "\n",
    "        visit = {\n",
    "            \"name\": f\"Visit {i+1}\",\n",
    "            \"location\": generate_random_location(),\n",
    "            \"load\": random.randint(1, 10),\n",
    "            \"minStartTime\": min_start_time,\n",
    "            \"maxEndTime\": max_end_time\n",
    "        }\n",
    "        data[\"visits\"].append(visit)\n",
    "\n",
    "    # Enregistrer les données dans un fichier JSON\n",
    "    with open(\"vehicle-routing-data.json\", \"w\") as f:\n",
    "        json.dump(data, f, indent=2)\n",
    "\n",
    "    print(\"Les données ont été générées et enregistrées dans vehicle-routing-data.json\")\n",
    "\n",
    "# Créer les widgets pour les paramètres\n",
    "num_vehicles_slider = IntSlider(min=1, max=10, step=1, value=3, description='Nombre de véhicules')\n",
    "num_visits_slider = IntSlider(min=1, max=50, step=1, value=10, description='Nombre de visites')\n",
    "vehicle_capacity_slider = IntSlider(min=10, max=100, step=10, value=50, description='Capacité des véhicules')\n",
    "date_picker = DatePicker(description='Date', value=datetime.date.today())\n",
    "\n",
    "# Utiliser interact pour créer l'interface utilisateur\n",
    "interact(generate_data,\n",
    "         num_vehicles=num_vehicles_slider,\n",
    "         num_visits=num_visits_slider,\n",
    "         vehicle_capacity=vehicle_capacity_slider,\n",
    "         date=date_picker);\n"
   ]
  }
 ],
 "metadata": {
  "kernelspec": {
   "display_name": "Python 3",
   "language": "python",
   "name": "python3"
  },
  "language_info": {
   "codemirror_mode": {
    "name": "ipython",
    "version": 3
   },
   "file_extension": ".py",
   "mimetype": "text/x-python",
   "name": "python",
   "nbconvert_exporter": "python",
   "pygments_lexer": "ipython3",
   "version": "3.12.2"
  }
 },
 "nbformat": 4,
 "nbformat_minor": 2
}
