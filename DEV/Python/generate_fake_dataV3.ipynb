{
 "cells": [
  {
   "cell_type": "code",
   "execution_count": 1,
   "metadata": {},
   "outputs": [],
   "source": [
    "import json\n",
    "import random\n",
    "import datetime"
   ]
  },
  {
   "cell_type": "code",
   "execution_count": 2,
   "metadata": {},
   "outputs": [],
   "source": [
    "# Localisation de départ (Genève)\n",
    "home_location = [46.2044, 6.1432]  # Coordonnées de Genève\n",
    "\n",
    "vehicles = []\n",
    "vehicle_count = 5\n",
    "vehicle_capacity = 100  # Capacité identique pour tous les véhicules\n",
    "\n",
    "for i in range(vehicle_count):\n",
    "    vehicle = {\n",
    "        \"name\": f\"Vehicle {chr(65+i)}\",  # Vehicle A, Vehicle B, etc.\n",
    "        \"homeLocation\": home_location,\n",
    "        \"capacity\": vehicle_capacity,\n",
    "        \"departureTime\": \"2023-10-10T08:00:00\"  # Heure de départ pour tous les véhicules\n",
    "    }\n",
    "    vehicles.append(vehicle)"
   ]
  },
  {
   "cell_type": "code",
   "execution_count": 3,
   "metadata": {},
   "outputs": [],
   "source": [
    "visit_count = 30\n",
    "visits = []\n",
    "\n",
    "# Bornes pour les latitudes et longitudes à Genève\n",
    "lat_min, lat_max = 46.17, 46.23\n",
    "lon_min, lon_max = 6.1, 6.2\n",
    "\n",
    "# Heures de début et de fin pour les fenêtres de temps\n",
    "start_time_base = datetime.datetime(2023, 10, 10, 8, 0, 0)  # 10 octobre 2023 à 08:00\n",
    "end_time_base = datetime.datetime(2023, 10, 10, 17, 0, 0)   # 10 octobre 2023 à 17:00\n",
    "\n",
    "for i in range(visit_count):\n",
    "    name = f\"Visit {i+1}\"\n",
    "    latitude = random.uniform(lat_min, lat_max)\n",
    "    longitude = random.uniform(lon_min, lon_max)\n",
    "    load = random.randint(5, 30)\n",
    "    # Génération d'une fenêtre de temps aléatoire\n",
    "    window_start = start_time_base + datetime.timedelta(minutes=random.randint(0, 540))  # Entre 8h et 17h\n",
    "    window_end = window_start + datetime.timedelta(minutes=random.randint(30, 120))  # Durée entre 30 min et 2h\n",
    "\n",
    "    # Assurer que la fenêtre de temps ne dépasse pas 17h\n",
    "    if window_end > end_time_base:\n",
    "        window_end = end_time_base\n",
    "\n",
    "    minStartTime = window_start.isoformat()\n",
    "    maxEndTime = window_end.isoformat()\n",
    "    serviceDuration = random.randint(15, 60) * 60  # Durée du service en secondes\n",
    "\n",
    "    visit = {\n",
    "        \"name\": name,\n",
    "        \"location\": [latitude, longitude],\n",
    "        \"load\": load,\n",
    "        \"minStartTime\": minStartTime,\n",
    "        \"maxEndTime\": maxEndTime,\n",
    "        \"serviceDuration\": serviceDuration\n",
    "    }\n",
    "    visits.append(visit)"
   ]
  },
  {
   "cell_type": "code",
   "execution_count": 4,
   "metadata": {},
   "outputs": [
    {
     "name": "stdout",
     "output_type": "stream",
     "text": [
      "Les données factices ont été générées et sauvegardées dans vehicle-routing-data.json\n"
     ]
    }
   ],
   "source": [
    "problem = {\n",
    "    \"name\": \"geneva-demo\",\n",
    "    \"vehicles\": vehicles,\n",
    "    \"visits\": visits\n",
    "}\n",
    "\n",
    "# Cellule 5 : Sauvegarde des données dans un fichier JSON\n",
    "\n",
    "with open(\"vehicle-routing-data.json\", \"w\") as f:\n",
    "    json.dump(problem, f, indent=2)\n",
    "\n",
    "print(\"Les données factices ont été générées et sauvegardées dans vehicle-routing-data.json\")"
   ]
  }
 ],
 "metadata": {
  "kernelspec": {
   "display_name": "Python 3",
   "language": "python",
   "name": "python3"
  },
  "language_info": {
   "codemirror_mode": {
    "name": "ipython",
    "version": 3
   },
   "file_extension": ".py",
   "mimetype": "text/x-python",
   "name": "python",
   "nbconvert_exporter": "python",
   "pygments_lexer": "ipython3",
   "version": "3.12.2"
  }
 },
 "nbformat": 4,
 "nbformat_minor": 2
}
