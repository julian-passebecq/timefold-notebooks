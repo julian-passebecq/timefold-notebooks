{
 "cells": [
  {
   "cell_type": "code",
   "execution_count": 1,
   "metadata": {},
   "outputs": [
    {
     "name": "stdout",
     "output_type": "stream",
     "text": [
      "Available Kotlin notebooks:\n",
      "1: timesheet.json\n",
      "2: vehicle_routing.json\n",
      "Kotlin code extracted and saved to output\\timesheet.txt.\n"
     ]
    }
   ],
   "source": [
    "import os\n",
    "import json\n",
    "\n",
    "# Define folders\n",
    "kotlin_notebook_folder = 'kotlinnotebook'\n",
    "output_folder = 'output'\n",
    "\n",
    "# Ensure folders exist\n",
    "os.makedirs(kotlin_notebook_folder, exist_ok=True)\n",
    "os.makedirs(output_folder, exist_ok=True)\n",
    "\n",
    "# List all files in the kotlinnotebook folder\n",
    "notebook_files = [f for f in os.listdir(kotlin_notebook_folder) if f.endswith('.json')]\n",
    "\n",
    "# Check if there are any notebooks to process\n",
    "if not notebook_files:\n",
    "    print(\"No Kotlin notebooks found in the 'kotlinnotebook' folder.\")\n",
    "    exit()\n",
    "\n",
    "# Show available notebooks to the user\n",
    "print(\"Available Kotlin notebooks:\")\n",
    "for i, notebook_file in enumerate(notebook_files, 1):\n",
    "    print(f\"{i}: {notebook_file}\")\n",
    "\n",
    "# Ask user which notebook to process\n",
    "selected_index = int(input(\"Enter the number of the notebook you want to convert to text: \")) - 1\n",
    "\n",
    "if selected_index < 0 or selected_index >= len(notebook_files):\n",
    "    print(\"Invalid selection.\")\n",
    "    exit()\n",
    "\n",
    "# Get the selected notebook\n",
    "selected_notebook_file = notebook_files[selected_index]\n",
    "selected_notebook_path = os.path.join(kotlin_notebook_folder, selected_notebook_file)\n",
    "\n",
    "# Read the notebook\n",
    "with open(selected_notebook_path, 'r') as file:\n",
    "    notebook_data = json.load(file)\n",
    "\n",
    "# Extract the Kotlin code cells\n",
    "kotlin_code = []\n",
    "for cell in notebook_data['cells']:\n",
    "    if cell['cell_type'] == 'code':\n",
    "        kotlin_code.append('\\n'.join(cell['source']))\n",
    "\n",
    "# Combine all the code into a single string\n",
    "kotlin_code_text = '\\n\\n'.join(kotlin_code)\n",
    "\n",
    "# Define the output file path\n",
    "output_file_path = os.path.join(output_folder, f\"{os.path.splitext(selected_notebook_file)[0]}.txt\")\n",
    "\n",
    "# Write the code to the output file\n",
    "with open(output_file_path, 'w') as output_file:\n",
    "    output_file.write(kotlin_code_text)\n",
    "\n",
    "print(f\"Kotlin code extracted and saved to {output_file_path}.\")\n"
   ]
  }
 ],
 "metadata": {
  "kernelspec": {
   "display_name": "Python 3",
   "language": "python",
   "name": "python3"
  },
  "language_info": {
   "codemirror_mode": {
    "name": "ipython",
    "version": 3
   },
   "file_extension": ".py",
   "mimetype": "text/x-python",
   "name": "python",
   "nbconvert_exporter": "python",
   "pygments_lexer": "ipython3",
   "version": "3.12.2"
  }
 },
 "nbformat": 4,
 "nbformat_minor": 2
}
