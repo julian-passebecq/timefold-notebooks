{
 "cells": [
  {
   "cell_type": "code",
   "metadata": {
    "collapsed": true,
    "ExecuteTime": {
     "end_time": "2024-09-20T10:25:37.800840200Z",
     "start_time": "2024-09-20T10:25:36.375913400Z"
    }
   },
   "source": "@file:DependsOn(\"ai.timefold.solver:timefold-solver-core:1.14.0\")\n",
   "outputs": [],
   "execution_count": 1
  },
  {
   "metadata": {
    "ExecuteTime": {
     "end_time": "2024-09-20T10:25:41.121931700Z",
     "start_time": "2024-09-20T10:25:40.927972600Z"
    }
   },
   "cell_type": "code",
   "source": [
    "import ai.timefold.solver.core.api.domain.lookup.PlanningId\n",
    "import ai.timefold.solver.core.api.domain.entity.PlanningEntity\n",
    "import ai.timefold.solver.core.api.domain.variable.PlanningVariable\n",
    "import ai.timefold.solver.core.api.domain.variable.PlanningVariableGraphType\n",
    "import ai.timefold.solver.core.api.domain.variable.InverseRelationShadowVariable\n",
    "import ai.timefold.solver.core.api.domain.variable.ShadowVariable\n",
    "import ai.timefold.solver.core.api.score.buildin.hardsoft.HardSoftScore\n",
    "import ai.timefold.solver.core.api.domain.solution.PlanningSolution\n",
    "import ai.timefold.solver.core.api.domain.solution.PlanningEntityCollectionProperty\n",
    "import ai.timefold.solver.core.api.domain.solution.ProblemFactCollectionProperty\n",
    "import ai.timefold.solver.core.api.domain.solution.PlanningScore\n",
    "import ai.timefold.solver.core.api.domain.valuerange.ValueRangeProvider\n",
    "import ai.timefold.solver.core.api.score.stream.ConstraintProvider\n",
    "import ai.timefold.solver.core.api.score.stream.ConstraintFactory\n",
    "import ai.timefold.solver.core.api.score.stream.Constraint\n",
    "import ai.timefold.solver.core.api.score.stream.Joiners\n",
    "import ai.timefold.solver.core.api.solver.SolverFactory\n",
    "import ai.timefold.solver.core.api.solver.Solver\n",
    "import ai.timefold.solver.core.config.solver.SolverConfig\n",
    "import ai.timefold.solver.core.api.score.director.ScoreDirector\n",
    "import ai.timefold.solver.core.api.domain.variable.VariableListener\n",
    "\n",
    "import java.time.LocalDateTime\n",
    "import java.time.Duration\n",
    "import kotlin.random.Random\n"
   ],
   "outputs": [],
   "execution_count": 2
  },
  {
   "metadata": {
    "ExecuteTime": {
     "end_time": "2024-09-20T10:29:45.199708800Z",
     "start_time": "2024-09-20T10:29:45.026113300Z"
    }
   },
   "cell_type": "code",
   "source": [
    "data class Skill(\n",
    "    val id: String,\n",
    "    val name: String\n",
    ")\n",
    "\n",
    "data class Location(\n",
    "    val latitude: Double,\n",
    "    val longitude: Double\n",
    ") {\n",
    "    // Simplified distance calculation (Euclidean)\n",
    "    fun distanceTo(other: Location): Double {\n",
    "        val xDiff = latitude - other.latitude\n",
    "        val yDiff = longitude - other.longitude\n",
    "        return kotlin.math.sqrt(xDiff * xDiff + yDiff * yDiff)\n",
    "    }\n",
    "\n",
    "    // Assuming average speed of 50 km/h for travel time calculation\n",
    "    fun travelTimeTo(other: Location): Duration {\n",
    "        val distanceKm = distanceTo(other) * 111  // Approximate conversion to kilometers\n",
    "        val averageSpeedKmh = 50.0\n",
    "        val timeInHours = distanceKm / averageSpeedKmh\n",
    "        return Duration.ofMinutes((timeInHours * 60).toLong())\n",
    "    }\n",
    "}\n",
    "\n",
    "data class TimeWindow(\n",
    "    val start: LocalDateTime,\n",
    "    val end: LocalDateTime\n",
    ")\n"
   ],
   "outputs": [],
   "execution_count": 6
  },
  {
   "metadata": {
    "ExecuteTime": {
     "end_time": "2024-09-20T10:25:54.026101300Z",
     "start_time": "2024-09-20T10:25:53.981065Z"
    }
   },
   "cell_type": "code",
   "source": [
    "interface Standstill {\n",
    "    val location: Location\n",
    "    val departureTime: LocalDateTime?\n",
    "}\n"
   ],
   "outputs": [],
   "execution_count": 4
  },
  {
   "metadata": {
    "ExecuteTime": {
     "end_time": "2024-09-20T10:30:04.915512200Z",
     "start_time": "2024-09-20T10:30:04.889384400Z"
    }
   },
   "cell_type": "code",
   "source": [
    "class Agent(\n",
    "    @PlanningId\n",
    "    val id: String,\n",
    "    val name: String,\n",
    "    val homeLocation: Location,\n",
    "    val skills: List<Skill>,\n",
    "    val maxWorkingHoursPerDay: Duration\n",
    ") : Standstill {\n",
    "    override val location: Location\n",
    "        get() = homeLocation\n",
    "\n",
    "    override val departureTime: LocalDateTime?\n",
    "        get() = null  // Agents start their day, so no departure time\n",
    "\n",
    "    // Shadow variable to get the first meeting\n",
    "    @InverseRelationShadowVariable(sourceVariableName = \"previousStandstill\")\n",
    "    var nextMeeting: Meeting? = null\n",
    "}\n"
   ],
   "outputs": [
    {
     "name": "stderr",
     "output_type": "stream",
     "text": [
      "Line_8.jupyter.kts (9:28 - 36) Type of 'location' is not a subtype of the overridden property 'public abstract val location: Line_3_jupyter.Location defined in Line_4_jupyter.Standstill'\n",
      "Line_8.jupyter.kts (17:22 - 29) Unresolved reference: Meeting"
     ]
    }
   ],
   "execution_count": 8
  },
  {
   "metadata": {},
   "cell_type": "code",
   "outputs": [],
   "execution_count": null,
   "source": ""
  },
  {
   "metadata": {},
   "cell_type": "code",
   "outputs": [],
   "execution_count": null,
   "source": ""
  }
 ],
 "metadata": {
  "kernelspec": {
   "display_name": "Kotlin",
   "language": "kotlin",
   "name": "kotlin"
  },
  "language_info": {
   "name": "kotlin",
   "version": "1.9.23",
   "mimetype": "text/x-kotlin",
   "file_extension": ".kt",
   "pygments_lexer": "kotlin",
   "codemirror_mode": "text/x-kotlin",
   "nbconvert_exporter": ""
  }
 },
 "nbformat": 4,
 "nbformat_minor": 0
}
