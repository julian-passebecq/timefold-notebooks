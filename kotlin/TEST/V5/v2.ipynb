{
 "cells": [
  {
   "cell_type": "code",
   "execution_count": null,
   "metadata": {
    "collapsed": true
   },
   "outputs": [],
   "source": [
    ""
   ]
  },
  {
   "metadata": {
    "ExecuteTime": {
     "end_time": "2024-09-20T12:10:36.244581700Z",
     "start_time": "2024-09-20T12:10:33.542880100Z"
    }
   },
   "cell_type": "code",
   "source": [
    "@file:DependsOn(\"ai.timefold.solver:timefold-solver-core:1.14.0\")\n",
    "\n",
    "import ai.timefold.solver.core.api.domain.lookup.PlanningId\n",
    "import ai.timefold.solver.core.api.domain.entity.PlanningEntity\n",
    "import ai.timefold.solver.core.api.domain.variable.*\n",
    "import ai.timefold.solver.core.api.domain.solution.*\n",
    "import ai.timefold.solver.core.api.domain.valuerange.ValueRangeProvider\n",
    "import ai.timefold.solver.core.api.score.buildin.hardsoft.HardSoftScore\n",
    "import ai.timefold.solver.core.api.score.stream.*\n",
    "import ai.timefold.solver.core.api.solver.*\n",
    "import ai.timefold.solver.core.config.solver.SolverConfig\n",
    "import ai.timefold.solver.core.api.score.director.ScoreDirector\n",
    "\n",
    "import java.time.LocalDateTime\n",
    "import java.time.Duration\n",
    "import kotlin.random.Random\n",
    "import kotlin.math.sqrt\n",
    "\n",
    "// Data Classes\n",
    "data class Skill(\n",
    "    val id: String,\n",
    "    val name: String\n",
    ")\n",
    "\n",
    "data class Location(\n",
    "    val latitude: Double,\n",
    "    val longitude: Double\n",
    ") {\n",
    "    // Simplified distance calculation (Euclidean)\n",
    "    fun distanceTo(other: Location): Double {\n",
    "        val xDiff = latitude - other.latitude\n",
    "        val yDiff = longitude - other.longitude\n",
    "        return sqrt(xDiff * xDiff + yDiff * yDiff)\n",
    "    }\n",
    "\n",
    "    // Assuming average speed of 50 km/h for travel time calculation\n",
    "    fun travelTimeTo(other: Location): Duration {\n",
    "        val distanceKm = distanceTo(other) * 111  // Approximate conversion to kilometers\n",
    "        val averageSpeedKmh = 50.0\n",
    "        val timeInHours = distanceKm / averageSpeedKmh\n",
    "        return Duration.ofMinutes((timeInHours * 60).toLong())\n",
    "    }\n",
    "}\n",
    "\n",
    "data class TimeWindow(\n",
    "    val start: LocalDateTime,\n",
    "    val end: LocalDateTime\n",
    ")\n"
   ],
   "outputs": [],
   "execution_count": 1
  },
  {
   "metadata": {
    "ExecuteTime": {
     "end_time": "2024-09-20T12:11:11.800002900Z",
     "start_time": "2024-09-20T12:11:11.749055Z"
    }
   },
   "cell_type": "code",
   "source": [
    "interface Standstill {\n",
    "    val location: Location\n",
    "    val departureTime: LocalDateTime?\n",
    "}\n"
   ],
   "outputs": [],
   "execution_count": 2
  },
  {
   "metadata": {
    "ExecuteTime": {
     "end_time": "2024-09-20T12:11:20.874491700Z",
     "start_time": "2024-09-20T12:11:20.510947Z"
    }
   },
   "cell_type": "code",
   "source": [
    "class ArrivalTimeUpdatingVariableListener : VariableListener<Schedule, Meeting> {\n",
    "    override fun beforeEntityAdded(scoreDirector: ScoreDirector<Schedule>, entity: Meeting) {}\n",
    "    override fun afterEntityAdded(scoreDirector: ScoreDirector<Schedule>, entity: Meeting) {\n",
    "        updateArrivalTime(scoreDirector, entity)\n",
    "    }\n",
    "    override fun beforeVariableChanged(scoreDirector: ScoreDirector<Schedule>, entity: Meeting) {}\n",
    "    override fun afterVariableChanged(scoreDirector: ScoreDirector<Schedule>, entity: Meeting) {\n",
    "        updateArrivalTime(scoreDirector, entity)\n",
    "    }\n",
    "    override fun beforeEntityRemoved(scoreDirector: ScoreDirector<Schedule>, entity: Meeting) {}\n",
    "    override fun afterEntityRemoved(scoreDirector: ScoreDirector<Schedule>, entity: Meeting) {}\n",
    "\n",
    "    private fun updateArrivalTime(scoreDirector: ScoreDirector<Schedule>, meeting: Meeting) {\n",
    "        val previous = meeting.previousStandstill ?: return\n",
    "        val departureTime = previous.departureTime ?: return\n",
    "        val travelTime = previous.location.travelTimeTo(meeting.location)\n",
    "        val arrivalTime = departureTime.plus(travelTime)\n",
    "        scoreDirector.beforeVariableChanged(meeting, \"arrivalTime\")\n",
    "        meeting.arrivalTime = arrivalTime\n",
    "        scoreDirector.afterVariableChanged(meeting, \"arrivalTime\")\n",
    "    }\n",
    "}\n",
    "\n",
    "class DepartureTimeUpdatingVariableListener : VariableListener<Schedule, Meeting> {\n",
    "    override fun beforeEntityAdded(scoreDirector: ScoreDirector<Schedule>, entity: Meeting) {}\n",
    "    override fun afterEntityAdded(scoreDirector: ScoreDirector<Schedule>, entity: Meeting) {\n",
    "        updateDepartureTime(scoreDirector, entity)\n",
    "    }\n",
    "    override fun beforeVariableChanged(scoreDirector: ScoreDirector<Schedule>, entity: Meeting) {}\n",
    "    override fun afterVariableChanged(scoreDirector: ScoreDirector<Schedule>, entity: Meeting) {\n",
    "        updateDepartureTime(scoreDirector, entity)\n",
    "    }\n",
    "    override fun beforeEntityRemoved(scoreDirector: ScoreDirector<Schedule>, entity: Meeting) {}\n",
    "    override fun afterEntityRemoved(scoreDirector: ScoreDirector<Schedule>, entity: Meeting) {}\n",
    "\n",
    "    private fun updateDepartureTime(scoreDirector: ScoreDirector<Schedule>, meeting: Meeting) {\n",
    "        val arrivalTime = meeting.arrivalTime ?: return\n",
    "        val departureTime = arrivalTime.plus(meeting.duration)\n",
    "        scoreDirector.beforeVariableChanged(meeting, \"departureTime\")\n",
    "        meeting.departureTime = departureTime\n",
    "        scoreDirector.afterVariableChanged(meeting, \"departureTime\")\n",
    "    }\n",
    "}\n"
   ],
   "outputs": [
    {
     "name": "stderr",
     "output_type": "stream",
     "text": [
      "Line_3.jupyter.kts (1:62 - 70) Unresolved reference: Schedule\n",
      "Line_3.jupyter.kts (1:72 - 79) Unresolved reference: Meeting\n",
      "Line_3.jupyter.kts (2:65 - 73) Unresolved reference: Schedule\n",
      "Line_3.jupyter.kts (2:84 - 91) Unresolved reference: Meeting\n",
      "Line_3.jupyter.kts (3:64 - 72) Unresolved reference: Schedule\n",
      "Line_3.jupyter.kts (3:83 - 90) Unresolved reference: Meeting\n",
      "Line_3.jupyter.kts (6:69 - 77) Unresolved reference: Schedule\n",
      "Line_3.jupyter.kts (6:88 - 95) Unresolved reference: Meeting\n",
      "Line_3.jupyter.kts (7:68 - 76) Unresolved reference: Schedule\n",
      "Line_3.jupyter.kts (7:87 - 94) Unresolved reference: Meeting\n",
      "Line_3.jupyter.kts (10:67 - 75) Unresolved reference: Schedule\n",
      "Line_3.jupyter.kts (10:86 - 93) Unresolved reference: Meeting\n",
      "Line_3.jupyter.kts (11:66 - 74) Unresolved reference: Schedule\n",
      "Line_3.jupyter.kts (11:85 - 92) Unresolved reference: Meeting\n",
      "Line_3.jupyter.kts (13:35 - 48) Parameter 'scoreDirector' is never used\n",
      "Line_3.jupyter.kts (13:64 - 72) Unresolved reference: Schedule\n",
      "Line_3.jupyter.kts (13:84 - 91) Unresolved reference: Meeting\n",
      "Line_3.jupyter.kts (14:9 - 23) Unreachable code\n",
      "Line_3.jupyter.kts (14:13 - 21) Variable 'previous' is never used\n",
      "Line_3.jupyter.kts (15:9 - 61) Unreachable code\n",
      "Line_3.jupyter.kts (15:38 - 51) Unresolved reference: departureTime\n",
      "Line_3.jupyter.kts (16:9 - 74) Unreachable code\n",
      "Line_3.jupyter.kts (16:35 - 43) Unresolved reference: location\n",
      "Line_3.jupyter.kts (17:9 - 57) Unreachable code\n",
      "Line_3.jupyter.kts (18:9 - 68) Unreachable code\n",
      "Line_3.jupyter.kts (19:9 - 42) Unreachable code\n",
      "Line_3.jupyter.kts (19:17 - 28) Variable expected\n",
      "Line_3.jupyter.kts (20:9 - 67) Unreachable code\n",
      "Line_3.jupyter.kts (24:64 - 72) Unresolved reference: Schedule\n",
      "Line_3.jupyter.kts (24:74 - 81) Unresolved reference: Meeting\n",
      "Line_3.jupyter.kts (25:65 - 73) Unresolved reference: Schedule\n",
      "Line_3.jupyter.kts (25:84 - 91) Unresolved reference: Meeting\n",
      "Line_3.jupyter.kts (26:64 - 72) Unresolved reference: Schedule\n",
      "Line_3.jupyter.kts (26:83 - 90) Unresolved reference: Meeting\n",
      "Line_3.jupyter.kts (29:69 - 77) Unresolved reference: Schedule\n",
      "Line_3.jupyter.kts (29:88 - 95) Unresolved reference: Meeting\n",
      "Line_3.jupyter.kts (30:68 - 76) Unresolved reference: Schedule\n",
      "Line_3.jupyter.kts (30:87 - 94) Unresolved reference: Meeting\n",
      "Line_3.jupyter.kts (33:67 - 75) Unresolved reference: Schedule\n",
      "Line_3.jupyter.kts (33:86 - 93) Unresolved reference: Meeting\n",
      "Line_3.jupyter.kts (34:66 - 74) Unresolved reference: Schedule\n",
      "Line_3.jupyter.kts (34:85 - 92) Unresolved reference: Meeting\n",
      "Line_3.jupyter.kts (36:37 - 50) Parameter 'scoreDirector' is never used\n",
      "Line_3.jupyter.kts (36:66 - 74) Unresolved reference: Schedule\n",
      "Line_3.jupyter.kts (36:86 - 93) Unresolved reference: Meeting\n",
      "Line_3.jupyter.kts (37:9 - 26) Unreachable code\n",
      "Line_3.jupyter.kts (37:13 - 24) Variable 'arrivalTime' is never used\n",
      "Line_3.jupyter.kts (38:9 - 63) Unreachable code\n",
      "Line_3.jupyter.kts (39:9 - 70) Unreachable code\n",
      "Line_3.jupyter.kts (40:9 - 46) Unreachable code\n",
      "Line_3.jupyter.kts (40:17 - 30) Variable expected\n",
      "Line_3.jupyter.kts (41:9 - 69) Unreachable code"
     ]
    }
   ],
   "execution_count": 3
  },
  {
   "metadata": {},
   "cell_type": "code",
   "outputs": [],
   "execution_count": null,
   "source": ""
  }
 ],
 "metadata": {
  "kernelspec": {
   "display_name": "Kotlin",
   "language": "kotlin",
   "name": "kotlin"
  },
  "language_info": {
   "name": "kotlin",
   "version": "1.9.23",
   "mimetype": "text/x-kotlin",
   "file_extension": ".kt",
   "pygments_lexer": "kotlin",
   "codemirror_mode": "text/x-kotlin",
   "nbconvert_exporter": ""
  }
 },
 "nbformat": 4,
 "nbformat_minor": 0
}
