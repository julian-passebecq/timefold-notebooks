{
 "cells": [
  {
   "cell_type": "code",
   "metadata": {
    "collapsed": true,
    "ExecuteTime": {
     "end_time": "2024-09-20T15:29:33.434945300Z",
     "start_time": "2024-09-20T15:29:31.654110900Z"
    }
   },
   "source": [
    "// Cell 1: Setup Dependencies\n",
    "\n",
    "@file:DependsOn(\"ai.timefold.solver:timefold-solver-core:1.14.0\")\n",
    "@file:DependsOn(\"com.fasterxml.jackson.module:jackson-module-kotlin:2.17.1\")\n",
    "@file:DependsOn(\"org.jetbrains.kotlinx:kotlinx-coroutines-core:1.7.3\") // For any asynchronous operations if needed\n",
    "\n",
    "import ai.timefold.solver.core.api.score.buildin.hardsoft.HardSoftScore\n",
    "import ai.timefold.solver.core.api.score.stream.Constraint\n",
    "import ai.timefold.solver.core.api.score.stream.ConstraintFactory\n",
    "import ai.timefold.solver.core.api.score.stream.ConstraintProvider\n",
    "import ai.timefold.solver.core.api.score.stream.Joiners\n",
    "import ai.timefold.solver.core.api.score.stream.ConstraintCollectors\n",
    "import ai.timefold.solver.core.api.domain.solution.PlanningSolution\n",
    "import ai.timefold.solver.core.api.domain.solution.PlanningScore\n",
    "import ai.timefold.solver.core.api.domain.entity.PlanningEntity\n",
    "import ai.timefold.solver.core.api.domain.lookup.PlanningId\n",
    "import ai.timefold.solver.core.api.domain.variable.PlanningVariable\n",
    "import ai.timefold.solver.core.api.domain.solution.ProblemFactCollectionProperty\n",
    "import ai.timefold.solver.core.api.domain.solution.PlanningEntityCollectionProperty\n",
    "import ai.timefold.solver.core.api.domain.valuerange.ValueRangeProvider\n",
    "import ai.timefold.solver.core.api.solver.Solver\n",
    "import ai.timefold.solver.core.api.solver.SolverFactory\n",
    "import ai.timefold.solver.core.config.solver.SolverConfig\n",
    "import java.time.LocalTime\n",
    "import java.time.DayOfWeek\n",
    "import java.time.Duration\n",
    "\n"
   ],
   "outputs": [],
   "execution_count": 2
  },
  {
   "metadata": {
    "ExecuteTime": {
     "end_time": "2024-09-20T15:29:35.771813100Z",
     "start_time": "2024-09-20T15:29:34.383615Z"
    }
   },
   "cell_type": "code",
   "source": [
    "// Cell 2: Define Domain Models\n",
    "\n",
    "// Location Class\n",
    "data class Location(\n",
    "    val name: String,\n",
    "    val latitude: Double,\n",
    "    val longitude: Double\n",
    ")\n",
    "\n",
    "// Skill Class\n",
    "data class Skill(\n",
    "    val name: String\n",
    ")\n",
    "\n",
    "// Vehicle Class\n",
    "data class Vehicle(\n",
    "    val id: Long,\n",
    "    val licensePlate: String,\n",
    "    val capacity: Int = 1 // Assuming one vehicle per agent\n",
    ")\n",
    "\n",
    "// Agent Class\n",
    "data class Agent(\n",
    "    @PlanningId\n",
    "    val id: Long,\n",
    "    val name: String,\n",
    "    val skills: List<Skill>,\n",
    "    val homeLocation: Location,\n",
    "    val vehicle: Vehicle,\n",
    "    val weeklyWorkloadHours: Int = 40 // Default 40 hours\n",
    ")\n",
    "\n",
    "// Meeting Class\n",
    "@PlanningEntity\n",
    "data class Meeting(\n",
    "    @PlanningId\n",
    "    val id: Long,\n",
    "    val client: String,\n",
    "    val location: Location,\n",
    "    val requiredSkills: List<Skill>,\n",
    "    val durationHours: Int,\n",
    "    val startTime: LocalTime, // Start time of the meeting\n",
    "    val endTime: LocalTime,   // End time of the meeting\n",
    "    @PlanningVariable(valueRangeProviderRefs = [\"agentRange\"])\n",
    "    var assignedAgent: Agent? = null // Planning variable\n",
    ") {\n",
    "    // No-arg constructor required for Timefold\n",
    "    constructor() : this(\n",
    "        0L,\n",
    "        \"\",\n",
    "        Location(\"\", 0.0, 0.0),\n",
    "        emptyList(),\n",
    "        1,\n",
    "        LocalTime.MIDNIGHT,\n",
    "        LocalTime.MIDNIGHT\n",
    "    )\n",
    "}\n"
   ],
   "outputs": [],
   "execution_count": 3
  },
  {
   "metadata": {
    "ExecuteTime": {
     "end_time": "2024-09-20T15:29:38.481857900Z",
     "start_time": "2024-09-20T15:29:37.202772400Z"
    }
   },
   "cell_type": "code",
   "source": [
    "// Cell 3: Generate Fake Data\n",
    "\n",
    "// Parameters for Data Generation\n",
    "val numberOfAgents = 5\n",
    "val numberOfSkills = 3\n",
    "val numberOfMeetings = 20\n",
    "val locationNamePrefix = \"Location\"\n",
    "\n",
    "// Predefined Skills\n",
    "val predefinedSkills = listOf(\n",
    "    Skill(\"Fire Certification\"),\n",
    "    Skill(\"Bodyguard Certification\"),\n",
    "    Skill(\"First Aid Certification\")\n",
    ")\n",
    "\n",
    "// Generate Vehicles\n",
    "fun generateVehicles(count: Int): List<Vehicle> {\n",
    "    return (1..count).map {\n",
    "        Vehicle(it.toLong(), \"XYZ-00$it\")\n",
    "    }\n",
    "}\n",
    "\n",
    "// Generate Agents\n",
    "fun generateAgents(\n",
    "    count: Int,\n",
    "    skills: List<Skill>,\n",
    "    homeLocation: Location\n",
    "): List<Agent> {\n",
    "    val vehicles = generateVehicles(count)\n",
    "    return (1..count).map { id ->\n",
    "        Agent(\n",
    "            id = id.toLong(),\n",
    "            name = \"Agent_$id\",\n",
    "            skills = skills.shuffled().take((1..skills.size).random()), // Each agent has 1 to all skills\n",
    "            homeLocation = homeLocation,\n",
    "            vehicle = vehicles[id - 1]\n",
    "        )\n",
    "    }\n",
    "}\n",
    "\n",
    "// Generate Locations (All within Geneva area for realism)\n",
    "fun generateLocations(count: Int): List<Location> {\n",
    "    val genevaLatitude = 46.2044\n",
    "    val genevaLongitude = 6.1432\n",
    "    return (1..count).map { id ->\n",
    "        Location(\n",
    "            name = \"$locationNamePrefix$id\",\n",
    "            latitude = genevaLatitude + (0.01 * (Math.random() - 0.5)),\n",
    "            longitude = genevaLongitude + (0.01 * (Math.random() - 0.5))\n",
    "        )\n",
    "    }\n",
    "}\n",
    "\n",
    "// Generate Meetings\n",
    "fun generateMeetings(\n",
    "    count: Int,\n",
    "    skills: List<Skill>,\n",
    "    locations: List<Location>\n",
    "): List<Meeting> {\n",
    "    return (1..count).map { id ->\n",
    "        val requiredSkillCount = (1..skills.size).random()\n",
    "        val requiredSkills = skills.shuffled().take(requiredSkillCount)\n",
    "        val location = locations.random()\n",
    "        val duration = (1..3).random() // 1 to 3 hours\n",
    "        val startHour = (8..20).random()\n",
    "        val startTime = LocalTime.of(startHour, 0)\n",
    "        val endTime = startTime.plusHours(duration.toLong())\n",
    "        Meeting(\n",
    "            id = id.toLong(),\n",
    "            client = \"Client_$id\",\n",
    "            location = location,\n",
    "            requiredSkills = requiredSkills,\n",
    "            durationHours = duration,\n",
    "            startTime = startTime,\n",
    "            endTime = endTime\n",
    "        )\n",
    "    }\n",
    "}\n",
    "\n",
    "// Generate Home Location (Central Geneva)\n",
    "val homeLocation = Location(\"Home_Geneva\", 46.2044, 6.1432)\n",
    "\n",
    "// Generate Agents\n",
    "val agents = generateAgents(numberOfAgents, predefinedSkills, homeLocation)\n",
    "\n",
    "// Generate Locations for Meetings\n",
    "val meetingLocations = generateLocations(10)\n",
    "\n",
    "// Generate Meetings\n",
    "val meetings = generateMeetings(numberOfMeetings, predefinedSkills, meetingLocations)\n"
   ],
   "outputs": [],
   "execution_count": 4
  },
  {
   "metadata": {
    "ExecuteTime": {
     "end_time": "2024-09-20T15:29:40.097220100Z",
     "start_time": "2024-09-20T15:29:39.895569Z"
    }
   },
   "cell_type": "code",
   "source": [
    "// Cell 4: Define the Planning Solution\n",
    "\n",
    "@PlanningSolution\n",
    "data class Schedule(\n",
    "    @ProblemFactCollectionProperty\n",
    "    @ValueRangeProvider(id = \"agentRange\")\n",
    "    val agents: List<Agent>,\n",
    "\n",
    "    @PlanningEntityCollectionProperty\n",
    "    val meetings: List<Meeting>\n",
    ") {\n",
    "    @PlanningScore\n",
    "    var score: HardSoftScore? = null\n",
    "\n",
    "    // No-arg constructor required for Timefold\n",
    "    constructor() : this(emptyList(), emptyList())\n",
    "}\n"
   ],
   "outputs": [],
   "execution_count": 5
  },
  {
   "metadata": {
    "ExecuteTime": {
     "end_time": "2024-09-20T15:29:43.170238300Z",
     "start_time": "2024-09-20T15:29:42.000851800Z"
    }
   },
   "cell_type": "code",
   "source": [
    "// Cell 5: Define Constraints (Fully Corrected)\n",
    "\n",
    "import ai.timefold.solver.core.api.score.stream.Joiners\n",
    "import ai.timefold.solver.core.api.score.stream.ConstraintCollectors\n",
    "import ai.timefold.solver.core.api.score.buildin.hardsoft.HardSoftScore\n",
    "\n",
    "class SecurityConstraintProvider : ConstraintProvider {\n",
    "    override fun defineConstraints(constraintFactory: ConstraintFactory): Array<Constraint> {\n",
    "        return arrayOf(\n",
    "            // Hard Constraints\n",
    "            noOverlap(constraintFactory),\n",
    "            skillRequirements(constraintFactory),\n",
    "            workloadLimit(constraintFactory),\n",
    "            // vehicleAvailability(constraintFactory), // Commented out for now\n",
    "\n",
    "            // Soft Constraints\n",
    "            minimizeTotalTravelTime(constraintFactory),\n",
    "            preferAgentRoomStability(constraintFactory)\n",
    "        )\n",
    "    }\n",
    "\n",
    "    // Ensure that an agent is not assigned to overlapping meetings\n",
    "    private fun noOverlap(constraintFactory: ConstraintFactory): Constraint {\n",
    "        return constraintFactory.forEachUniquePair(Meeting::class.java,\n",
    "            Joiners.equal(Meeting::assignedAgent),\n",
    "            Joiners.overlapping(\n",
    "                { it.startTime.toSecondOfDay() },\n",
    "                { it.endTime.toSecondOfDay() }\n",
    "            )\n",
    "        )\n",
    "            .penalize(HardSoftScore.ONE_HARD)\n",
    "            .asConstraint(\"No overlapping meetings\")\n",
    "    }\n",
    "\n",
    "    // Ensure that the assigned agent has all required skills for the meeting\n",
    "    private fun skillRequirements(constraintFactory: ConstraintFactory): Constraint {\n",
    "        return constraintFactory.forEach(Meeting::class.java)\n",
    "            .filter { meeting ->\n",
    "                meeting.assignedAgent != null &&\n",
    "                        !meeting.requiredSkills.all { skill -> meeting.assignedAgent!!.skills.contains(skill) }\n",
    "            }\n",
    "            .penalize(HardSoftScore.ONE_HARD)\n",
    "            .asConstraint(\"Agent lacks required skills\")\n",
    "    }\n",
    "\n",
    "    // Ensure that an agent does not exceed their weekly workload\n",
    "    private fun workloadLimit(constraintFactory: ConstraintFactory): Constraint {\n",
    "        return constraintFactory.forEach(Meeting::class.java)\n",
    "            .groupBy(Meeting::assignedAgent, ConstraintCollectors.sum(Meeting::durationHours))\n",
    "            .filter { (_, totalHours) -> totalHours > 40 }\n",
    "            .penalize(HardSoftScore.ONE_HARD, { (_, totalHours) -> (totalHours - 40) })\n",
    "            .asConstraint(\"Weekly workload limit\")\n",
    "    }\n",
    "\n",
    "    // Soft Constraint: Minimize total travel time (simplified as distance between meetings)\n",
    "    private fun minimizeTotalTravelTime(constraintFactory: ConstraintFactory): Constraint {\n",
    "        return constraintFactory.forEach(Meeting::class.java)\n",
    "            .filter { it.assignedAgent != null }\n",
    "            .penalize(HardSoftScore.ONE_SOFT,\n",
    "                { meeting ->\n",
    "                    // Simplified travel time calculation based on Euclidean distance\n",
    "                    val agentHome = meeting.assignedAgent!!.homeLocation\n",
    "                    val distance = euclideanDistance(agentHome, meeting.location)\n",
    "                    (distance * 10).toInt() // Arbitrary scaling factor\n",
    "                }\n",
    "            )\n",
    "            .asConstraint(\"Minimize travel time\")\n",
    "    }\n",
    "\n",
    "    // Soft Constraint: Prefer agents to have consistent assignments (e.g., similar locations)\n",
    "    private fun preferAgentRoomStability(constraintFactory: ConstraintFactory): Constraint {\n",
    "        return constraintFactory.forEach(Meeting::class.java)\n",
    "            .filter { it.assignedAgent != null }\n",
    "            .reward(HardSoftScore.ONE_SOFT,\n",
    "                { meeting ->\n",
    "                    // Simplified: reward if the meeting is close to the agent's home\n",
    "                    val agentHome = meeting.assignedAgent!!.homeLocation\n",
    "                    val distance = euclideanDistance(agentHome, meeting.location)\n",
    "                    (100 - distance).toInt() // Higher reward for closer meetings\n",
    "                }\n",
    "            )\n",
    "            .asConstraint(\"Prefer agent room stability\")\n",
    "    }\n",
    "\n",
    "    // Helper function to calculate Euclidean distance\n",
    "    private fun euclideanDistance(loc1: Location, loc2: Location): Double {\n",
    "        val dx = loc1.latitude - loc2.latitude\n",
    "        val dy = loc1.longitude - loc2.longitude\n",
    "        return Math.sqrt(dx * dx + dy * dy)\n",
    "    }\n",
    "}\n"
   ],
   "outputs": [
    {
     "name": "stderr",
     "output_type": "stream",
     "text": [
      "Line_6.jupyter.kts (50:21 - 59) Type mismatch: inferred type is (Line_3_jupyter.Agent?) -> Boolean but ((Line_3_jupyter.Agent?, Int!) -> Boolean)! was expected\n",
      "Line_6.jupyter.kts (50:21 - 59) Type mismatch: inferred type is Unit but Boolean was expected\n",
      "Line_6.jupyter.kts (50:23 - 38) Expected 2 parameters of types Line_3_jupyter.Agent?, Int!\n",
      "Line_6.jupyter.kts (50:24 - 25) Not nullable value required to call 'component1()' function of destructuring declaration initializer\n",
      "Line_6.jupyter.kts (50:27 - 37) Not nullable value required to call 'component2()' function of destructuring declaration initializer\n",
      "Line_6.jupyter.kts (51:14 - 22) 'penalize(String!, Score<*>!): Constraint!' is deprecated. Deprecated in Java\n",
      "Line_6.jupyter.kts (51:23 - 45) Type mismatch: inferred type is HardSoftScore! but String! was expected\n",
      "Line_6.jupyter.kts (51:47 - 87) Type mismatch: inferred type is ([Error type: Cannot infer a lambda parameter type]) -> ??? but Score<*>! was expected\n",
      "Line_6.jupyter.kts (51:49 - 64) Cannot infer a type for this parameter. Please specify it explicitly.\n",
      "Line_6.jupyter.kts (52:14 - 26) Unresolved reference: asConstraint"
     ]
    }
   ],
   "execution_count": 6
  },
  {
   "metadata": {
    "ExecuteTime": {
     "end_time": "2024-09-20T15:01:57.516078300Z",
     "start_time": "2024-09-20T15:01:27.133083300Z"
    }
   },
   "cell_type": "code",
   "source": [
    "// Cell 6: Solve the problem\n",
    "\n",
    "import ai.timefold.solver.core.config.solver.SolverConfig\n",
    "import ai.timefold.solver.core.api.solver.SolverFactory\n",
    "import ai.timefold.solver.core.api.solver.Solver\n",
    "import java.time.Duration\n",
    "\n",
    "// Create the solver configuration\n",
    "val solverConfig = SolverConfig()\n",
    "    .withSolutionClass(Schedule::class.java)\n",
    "    .withEntityClasses(Meeting::class.java)\n",
    "    .withConstraintProviderClass(SecurityConstraintProvider::class.java)\n",
    "    .withTerminationSpentLimit(Duration.ofSeconds(30)) // Solve for 30 seconds\n",
    "\n",
    "// Create the solver factory\n",
    "val solverFactory: SolverFactory<Schedule> = SolverFactory.create(solverConfig)\n",
    "\n",
    "// Create the initial, unsolvedxs solution\n",
    "val problem = Schedule(agents, meetings)\n",
    "\n",
    "println(\"Solving the problem...\")\n",
    "val solver: Solver<Schedule> = solverFactory.buildSolver()\n",
    "val solution: Schedule = solver.solve(problem)\n",
    "println(\"Solving finished with score: ${solution.score}\")"
   ],
   "outputs": [
    {
     "name": "stdout",
     "output_type": "stream",
     "text": [
      "Solving the problem...\r\n",
      "Solving finished with score: -1hard/1980soft\r\n"
     ]
    }
   ],
   "execution_count": 38
  },
  {
   "metadata": {
    "ExecuteTime": {
     "end_time": "2024-09-20T15:02:24.931736200Z",
     "start_time": "2024-09-20T15:02:24.014388300Z"
    }
   },
   "cell_type": "code",
   "source": [
    "// Cell 7: Display the results\n",
    "\n",
    "fun formatTime(time: LocalTime): String {\n",
    "    return time.format(java.time.format.DateTimeFormatter.ofPattern(\"HH:mm\"))\n",
    "}\n",
    "\n",
    "val assignedMeetings = solution.meetings.filter { it.assignedAgent != null }\n",
    "val unassignedMeetings = solution.meetings.filter { it.assignedAgent == null }\n",
    "\n",
    "println(\"Assigned Meetings:\")\n",
    "assignedMeetings.groupBy { it.assignedAgent }.forEach { (agent, meetings) ->\n",
    "    println(\"${agent?.name}:\")\n",
    "    meetings.sortedBy { it.startTime }.forEach { meeting ->\n",
    "        println(\"  - ${meeting.client} (${formatTime(meeting.startTime)} - ${formatTime(meeting.endTime)}) - Skills: ${meeting.requiredSkills.joinToString(\", \") { it.name }}\")\n",
    "    }\n",
    "    println()\n",
    "}\n",
    "\n",
    "println(\"Unassigned Meetings:\")\n",
    "unassignedMeetings.forEach { meeting ->\n",
    "    println(\"- ${meeting.client} (${formatTime(meeting.startTime)} - ${formatTime(meeting.endTime)}) - Skills: ${meeting.requiredSkills.joinToString(\", \") { it.name }}\")\n",
    "}"
   ],
   "outputs": [
    {
     "name": "stdout",
     "output_type": "stream",
     "text": [
      "Assigned Meetings:\r\n",
      "Agent_2:\r\n",
      "  - Client_1 (09:00 - 10:00) - Skills: Fire Certification\r\n",
      "  - Client_12 (11:00 - 14:00) - Skills: Fire Certification, First Aid Certification\r\n",
      "  - Client_20 (17:00 - 20:00) - Skills: Fire Certification\r\n",
      "  - Client_6 (20:00 - 21:00) - Skills: First Aid Certification, Fire Certification, Bodyguard Certification\r\n",
      "\r\n",
      "Agent_5:\r\n",
      "  - Client_14 (10:00 - 12:00) - Skills: First Aid Certification\r\n",
      "  - Client_9 (18:00 - 19:00) - Skills: Bodyguard Certification\r\n",
      "  - Client_2 (19:00 - 22:00) - Skills: First Aid Certification\r\n",
      "\r\n",
      "Agent_3:\r\n",
      "  - Client_7 (12:00 - 13:00) - Skills: Fire Certification\r\n",
      "  - Client_15 (17:00 - 19:00) - Skills: Fire Certification\r\n",
      "  - Client_3 (19:00 - 22:00) - Skills: Fire Certification\r\n",
      "\r\n",
      "Agent_1:\r\n",
      "  - Client_4 (10:00 - 11:00) - Skills: First Aid Certification, Fire Certification\r\n",
      "  - Client_8 (11:00 - 13:00) - Skills: First Aid Certification\r\n",
      "  - Client_16 (11:00 - 13:00) - Skills: First Aid Certification, Fire Certification, Bodyguard Certification\r\n",
      "  - Client_17 (15:00 - 18:00) - Skills: Bodyguard Certification, First Aid Certification, Fire Certification\r\n",
      "  - Client_5 (19:00 - 22:00) - Skills: First Aid Certification, Bodyguard Certification, Fire Certification\r\n",
      "\r\n",
      "Agent_4:\r\n",
      "  - Client_11 (09:00 - 11:00) - Skills: Fire Certification, First Aid Certification\r\n",
      "  - Client_18 (11:00 - 13:00) - Skills: Bodyguard Certification, Fire Certification, First Aid Certification\r\n",
      "  - Client_10 (14:00 - 16:00) - Skills: Bodyguard Certification, First Aid Certification, Fire Certification\r\n",
      "  - Client_19 (17:00 - 18:00) - Skills: Fire Certification, First Aid Certification, Bodyguard Certification\r\n",
      "  - Client_13 (19:00 - 21:00) - Skills: First Aid Certification, Fire Certification\r\n",
      "\r\n",
      "Unassigned Meetings:\r\n"
     ]
    }
   ],
   "execution_count": 39
  },
  {
   "metadata": {
    "ExecuteTime": {
     "end_time": "2024-09-20T15:02:33.289005400Z",
     "start_time": "2024-09-20T15:02:33.083578200Z"
    }
   },
   "cell_type": "code",
   "source": [
    "// Cell 8: Analyze the score\n",
    "\n",
    "import ai.timefold.solver.core.api.score.buildin.hardsoft.HardSoftScore\n",
    "import ai.timefold.solver.core.api.solver.SolutionManager\n",
    "\n",
    "val solutionManager = SolutionManager.create(solverFactory)\n",
    "val scoreExplanation = solutionManager.explain(solution)\n",
    "\n",
    "println(\"Score: ${scoreExplanation.score()}\")\n",
    "println(\"\\nConstraint Matches:\")\n",
    "scoreExplanation.constraintMatchTotalMap.forEach { (constraintId, total) ->\n",
    "    println(\"${constraintId.constraintName}: ${total.score.toShortString()}\")\n",
    "}"
   ],
   "outputs": [
    {
     "name": "stderr",
     "output_type": "stream",
     "text": [
      "Line_32.jupyter.kts (9:36 - 41) Expression 'score' of type 'Score_!' cannot be invoked as a function. The function 'invoke()' is not found\n",
      "Line_32.jupyter.kts (12:29 - 43) Unresolved reference: constraintName"
     ]
    }
   ],
   "execution_count": 40
  },
  {
   "metadata": {
    "ExecuteTime": {
     "end_time": "2024-09-20T13:49:20.812101100Z",
     "start_time": "2024-09-20T13:49:20.809837800Z"
    }
   },
   "cell_type": "code",
   "source": "",
   "outputs": [],
   "execution_count": 33
  },
  {
   "metadata": {
    "ExecuteTime": {
     "end_time": "2024-09-20T13:49:20.965255200Z",
     "start_time": "2024-09-20T13:49:20.963253600Z"
    }
   },
   "cell_type": "code",
   "source": "",
   "outputs": [],
   "execution_count": 34
  },
  {
   "metadata": {
    "ExecuteTime": {
     "end_time": "2024-09-20T13:49:21.071239Z",
     "start_time": "2024-09-20T13:49:21.069238300Z"
    }
   },
   "cell_type": "code",
   "source": "",
   "outputs": [],
   "execution_count": 35
  },
  {
   "metadata": {
    "ExecuteTime": {
     "end_time": "2024-09-20T13:49:21.314381800Z",
     "start_time": "2024-09-20T13:49:21.311860300Z"
    }
   },
   "cell_type": "code",
   "source": "",
   "outputs": [],
   "execution_count": 36
  },
  {
   "metadata": {},
   "cell_type": "code",
   "outputs": [],
   "execution_count": null,
   "source": ""
  }
 ],
 "metadata": {
  "kernelspec": {
   "display_name": "Kotlin",
   "language": "kotlin",
   "name": "kotlin"
  },
  "language_info": {
   "name": "kotlin",
   "version": "1.9.23",
   "mimetype": "text/x-kotlin",
   "file_extension": ".kt",
   "pygments_lexer": "kotlin",
   "codemirror_mode": "text/x-kotlin",
   "nbconvert_exporter": ""
  }
 },
 "nbformat": 4,
 "nbformat_minor": 0
}
