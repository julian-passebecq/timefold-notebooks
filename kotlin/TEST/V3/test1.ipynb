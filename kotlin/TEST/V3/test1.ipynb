{
 "cells": [
  {
   "cell_type": "code",
   "execution_count": null,
   "metadata": {
    "collapsed": true
   },
   "outputs": [],
   "source": [
    ""
   ]
  },
  {
   "metadata": {
    "ExecuteTime": {
     "end_time": "2024-09-20T09:03:10.627277700Z",
     "start_time": "2024-09-20T09:03:08.640322300Z"
    }
   },
   "cell_type": "code",
   "source": [
    "@file:DependsOn(\"ai.timefold.solver:timefold-solver-core:1.14.0\")\n",
    "@file:DependsOn(\"com.fasterxml.jackson.module:jackson-module-kotlin:2.17.1\")\n",
    "@file:DependsOn(\"org.jetbrains.kotlinx:kotlinx-coroutines-core:1.7.3\") // For any asynchronous operations if needed\n",
    "\n",
    "import ai.timefold.solver.core.api.score.buildin.hardsoft.HardSoftScore\n",
    "import ai.timefold.solver.core.api.score.stream.Constraint\n",
    "import ai.timefold.solver.core.api.score.stream.ConstraintFactory\n",
    "import ai.timefold.solver.core.api.score.stream.ConstraintProvider\n",
    "import ai.timefold.solver.core.api.domain.solution.PlanningSolution\n",
    "import ai.timefold.solver.core.api.domain.solution.PlanningScore\n",
    "import ai.timefold.solver.core.api.domain.entity.PlanningEntity\n",
    "import ai.timefold.solver.core.api.domain.lookup.PlanningId\n",
    "import ai.timefold.solver.core.api.domain.variable.PlanningVariable\n",
    "import ai.timefold.solver.core.api.domain.solution.ProblemFactCollectionProperty\n",
    "import ai.timefold.solver.core.api.domain.solution.PlanningEntityCollectionProperty\n",
    "import ai.timefold.solver.core.api.domain.valuerange.ValueRangeProvider\n",
    "import ai.timefold.solver.core.api.score.stream.ConstraintProvider\n",
    "import ai.timefold.solver.core.api.solver.Solver\n",
    "import ai.timefold.solver.core.api.solver.SolverFactory\n",
    "import ai.timefold.solver.core.config.solver.SolverConfig\n",
    "import java.time.LocalTime\n",
    "import java.time.DayOfWeek\n",
    "import java.time.Duration\n"
   ],
   "outputs": [
    {
     "name": "stderr",
     "output_type": "stream",
     "text": [
      "Line_1.jupyter.kts (8:49 - 67) Conflicting import, imported name 'ConstraintProvider' is ambiguous\n",
      "Line_1.jupyter.kts (17:49 - 67) Conflicting import, imported name 'ConstraintProvider' is ambiguous"
     ]
    }
   ],
   "execution_count": 1
  },
  {
   "metadata": {
    "ExecuteTime": {
     "end_time": "2024-09-20T09:03:29.094798300Z",
     "start_time": "2024-09-20T09:03:28.840281400Z"
    }
   },
   "cell_type": "code",
   "source": [
    "// Location Class\n",
    "data class Location(\n",
    "    val name: String,\n",
    "    val latitude: Double,\n",
    "    val longitude: Double\n",
    ")\n",
    "\n",
    "// Skill Class\n",
    "data class Skill(\n",
    "    val name: String\n",
    ")\n",
    "\n",
    "// Agent Class\n",
    "data class Agent(\n",
    "    @PlanningId\n",
    "    val id: Long,\n",
    "    val name: String,\n",
    "    val skills: List<Skill>,\n",
    "    val homeLocation: Location,\n",
    "    val vehicle: Vehicle,\n",
    "    val weeklyWorkloadHours: Int = 40 // Default 40 hours\n",
    ")\n",
    "\n",
    "// Vehicle Class\n",
    "data class Vehicle(\n",
    "    val id: Long,\n",
    "    val licensePlate: String,\n",
    "    val capacity: Int = 1 // Assuming one vehicle per agent\n",
    ")\n",
    "\n",
    "// Meeting Class\n",
    "@PlanningEntity\n",
    "data class Meeting(\n",
    "    @PlanningId\n",
    "    val id: Long,\n",
    "    val client: String,\n",
    "    val location: Location,\n",
    "    val requiredSkills: List<Skill>,\n",
    "    val durationHours: Int,\n",
    "    val startTime: LocalTime, // Start time of the meeting\n",
    "    val endTime: LocalTime,   // End time of the meeting\n",
    "    var assignedAgent: Agent? = null // Planning variable\n",
    ") {\n",
    "    // No-arg constructor required for Timefold\n",
    "    constructor() : this(0, \"\", Location(\"\", 0.0, 0.0), emptyList(), 1, LocalTime.MIDNIGHT, LocalTime.MIDNIGHT)\n",
    "}\n"
   ],
   "outputs": [
    {
     "name": "stderr",
     "output_type": "stream",
     "text": [
      "Line_2.jupyter.kts (15:6 - 16) Unresolved reference: PlanningId\n",
      "Line_2.jupyter.kts (32:2 - 16) Unresolved reference: PlanningEntity\n",
      "Line_2.jupyter.kts (34:6 - 16) Unresolved reference: PlanningId\n",
      "Line_2.jupyter.kts (40:20 - 29) Unresolved reference: LocalTime\n",
      "Line_2.jupyter.kts (41:18 - 27) Unresolved reference: LocalTime\n",
      "Line_2.jupyter.kts (45:73 - 82) Unresolved reference: LocalTime\n",
      "Line_2.jupyter.kts (45:93 - 102) Unresolved reference: LocalTime"
     ]
    }
   ],
   "execution_count": 2
  },
  {
   "metadata": {},
   "cell_type": "code",
   "outputs": [],
   "execution_count": null,
   "source": ""
  }
 ],
 "metadata": {
  "kernelspec": {
   "display_name": "Kotlin",
   "language": "kotlin",
   "name": "kotlin"
  },
  "language_info": {
   "name": "kotlin",
   "version": "1.9.23",
   "mimetype": "text/x-kotlin",
   "file_extension": ".kt",
   "pygments_lexer": "kotlin",
   "codemirror_mode": "text/x-kotlin",
   "nbconvert_exporter": ""
  }
 },
 "nbformat": 4,
 "nbformat_minor": 0
}
