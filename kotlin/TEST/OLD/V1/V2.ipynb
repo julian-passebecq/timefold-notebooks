{
 "cells": [
  {
   "metadata": {
    "ExecuteTime": {
     "end_time": "2024-09-18T15:15:05.863992100Z",
     "start_time": "2024-09-18T15:15:05.648389700Z"
    }
   },
   "cell_type": "code",
   "source": [
    "@file:DependsOn(\"ai.timefold.solver:timefold-solver-core:1.11.0\")\n",
    "@file:DependsOn(\"com.fasterxml.jackson.module:jackson-module-kotlin:2.17.1\")"
   ],
   "outputs": [],
   "execution_count": 52
  },
  {
   "metadata": {
    "ExecuteTime": {
     "end_time": "2024-09-18T15:15:05.946803300Z",
     "start_time": "2024-09-18T15:15:05.864992700Z"
    }
   },
   "cell_type": "code",
   "source": [
    "import com.fasterxml.jackson.annotation.JsonFormat\n",
    "\n",
    "@JsonFormat(shape = JsonFormat.Shape.ARRAY)\n",
    "data class Location(\n",
    "    val latitude: Double,\n",
    "    val longitude: Double\n",
    ") {\n",
    "    fun calcEuclideanDistanceTo(other: Location): Double {\n",
    "        val xDifference = latitude - other.latitude\n",
    "        val yDifference = longitude - other.longitude\n",
    "        return Math.sqrt(xDifference * xDifference + yDifference * yDifference)\n",
    "    }\n",
    "}\n"
   ],
   "outputs": [],
   "execution_count": 53
  },
  {
   "metadata": {
    "ExecuteTime": {
     "end_time": "2024-09-18T15:15:05.962883300Z",
     "start_time": "2024-09-18T15:15:05.948805700Z"
    }
   },
   "cell_type": "code",
   "source": [
    "import ai.timefold.solver.core.api.domain.entity.PlanningEntity\n",
    "import ai.timefold.solver.core.api.domain.variable.PlanningVariable\n",
    "import ai.timefold.solver.core.api.domain.variable.PlanningId\n",
    "import com.fasterxml.jackson.annotation.JsonProperty\n",
    "\n",
    "data class Agent(\n",
    "    @PlanningId\n",
    "    val name: String,\n",
    "    val homeLocation: Location,\n",
    "    val skills: List<String>\n",
    ")\n"
   ],
   "outputs": [
    {
     "name": "stderr",
     "output_type": "stream",
     "text": [
      "Line_54.jupyter.kts (3:52 - 62) Unresolved reference: PlanningId\n",
      "Line_54.jupyter.kts (7:6 - 16) Unresolved reference: PlanningId"
     ]
    }
   ],
   "execution_count": 54
  },
  {
   "metadata": {
    "ExecuteTime": {
     "end_time": "2024-09-18T15:15:05.977742500Z",
     "start_time": "2024-09-18T15:15:05.963884700Z"
    }
   },
   "cell_type": "code",
   "source": [
    "data class Meeting(\n",
    "    val name: String,\n",
    "    val location: Location,\n",
    "    @JsonProperty(\"required_skill\")\n",
    "    val requiredSkill: String,\n",
    "    @JsonProperty(\"time_window\")\n",
    "    val timeWindow: List<Int>, // Assuming time window is represented as [startTime, endTime]\n",
    "    val duration: Int\n",
    ")\n"
   ],
   "outputs": [
    {
     "name": "stderr",
     "output_type": "stream",
     "text": [
      "Line_55.jupyter.kts (4:6 - 18) Unresolved reference: JsonProperty\n",
      "Line_55.jupyter.kts (6:6 - 18) Unresolved reference: JsonProperty"
     ]
    }
   ],
   "execution_count": 55
  },
  {
   "metadata": {
    "ExecuteTime": {
     "end_time": "2024-09-18T15:15:06.003160700Z",
     "start_time": "2024-09-18T15:15:05.978742600Z"
    }
   },
   "cell_type": "code",
   "source": [
    "import ai.timefold.solver.core.api.domain.entity.PlanningEntity\n",
    "import ai.timefold.solver.core.api.domain.variable.PlanningVariable\n",
    "\n",
    "@PlanningEntity\n",
    "data class Assignment(\n",
    "    val meeting: Meeting\n",
    ") {\n",
    "    @PlanningVariable(valueRangeProviderRefs = [\"agentRange\"], nullable = true)\n",
    "    var agent: Agent? = null\n",
    "\n",
    "    // No-arg constructor required for Timefold\n",
    "    constructor() : this(Meeting(\"\", Location(0.0, 0.0), \"\", listOf(0, 0), 0))\n",
    "}\n"
   ],
   "outputs": [
    {
     "name": "stderr",
     "output_type": "stream",
     "text": [
      "Line_56.jupyter.kts (6:18 - 25) Unresolved reference: Meeting\n",
      "Line_56.jupyter.kts (9:16 - 21) Unresolved reference: Agent\n",
      "Line_56.jupyter.kts (12:26 - 33) Unresolved reference: Meeting"
     ]
    }
   ],
   "execution_count": 56
  },
  {
   "metadata": {
    "ExecuteTime": {
     "end_time": "2024-09-18T15:15:06.030290700Z",
     "start_time": "2024-09-18T15:15:06.005157900Z"
    }
   },
   "cell_type": "code",
   "source": [
    "import ai.timefold.solver.core.api.domain.solution.PlanningSolution\n",
    "import ai.timefold.solver.core.api.domain.solution.PlanningEntityCollectionProperty\n",
    "import ai.timefold.solver.core.api.domain.solution.ProblemFactCollectionProperty\n",
    "import ai.timefold.solver.core.api.domain.solution.PlanningScore\n",
    "import ai.timefold.solver.core.api.domain.valuerange.ValueRangeProvider\n",
    "import ai.timefold.solver.core.api.score.buildin.hardsoft.HardSoftScore\n",
    "\n",
    "@PlanningSolution\n",
    "data class Schedule(\n",
    "    @ProblemFactCollectionProperty\n",
    "    @ValueRangeProvider(id = \"agentRange\")\n",
    "    val agents: List<Agent>,\n",
    "\n",
    "    @ProblemFactCollectionProperty\n",
    "    val meetings: List<Meeting>,\n",
    "\n",
    "    @PlanningEntityCollectionProperty\n",
    "    val assignments: List<Assignment>\n",
    ") {\n",
    "    @PlanningScore\n",
    "    var score: HardSoftScore? = null\n",
    "\n",
    "    // No-arg constructor required for Timefold\n",
    "    constructor() : this(emptyList(), emptyList(), emptyList())\n",
    "}\n"
   ],
   "outputs": [
    {
     "name": "stderr",
     "output_type": "stream",
     "text": [
      "Line_57.jupyter.kts (12:22 - 27) Unresolved reference: Agent\n",
      "Line_57.jupyter.kts (15:24 - 31) Unresolved reference: Meeting\n",
      "Line_57.jupyter.kts (18:27 - 37) Unresolved reference: Assignment"
     ]
    }
   ],
   "execution_count": 57
  },
  {
   "metadata": {
    "ExecuteTime": {
     "end_time": "2024-09-18T15:15:06.146750300Z",
     "start_time": "2024-09-18T15:15:06.031289900Z"
    }
   },
   "cell_type": "code",
   "source": [
    "import ai.timefold.solver.core.api.score.stream.Constraint\n",
    "import ai.timefold.solver.core.api.score.stream.ConstraintFactory\n",
    "import ai.timefold.solver.core.api.score.stream.ConstraintProvider\n",
    "import ai.timefold.solver.core.api.score.buildin.hardsoft.HardSoftScore\n",
    "\n",
    "class AssignmentConstraintProvider : ConstraintProvider {\n",
    "    override fun defineConstraints(constraintFactory: ConstraintFactory): Array<Constraint> {\n",
    "        return arrayOf(\n",
    "            requiredSkillConstraint(constraintFactory),\n",
    "            agentConflictConstraint(constraintFactory),\n",
    "            minimizeTravelDistanceConstraint(constraintFactory),\n",
    "            timeWindowConstraint(constraintFactory)\n",
    "        )\n",
    "    }\n",
    "\n",
    "    // Hard constraint: Agent must have the required skill\n",
    "    private fun requiredSkillConstraint(constraintFactory: ConstraintFactory): Constraint {\n",
    "        return constraintFactory.from(Assignment::class.java)\n",
    "            .filter { assignment ->\n",
    "                val agentSkills = assignment.agent?.skills ?: return@filter false\n",
    "                !agentSkills.contains(assignment.meeting.requiredSkill)\n",
    "            }\n",
    "            .penalize(HardSoftScore.ONE_HARD)\n",
    "            .asConstraint(\"Agent must have the required skill\")\n",
    "    }\n",
    "\n",
    "    // Hard constraint: An agent can be assigned to only one meeting at a time\n",
    "    private fun agentConflictConstraint(constraintFactory: ConstraintFactory): Constraint {\n",
    "        return constraintFactory.fromUniquePair(Assignment::class.java)\n",
    "            .filter { a1, a2 ->\n",
    "                a1.agent != null && a1.agent == a2.agent &&\n",
    "                        timeOverlap(a1.meeting, a2.meeting)\n",
    "            }\n",
    "            .penalize(HardSoftScore.ONE_HARD)\n",
    "            .asConstraint(\"Agent cannot be assigned to overlapping meetings\")\n",
    "    }\n",
    "\n",
    "    // Soft constraint: Minimize total travel distance\n",
    "    private fun minimizeTravelDistanceConstraint(constraintFactory: ConstraintFactory): Constraint {\n",
    "        return constraintFactory.from(Assignment::class.java)\n",
    "            .filter { it.agent != null }\n",
    "            .penalizeDouble(HardSoftScore.ONE_SOFT) { assignment ->\n",
    "                val agentLocation = assignment.agent!!.homeLocation\n",
    "                val meetingLocation = assignment.meeting.location\n",
    "                agentLocation.calcEuclideanDistanceTo(meetingLocation)\n",
    "            }\n",
    "            .asConstraint(\"Minimize travel distance\")\n",
    "    }\n",
    "\n",
    "    // Hard constraint: Meeting must be within agent's availability (assuming agents are available all the time for now)\n",
    "    // Alternatively, enforce meeting time windows\n",
    "    private fun timeWindowConstraint(constraintFactory: ConstraintFactory): Constraint {\n",
    "        // For simplicity, we assume agents are available at all times.\n",
    "        // Implement this constraint if agents have specific availability windows.\n",
    "        return constraintFactory.from(Assignment::class.java)\n",
    "            .filter { it.agent != null } // Optional: Add time window constraints here\n",
    "            .reward(HardSoftScore.ZERO)\n",
    "            .asConstraint(\"Time window constraint placeholder\")\n",
    "    }\n",
    "\n",
    "    // Helper function to check time overlap between two meetings\n",
    "    private fun timeOverlap(meeting1: Meeting, meeting2: Meeting): Boolean {\n",
    "        val start1 = meeting1.timeWindow[0]\n",
    "        val end1 = meeting1.timeWindow[1]\n",
    "        val start2 = meeting2.timeWindow[0]\n",
    "        val end2 = meeting2.timeWindow[1]\n",
    "        return start1 < end2 && start2 < end1\n",
    "    }\n",
    "}\n"
   ],
   "outputs": [
    {
     "name": "stderr",
     "output_type": "stream",
     "text": [
      "Line_58.jupyter.kts (18:34 - 38) 'from(Class<A!>!): UniConstraintStream<A!>!' is deprecated. Deprecated in Java\n",
      "Line_58.jupyter.kts (18:34 - 38) Not enough information to infer type variable A\n",
      "Line_58.jupyter.kts (18:39 - 49) Unresolved reference: Assignment\n",
      "Line_58.jupyter.kts (19:23 - 33) Cannot infer a type for this parameter. Please specify it explicitly.\n",
      "Line_58.jupyter.kts (20:17 - 34) Unreachable code\n",
      "Line_58.jupyter.kts (20:21 - 32) Variable 'agentSkills' is never used\n",
      "Line_58.jupyter.kts (21:17 - 72) Unreachable code\n",
      "Line_58.jupyter.kts (29:34 - 48) 'fromUniquePair(Class<A!>!): BiConstraintStream<A!, A!>!' is deprecated. Deprecated in Java\n",
      "Line_58.jupyter.kts (29:34 - 48) Not enough information to infer type variable A\n",
      "Line_58.jupyter.kts (29:49 - 59) Unresolved reference: Assignment\n",
      "Line_58.jupyter.kts (30:23 - 25) Cannot infer a type for this parameter. Please specify it explicitly.\n",
      "Line_58.jupyter.kts (30:27 - 29) Cannot infer a type for this parameter. Please specify it explicitly.\n",
      "Line_58.jupyter.kts (40:34 - 38) 'from(Class<A!>!): UniConstraintStream<A!>!' is deprecated. Deprecated in Java\n",
      "Line_58.jupyter.kts (40:34 - 38) Not enough information to infer type variable A\n",
      "Line_58.jupyter.kts (40:39 - 49) Unresolved reference: Assignment\n",
      "Line_58.jupyter.kts (41:23 - 25) Unresolved reference: it\n",
      "Line_58.jupyter.kts (42:55 - 65) Cannot infer a type for this parameter. Please specify it explicitly.\n",
      "Line_58.jupyter.kts (55:34 - 38) 'from(Class<A!>!): UniConstraintStream<A!>!' is deprecated. Deprecated in Java\n",
      "Line_58.jupyter.kts (55:34 - 38) Not enough information to infer type variable A\n",
      "Line_58.jupyter.kts (55:39 - 49) Unresolved reference: Assignment\n",
      "Line_58.jupyter.kts (56:23 - 25) Unresolved reference: it\n",
      "Line_58.jupyter.kts (62:39 - 46) Unresolved reference: Meeting\n",
      "Line_58.jupyter.kts (62:58 - 65) Unresolved reference: Meeting"
     ]
    }
   ],
   "execution_count": 58
  },
  {
   "metadata": {
    "ExecuteTime": {
     "end_time": "2024-09-18T15:15:06.183223200Z",
     "start_time": "2024-09-18T15:15:06.148750500Z"
    }
   },
   "cell_type": "code",
   "source": [
    "import java.io.File\n",
    "import com.fasterxml.jackson.module.kotlin.jacksonObjectMapper\n",
    "import com.fasterxml.jackson.module.kotlin.readValue\n",
    "\n",
    "val mapper = jacksonObjectMapper()\n",
    "\n",
    "// Read the JSON data\n",
    "data class InputData(\n",
    "    val vehicles: List<Agent>,\n",
    "    val visits: List<Meeting>\n",
    ")\n",
    "\n",
    "val inputData: InputData = mapper.readValue(File(\"data.json\"))\n",
    "\n",
    "// Create assignments (initially unassigned)\n",
    "val assignments = inputData.visits.map { Assignment(it) }\n",
    "\n",
    "// Create the Schedule (planning solution)\n",
    "val schedule = Schedule(\n",
    "    agents = inputData.vehicles,\n",
    "    meetings = inputData.visits,\n",
    "    assignments = assignments\n",
    ")\n"
   ],
   "outputs": [
    {
     "name": "stderr",
     "output_type": "stream",
     "text": [
      "Line_59.jupyter.kts (9:24 - 29) Unresolved reference: Agent\n",
      "Line_59.jupyter.kts (10:22 - 29) Unresolved reference: Meeting\n",
      "Line_59.jupyter.kts (16:36 - 39) Not enough information to infer type variable R\n",
      "Line_59.jupyter.kts (16:42 - 52) Unresolved reference: Assignment\n",
      "Line_59.jupyter.kts (19:16 - 24) Unresolved reference: Schedule"
     ]
    }
   ],
   "execution_count": 59
  },
  {
   "metadata": {
    "ExecuteTime": {
     "end_time": "2024-09-18T15:15:06.222271400Z",
     "start_time": "2024-09-18T15:15:06.185735500Z"
    }
   },
   "cell_type": "code",
   "source": [
    "import ai.timefold.solver.core.config.solver.SolverConfig\n",
    "import ai.timefold.solver.core.api.solver.SolverFactory\n",
    "import ai.timefold.solver.core.api.solver.Solver\n",
    "\n",
    "val solverConfig = SolverConfig()\n",
    "    .withSolutionClass(Schedule::class.java)\n",
    "    .withEntityClasses(Assignment::class.java)\n",
    "    .withConstraintProviderClass(AssignmentConstraintProvider::class.java)\n",
    "    .withTerminationSpentLimit(java.time.Duration.ofSeconds(10))\n",
    "\n",
    "val solverFactory: SolverFactory<Schedule> = SolverFactory.create(solverConfig)\n",
    "\n",
    "println(\"Solving the problem ...\")\n",
    "val solver: Solver<Schedule> = solverFactory.buildSolver()\n",
    "val solution: Schedule = solver.solve(schedule)\n",
    "println(\"Solving finished with score (${solution.score}).\")\n"
   ],
   "outputs": [
    {
     "name": "stderr",
     "output_type": "stream",
     "text": [
      "Line_60.jupyter.kts (6:24 - 32) Unresolved reference: Schedule\n",
      "Line_60.jupyter.kts (7:24 - 34) Unresolved reference: Assignment\n",
      "Line_60.jupyter.kts (8:34 - 62) Unresolved reference: AssignmentConstraintProvider\n",
      "Line_60.jupyter.kts (11:34 - 42) Unresolved reference: Schedule\n",
      "Line_60.jupyter.kts (14:20 - 28) Unresolved reference: Schedule\n",
      "Line_60.jupyter.kts (15:15 - 23) Unresolved reference: Schedule\n",
      "Line_60.jupyter.kts (15:39 - 47) Unresolved reference: schedule"
     ]
    }
   ],
   "execution_count": 60
  },
  {
   "metadata": {
    "ExecuteTime": {
     "end_time": "2024-09-18T15:15:06.264024700Z",
     "start_time": "2024-09-18T15:15:06.223270200Z"
    }
   },
   "cell_type": "code",
   "source": [
    "// Collect assignments\n",
    "val assignmentsByAgent = solution.assignments\n",
    "    .filter { it.agent != null }\n",
    "    .groupBy { it.agent!!.name }\n",
    "\n",
    "println(\"Assignments:\")\n",
    "assignmentsByAgent.forEach { (agentName, assignments) ->\n",
    "    println(\"$agentName is assigned to meetings:\")\n",
    "    assignments.forEach { assignment ->\n",
    "        println(\" - ${assignment.meeting.name} at location ${assignment.meeting.location}\")\n",
    "    }\n",
    "}\n"
   ],
   "outputs": [
    {
     "name": "stderr",
     "output_type": "stream",
     "text": [
      "Line_61.jupyter.kts (2:26 - 34) Unresolved reference: solution\n",
      "Line_61.jupyter.kts (3:15 - 17) Unresolved reference: it\n",
      "Line_61.jupyter.kts (4:16 - 18) Unresolved reference: it\n",
      "Line_61.jupyter.kts (7:20 - 27) Overload resolution ambiguity: \n",
      "public inline fun <T> Iterable<TypeVariable(T)>.forEach(action: (TypeVariable(T)) -> Unit): Unit defined in kotlin.collections\n",
      "public inline fun <K, V> Map<out TypeVariable(K), TypeVariable(V)>.forEach(action: (Map.Entry<TypeVariable(K), TypeVariable(V)>) -> Unit): Unit defined in kotlin.collections\n",
      "Line_61.jupyter.kts (7:30 - 54) Cannot infer a type for this parameter. Please specify it explicitly.\n",
      "Line_61.jupyter.kts (9:17 - 24) Overload resolution ambiguity: \n",
      "public inline fun <T> Iterable<TypeVariable(T)>.forEach(action: (TypeVariable(T)) -> Unit): Unit defined in kotlin.collections\n",
      "public inline fun <K, V> Map<out TypeVariable(K), TypeVariable(V)>.forEach(action: (Map.Entry<TypeVariable(K), TypeVariable(V)>) -> Unit): Unit defined in kotlin.collections\n",
      "Line_61.jupyter.kts (9:27 - 37) Cannot infer a type for this parameter. Please specify it explicitly."
     ]
    }
   ],
   "execution_count": 61
  }
 ],
 "metadata": {
  "kernelspec": {
   "display_name": "Kotlin",
   "language": "kotlin",
   "name": "kotlin"
  },
  "language_info": {
   "name": "kotlin",
   "version": "1.9.23",
   "mimetype": "text/x-kotlin",
   "file_extension": ".kt",
   "pygments_lexer": "kotlin",
   "codemirror_mode": "text/x-kotlin",
   "nbconvert_exporter": ""
  }
 },
 "nbformat": 4,
 "nbformat_minor": 0
}
