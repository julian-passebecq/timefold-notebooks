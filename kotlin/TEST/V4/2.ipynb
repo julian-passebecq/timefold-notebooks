{
 "cells": [
  {
   "cell_type": "code",
   "metadata": {
    "collapsed": true,
    "jupyter": {
     "is_executing": true
    },
    "ExecuteTime": {
     "start_time": "2024-09-20T10:07:01.317980500Z"
    }
   },
   "source": [
    ""
   ],
   "outputs": [],
   "execution_count": null
  },
  {
   "metadata": {
    "jupyter": {
     "is_executing": true
    },
    "ExecuteTime": {
     "start_time": "2024-09-20T10:07:01.320981Z"
    }
   },
   "cell_type": "code",
   "source": "@file:DependsOn(\"ai.timefold.solver:timefold-solver-core:1.14.0\")\n",
   "outputs": [],
   "execution_count": null
  },
  {
   "metadata": {
    "jupyter": {
     "is_executing": true
    },
    "ExecuteTime": {
     "start_time": "2024-09-20T10:07:01.484500500Z"
    }
   },
   "cell_type": "code",
   "source": [
    "import java.time.Duration\n",
    "import java.time.LocalDateTime\n",
    "import ai.timefold.solver.core.api.domain.lookup.PlanningId\n",
    "\n",
    "data class Skill(\n",
    "    val id: String,\n",
    "    val name: String\n",
    ")\n",
    "\n",
    "data class Location(\n",
    "    val latitude: Double,\n",
    "    val longitude: Double\n",
    ") {\n",
    "    // Simplified distance calculation (Euclidean)\n",
    "    fun distanceTo(other: Location): Double {\n",
    "        val xDiff = latitude - other.latitude\n",
    "        val yDiff = longitude - other.longitude\n",
    "        return Math.sqrt(xDiff * xDiff + yDiff * yDiff)\n",
    "    }\n",
    "\n",
    "    // Assuming average speed of 50 km/h for travel time calculation\n",
    "    fun travelTimeTo(other: Location): Duration {\n",
    "        val distanceKm = distanceTo(other) * 111  // Approximate conversion to kilometers\n",
    "        val averageSpeedKmh = 50.0\n",
    "        val timeInHours = distanceKm / averageSpeedKmh\n",
    "        return Duration.ofMinutes((timeInHours * 60).toLong())\n",
    "    }\n",
    "}\n",
    "\n",
    "data class TimeWindow(\n",
    "    val start: LocalDateTime,\n",
    "    val end: LocalDateTime\n",
    ")\n",
    "\n",
    "interface Standstill {\n",
    "    val location: Location\n",
    "    val departureTime: LocalDateTime?\n",
    "}\n"
   ],
   "outputs": [],
   "execution_count": null
  },
  {
   "metadata": {
    "jupyter": {
     "is_executing": true
    },
    "ExecuteTime": {
     "start_time": "2024-09-20T10:07:01.580573600Z"
    }
   },
   "cell_type": "code",
   "source": [
    "interface Standstill {\n",
    "    val location: Location\n",
    "    val departureTime: LocalDateTime?\n",
    "}\n"
   ],
   "outputs": [],
   "execution_count": null
  },
  {
   "metadata": {
    "jupyter": {
     "is_executing": true
    },
    "ExecuteTime": {
     "start_time": "2024-09-20T10:07:01.611376100Z"
    }
   },
   "cell_type": "code",
   "source": [
    "import ai.timefold.solver.core.api.domain.entity.PlanningEntity\n",
    "import ai.timefold.solver.core.api.domain.variable.PlanningVariable\n",
    "import ai.timefold.solver.core.api.domain.variable.InverseRelationShadowVariable\n",
    "import ai.timefold.solver.core.api.domain.variable.PlanningVariableGraphType\n",
    "import ai.timefold.solver.core.api.domain.variable.ShadowVariable\n",
    "\n",
    "@PlanningEntity\n",
    "class Meeting(\n",
    "    @PlanningId\n",
    "    val id: String,\n",
    "    override val location: Location,\n",
    "    val requiredSkills: List<Skill>,\n",
    "    val timeWindow: TimeWindow,\n",
    "    val duration: Duration\n",
    ") : Standstill {\n",
    "\n",
    "    // Planning variable: previous standstill (Agent or another Meeting)\n",
    "    @PlanningVariable(valueRangeProviderRefs = [\"standstillRange\"], graphType = PlanningVariableGraphType.CHAINED)\n",
    "    var previousStandstill: Standstill? = null\n",
    "\n",
    "    // Shadow variables\n",
    "    @ShadowVariable(sourceVariableName = \"previousStandstill\")\n",
    "    var arrivalTime: LocalDateTime? = null\n",
    "\n",
    "    @ShadowVariable(sourceVariableName = \"arrivalTime\")\n",
    "    override var departureTime: LocalDateTime? = null\n",
    "\n",
    "    // For chaining\n",
    "    @InverseRelationShadowVariable(sourceVariableName = \"previousStandstill\")\n",
    "    var nextMeeting: Meeting? = null\n",
    "}\n"
   ],
   "outputs": [
    {
     "name": "stderr",
     "output_type": "stream",
     "text": [
      "Line_34.jupyter.kts (22:21 - 63) No value passed for parameter 'variableListenerClass'\n",
      "Line_34.jupyter.kts (25:21 - 56) No value passed for parameter 'variableListenerClass'"
     ]
    }
   ],
   "execution_count": null
  },
  {
   "metadata": {
    "jupyter": {
     "is_executing": true
    },
    "ExecuteTime": {
     "start_time": "2024-09-20T10:07:01.635225700Z"
    }
   },
   "cell_type": "code",
   "source": "",
   "outputs": [
    {
     "name": "stderr",
     "output_type": "stream",
     "text": [
      "Line_35.jupyter.kts (22:22 - 29) Unresolved reference: Meeting"
     ]
    }
   ],
   "execution_count": null
  },
  {
   "metadata": {
    "jupyter": {
     "is_executing": true
    },
    "ExecuteTime": {
     "start_time": "2024-09-20T10:07:01.656540200Z"
    }
   },
   "cell_type": "code",
   "source": [
    "import ai.timefold.solver.core.api.score.director.ScoreDirector\n",
    "import ai.timefold.solver.core.api.domain.variable.VariableListener\n",
    "\n",
    "class ArrivalTimeUpdatingVariableListener : VariableListener<Schedule, Meeting> {\n",
    "    override fun beforeEntityAdded(scoreDirector: ScoreDirector<Schedule>?, meeting: Meeting?) {}\n",
    "    override fun afterEntityAdded(scoreDirector: ScoreDirector<Schedule>?, meeting: Meeting?) {\n",
    "        updateArrivalTime(scoreDirector, meeting)\n",
    "    }\n",
    "    override fun beforeVariableChanged(scoreDirector: ScoreDirector<Schedule>?, meeting: Meeting?) {}\n",
    "    override fun afterVariableChanged(scoreDirector: ScoreDirector<Schedule>?, meeting: Meeting?) {\n",
    "        updateArrivalTime(scoreDirector, meeting)\n",
    "    }\n",
    "    override fun beforeEntityRemoved(scoreDirector: ScoreDirector<Schedule>?, meeting: Meeting?) {}\n",
    "    override fun afterEntityRemoved(scoreDirector: ScoreDirector<Schedule>?, meeting: Meeting?) {}\n",
    "\n",
    "    private fun updateArrivalTime(scoreDirector: ScoreDirector<Schedule>?, meeting: Meeting?) {\n",
    "        if (meeting == null || scoreDirector == null) return\n",
    "        val previous = meeting.previousStandstill\n",
    "        val arrivalTime = if (previous == null) {\n",
    "            null\n",
    "        } else {\n",
    "            val departureTime = previous.departureTime ?: return\n",
    "            val travelTime = previous.location.travelTimeTo(meeting.location)\n",
    "            departureTime.plus(travelTime)\n",
    "        }\n",
    "        scoreDirector.beforeVariableChanged(meeting, \"arrivalTime\")\n",
    "        meeting.arrivalTime = arrivalTime\n",
    "        scoreDirector.afterVariableChanged(meeting, \"arrivalTime\")\n",
    "    }\n",
    "}\n",
    "\n",
    "class DepartureTimeUpdatingVariableListener : VariableListener<Schedule, Meeting> {\n",
    "    override fun beforeEntityAdded(scoreDirector: ScoreDirector<Schedule>?, meeting: Meeting?) {}\n",
    "    override fun afterEntityAdded(scoreDirector: ScoreDirector<Schedule>?, meeting: Meeting?) {\n",
    "        updateDepartureTime(scoreDirector, meeting)\n",
    "    }\n",
    "    override fun beforeVariableChanged(scoreDirector: ScoreDirector<Schedule>?, meeting: Meeting?) {}\n",
    "    override fun afterVariableChanged(scoreDirector: ScoreDirector<Schedule>?, meeting: Meeting?) {\n",
    "        updateDepartureTime(scoreDirector, meeting)\n",
    "    }\n",
    "    override fun beforeEntityRemoved(scoreDirector: ScoreDirector<Schedule>?, meeting: Meeting?) {}\n",
    "    override fun afterEntityRemoved(scoreDirector: ScoreDirector<Schedule>?, meeting: Meeting?) {}\n",
    "\n",
    "    private fun updateDepartureTime(scoreDirector: ScoreDirector<Schedule>?, meeting: Meeting?) {\n",
    "        if (meeting == null || scoreDirector == null) return\n",
    "        val arrivalTime = meeting.arrivalTime ?: return\n",
    "        val departureTime = arrivalTime.plus(meeting.duration)\n",
    "        scoreDirector.beforeVariableChanged(meeting, \"departureTime\")\n",
    "        meeting.departureTime = departureTime\n",
    "        scoreDirector.afterVariableChanged(meeting, \"departureTime\")\n",
    "    }\n",
    "}\n"
   ],
   "outputs": [
    {
     "name": "stderr",
     "output_type": "stream",
     "text": [
      "Line_36.jupyter.kts (4:62 - 70) Unresolved reference: Schedule\n",
      "Line_36.jupyter.kts (4:72 - 79) Unresolved reference: Meeting\n",
      "Line_36.jupyter.kts (5:65 - 73) Unresolved reference: Schedule\n",
      "Line_36.jupyter.kts (5:86 - 93) Unresolved reference: Meeting\n",
      "Line_36.jupyter.kts (6:64 - 72) Unresolved reference: Schedule\n",
      "Line_36.jupyter.kts (6:85 - 92) Unresolved reference: Meeting\n",
      "Line_36.jupyter.kts (9:69 - 77) Unresolved reference: Schedule\n",
      "Line_36.jupyter.kts (9:90 - 97) Unresolved reference: Meeting\n",
      "Line_36.jupyter.kts (10:68 - 76) Unresolved reference: Schedule\n",
      "Line_36.jupyter.kts (10:89 - 96) Unresolved reference: Meeting\n",
      "Line_36.jupyter.kts (13:67 - 75) Unresolved reference: Schedule\n",
      "Line_36.jupyter.kts (13:88 - 95) Unresolved reference: Meeting\n",
      "Line_36.jupyter.kts (14:66 - 74) Unresolved reference: Schedule\n",
      "Line_36.jupyter.kts (14:87 - 94) Unresolved reference: Meeting\n",
      "Line_36.jupyter.kts (16:64 - 72) Unresolved reference: Schedule\n",
      "Line_36.jupyter.kts (16:85 - 92) Unresolved reference: Meeting\n",
      "Line_36.jupyter.kts (22:13 - 32) Unreachable code\n",
      "Line_36.jupyter.kts (22:17 - 30) Variable 'departureTime' is never used\n",
      "Line_36.jupyter.kts (23:13 - 78) Unreachable code\n",
      "Line_36.jupyter.kts (24:13 - 43) Unreachable code\n",
      "Line_36.jupyter.kts (24:27 - 31) Overload resolution ambiguity: \n",
      "public inline operator fun BigDecimal.plus(other: BigDecimal): BigDecimal defined in kotlin\n",
      "public inline operator fun BigInteger.plus(other: BigInteger): BigInteger defined in kotlin\n",
      "public operator fun <T> Array<TypeVariable(T)>.plus(elements: Array<out TypeVariable(T)>): Array<TypeVariable(T)> defined in kotlin.collections\n",
      "public operator fun <T> Array<TypeVariable(T)>.plus(elements: Collection<TypeVariable(T)>): Array<TypeVariable(T)> defined in kotlin.collections\n",
      "public operator fun BooleanArray.plus(element: Boolean): BooleanArray defined in kotlin.collections\n",
      "public operator fun BooleanArray.plus(elements: BooleanArray): BooleanArray defined in kotlin.collections\n",
      "public operator fun BooleanArray.plus(elements: Collection<Boolean>): BooleanArray defined in kotlin.collections\n",
      "public operator fun ByteArray.plus(element: Byte): ByteArray defined in kotlin.collections\n",
      "public operator fun ByteArray.plus(elements: ByteArray): ByteArray defined in kotlin.collections\n",
      "public operator fun ByteArray.plus(elements: Collection<Byte>): ByteArray defined in kotlin.collections\n",
      "public inline operator fun Char.plus(other: String): String defined in kotlin.text\n",
      "public operator fun CharArray.plus(element: Char): CharArray defined in kotlin.collections\n",
      "public operator fun CharArray.plus(elements: CharArray): CharArray defined in kotlin.collections\n",
      "public operator fun CharArray.plus(elements: Collection<Char>): CharArray defined in kotlin.collections\n",
      "public operator fun DoubleArray.plus(element: Double): DoubleArray defined in kotlin.collections\n",
      "public operator fun DoubleArray.plus(elements: DoubleArray): DoubleArray defined in kotlin.collections\n",
      "public operator fun DoubleArray.plus(elements: Collection<Double>): DoubleArray defined in kotlin.collections\n",
      "public operator fun FloatArray.plus(element: Float): FloatArray defined in kotlin.collections\n",
      "public operator fun FloatArray.plus(elements: FloatArray): FloatArray defined in kotlin.collections\n",
      "public operator fun FloatArray.plus(elements: Collection<Float>): FloatArray defined in kotlin.collections\n",
      "public operator fun IntArray.plus(element: Int): IntArray defined in kotlin.collections\n",
      "public operator fun IntArray.plus(elements: IntArray): IntArray defined in kotlin.collections\n",
      "public operator fun IntArray.plus(elements: Collection<Int>): IntArray defined in kotlin.collections\n",
      "public operator fun LongArray.plus(element: Long): LongArray defined in kotlin.collections\n",
      "public operator fun LongArray.plus(elements: LongArray): LongArray defined in kotlin.collections\n",
      "public operator fun LongArray.plus(elements: Collection<Long>): LongArray defined in kotlin.collections\n",
      "public operator fun ShortArray.plus(element: Short): ShortArray defined in kotlin.collections\n",
      "public operator fun ShortArray.plus(elements: ShortArray): ShortArray defined in kotlin.collections\n",
      "public operator fun ShortArray.plus(elements: Collection<Short>): ShortArray defined in kotlin.collections\n",
      "public operator fun String?.plus(other: Any?): String defined in kotlin\n",
      "public inline operator fun UByteArray.plus(element: UByte): UByteArray defined in kotlin.collections\n",
      "public inline operator fun UByteArray.plus(elements: UByteArray): UByteArray defined in kotlin.collections\n",
      "public operator fun UByteArray.plus(elements: Collection<UByte>): UByteArray defined in kotlin.collections\n",
      "public inline operator fun UIntArray.plus(element: UInt): UIntArray defined in kotlin.collections\n",
      "public inline operator fun UIntArray.plus(elements: UIntArray): UIntArray defined in kotlin.collections\n",
      "public operator fun UIntArray.plus(elements: Collection<UInt>): UIntArray defined in kotlin.collections\n",
      "public inline operator fun ULongArray.plus(element: ULong): ULongArray defined in kotlin.collections\n",
      "public inline operator fun ULongArray.plus(elements: ULongArray): ULongArray defined in kotlin.collections\n",
      "public operator fun ULongArray.plus(elements: Collection<ULong>): ULongArray defined in kotlin.collections\n",
      "public inline operator fun UShortArray.plus(element: UShort): UShortArray defined in kotlin.collections\n",
      "public inline operator fun UShortArray.plus(elements: UShortArray): UShortArray defined in kotlin.collections\n",
      "public operator fun UShortArray.plus(elements: Collection<UShort>): UShortArray defined in kotlin.collections\n",
      "public operator fun <T> Collection<TypeVariable(T)>.plus(elements: Array<out TypeVariable(T)>): List<TypeVariable(T)> defined in kotlin.collections\n",
      "public operator fun <T> Collection<TypeVariable(T)>.plus(elements: Iterable<TypeVariable(T)>): List<TypeVariable(T)> defined in kotlin.collections\n",
      "public operator fun <T> Collection<TypeVariable(T)>.plus(elements: Sequence<TypeVariable(T)>): List<TypeVariable(T)> defined in kotlin.collections\n",
      "public operator fun <T> Iterable<TypeVariable(T)>.plus(elements: Array<out TypeVariable(T)>): List<TypeVariable(T)> defined in kotlin.collections\n",
      "public operator fun <T> Iterable<TypeVariable(T)>.plus(elements: Iterable<TypeVariable(T)>): List<TypeVariable(T)> defined in kotlin.collections\n",
      "public operator fun <T> Iterable<TypeVariable(T)>.plus(elements: Sequence<TypeVariable(T)>): List<TypeVariable(T)> defined in kotlin.collections\n",
      "public operator fun <K, V> Map<out TypeVariable(K), TypeVariable(V)>.plus(pairs: Array<out Pair<TypeVariable(K), TypeVariable(V)>>): Map<TypeVariable(K), TypeVariable(V)> defined in kotlin.collections\n",
      "public operator fun <K, V> Map<out TypeVariable(K), TypeVariable(V)>.plus(pair: Pair<TypeVariable(K), TypeVariable(V)>): Map<TypeVariable(K), TypeVariable(V)> defined in kotlin.collections\n",
      "public operator fun <K, V> Map<out TypeVariable(K), TypeVariable(V)>.plus(pairs: Iterable<Pair<TypeVariable(K), TypeVariable(V)>>): Map<TypeVariable(K), TypeVariable(V)> defined in kotlin.collections\n",
      "public operator fun <K, V> Map<out TypeVariable(K), TypeVariable(V)>.plus(map: Map<out TypeVariable(K), TypeVariable(V)>): Map<TypeVariable(K), TypeVariable(V)> defined in kotlin.collections\n",
      "public operator fun <K, V> Map<out TypeVariable(K), TypeVariable(V)>.plus(pairs: Sequence<Pair<TypeVariable(K), TypeVariable(V)>>): Map<TypeVariable(K), TypeVariable(V)> defined in kotlin.collections\n",
      "public operator fun <T> Set<TypeVariable(T)>.plus(elements: Array<out TypeVariable(T)>): Set<TypeVariable(T)> defined in kotlin.collections\n",
      "public operator fun <T> Set<TypeVariable(T)>.plus(elements: Iterable<TypeVariable(T)>): Set<TypeVariable(T)> defined in kotlin.collections\n",
      "public operator fun <T> Set<TypeVariable(T)>.plus(elements: Sequence<TypeVariable(T)>): Set<TypeVariable(T)> defined in kotlin.collections\n",
      "public operator fun <T> Sequence<TypeVariable(T)>.plus(elements: Array<out TypeVariable(T)>): Sequence<TypeVariable(T)> defined in kotlin.sequences\n",
      "public operator fun <T> Sequence<TypeVariable(T)>.plus(elements: Iterable<TypeVariable(T)>): Sequence<TypeVariable(T)> defined in kotlin.sequences\n",
      "public operator fun <T> Sequence<TypeVariable(T)>.plus(elements: Sequence<TypeVariable(T)>): Sequence<TypeVariable(T)> defined in kotlin.sequences\n",
      "Line_36.jupyter.kts (27:17 - 28) Variable expected\n",
      "Line_36.jupyter.kts (32:64 - 72) Unresolved reference: Schedule\n",
      "Line_36.jupyter.kts (32:74 - 81) Unresolved reference: Meeting\n",
      "Line_36.jupyter.kts (33:65 - 73) Unresolved reference: Schedule\n",
      "Line_36.jupyter.kts (33:86 - 93) Unresolved reference: Meeting\n",
      "Line_36.jupyter.kts (34:64 - 72) Unresolved reference: Schedule\n",
      "Line_36.jupyter.kts (34:85 - 92) Unresolved reference: Meeting\n",
      "Line_36.jupyter.kts (37:69 - 77) Unresolved reference: Schedule\n",
      "Line_36.jupyter.kts (37:90 - 97) Unresolved reference: Meeting\n",
      "Line_36.jupyter.kts (38:68 - 76) Unresolved reference: Schedule\n",
      "Line_36.jupyter.kts (38:89 - 96) Unresolved reference: Meeting\n",
      "Line_36.jupyter.kts (41:67 - 75) Unresolved reference: Schedule\n",
      "Line_36.jupyter.kts (41:88 - 95) Unresolved reference: Meeting\n",
      "Line_36.jupyter.kts (42:66 - 74) Unresolved reference: Schedule\n",
      "Line_36.jupyter.kts (42:87 - 94) Unresolved reference: Meeting\n",
      "Line_36.jupyter.kts (44:66 - 74) Unresolved reference: Schedule\n",
      "Line_36.jupyter.kts (44:87 - 94) Unresolved reference: Meeting\n",
      "Line_36.jupyter.kts (46:9 - 26) Unreachable code\n",
      "Line_36.jupyter.kts (46:13 - 24) Variable 'arrivalTime' is never used\n",
      "Line_36.jupyter.kts (47:9 - 63) Unreachable code\n",
      "Line_36.jupyter.kts (48:9 - 70) Unreachable code\n",
      "Line_36.jupyter.kts (49:9 - 46) Unreachable code\n",
      "Line_36.jupyter.kts (49:17 - 30) Variable expected\n",
      "Line_36.jupyter.kts (50:9 - 69) Unreachable code"
     ]
    }
   ],
   "execution_count": null
  },
  {
   "metadata": {
    "jupyter": {
     "is_executing": true
    },
    "ExecuteTime": {
     "start_time": "2024-09-20T10:07:01.767796400Z"
    }
   },
   "cell_type": "code",
   "source": [
    "import ai.timefold.solver.core.api.domain.solution.PlanningEntityCollectionProperty\n",
    "import ai.timefold.solver.core.api.domain.solution.PlanningScore\n",
    "import ai.timefold.solver.core.api.domain.solution.PlanningSolution\n",
    "import ai.timefold.solver.core.api.domain.solution.ProblemFactCollectionProperty\n",
    "import ai.timefold.solver.core.api.domain.valuerange.ValueRangeProvider\n",
    "import ai.timefold.solver.core.api.score.buildin.hardsoft.HardSoftScore\n",
    "\n",
    "@PlanningSolution\n",
    "data class Schedule(\n",
    "    @PlanningEntityCollectionProperty\n",
    "    val meetings: List<Meeting>,\n",
    "\n",
    "    @ProblemFactCollectionProperty\n",
    "    @ValueRangeProvider(id = \"agentRange\")\n",
    "    val agents: List<Agent>,\n",
    "\n",
    "    @ProblemFactCollectionProperty\n",
    "    @ValueRangeProvider(id = \"standstillRange\")\n",
    "    val standstills: List<Standstill>,\n",
    "\n",
    "    @ProblemFactCollectionProperty\n",
    "    val skills: List<Skill>\n",
    ") {\n",
    "    @PlanningScore\n",
    "    var score: HardSoftScore? = null\n",
    "}\n"
   ],
   "outputs": [
    {
     "name": "stderr",
     "output_type": "stream",
     "text": [
      "Line_37.jupyter.kts (11:24 - 31) Unresolved reference: Meeting\n",
      "Line_37.jupyter.kts (15:22 - 27) Unresolved reference: Agent"
     ]
    }
   ],
   "execution_count": null
  },
  {
   "metadata": {
    "jupyter": {
     "is_executing": true
    },
    "ExecuteTime": {
     "start_time": "2024-09-20T10:07:01.789825900Z"
    }
   },
   "cell_type": "code",
   "source": [
    "import kotlin.random.Random\n",
    "import java.time.LocalDateTime\n",
    "import java.time.temporal.ChronoUnit\n",
    "\n",
    "fun generateFakeData(\n",
    "    numAgents: Int = 5,\n",
    "    numMeetings: Int = 20,\n",
    "    numSkills: Int = 3\n",
    "): Schedule {\n",
    "    // Define skills\n",
    "    val skillNames = listOf(\"Fire Certification\", \"Bodyguard Certification\", \"First Aid\")\n",
    "    val skills = skillNames.map { Skill(it.toLowerCase().replace(\" \", \"_\"), it) }\n",
    "\n",
    "    // Generate agents\n",
    "    val agents = (1..numAgents).map { index ->\n",
    "        val agentSkills = skills.shuffled().take(Random.nextInt(1, numSkills))\n",
    "        Agent(\n",
    "            id = \"agent_$index\",\n",
    "            name = \"Agent $index\",\n",
    "            homeLocation = randomLocationInGeneva(),\n",
    "            skills = agentSkills,\n",
    "            maxWorkingHoursPerDay = Duration.ofHours(8)\n",
    "        )\n",
    "    }\n",
    "\n",
    "    // Generate meetings\n",
    "    val meetings = (1..numMeetings).map { index ->\n",
    "        val requiredSkills = skills.shuffled().take(Random.nextInt(1, numSkills))\n",
    "        val startTime = LocalDateTime.now().withHour(8).withMinute(0).plusMinutes(Random.nextLong(0, 600))\n",
    "        val duration = Duration.ofMinutes(Random.nextLong(30, 120))\n",
    "        val endTime = startTime.plus(duration).plusMinutes(Random.nextLong(0, 120))\n",
    "        Meeting(\n",
    "            id = \"meeting_$index\",\n",
    "            location = randomLocationInGeneva(),\n",
    "            requiredSkills = requiredSkills,\n",
    "            timeWindow = TimeWindow(startTime, endTime),\n",
    "            duration = duration\n",
    "        )\n",
    "    }\n",
    "\n",
    "    val standstills = agents.map { it as Standstill } + meetings.map { it as Standstill }\n",
    "\n",
    "    return Schedule(meetings, agents, standstills, skills)\n",
    "}\n",
    "\n",
    "// Helper function to generate random locations in Geneva\n",
    "fun randomLocationInGeneva(): Location {\n",
    "    // Approximate bounding box for Geneva\n",
    "    val latMin = 46.188\n",
    "    val latMax = 46.256\n",
    "    val lonMin = 6.119\n",
    "    val lonMax = 6.166\n",
    "    val latitude = Random.nextDouble(latMin, latMax)\n",
    "    val longitude = Random.nextDouble(lonMin, lonMax)\n",
    "    return Location(latitude, longitude)\n",
    "}\n"
   ],
   "outputs": [
    {
     "name": "stderr",
     "output_type": "stream",
     "text": [
      "Line_38.jupyter.kts (9:4 - 12) Unresolved reference: Schedule\n",
      "Line_38.jupyter.kts (12:44 - 55) 'toLowerCase(): String' is deprecated. Use lowercase() instead.\n",
      "Line_38.jupyter.kts (17:9 - 14) Unresolved reference: Agent\n",
      "Line_38.jupyter.kts (32:9 - 16) Unresolved reference: Meeting\n",
      "Line_38.jupyter.kts (41:39 - 41) This cast can never succeed\n",
      "Line_38.jupyter.kts (41:75 - 77) This cast can never succeed\n",
      "Line_38.jupyter.kts (43:12 - 20) Unresolved reference: Schedule"
     ]
    }
   ],
   "execution_count": null
  },
  {
   "metadata": {
    "jupyter": {
     "is_executing": true
    },
    "ExecuteTime": {
     "start_time": "2024-09-20T10:07:01.923969800Z"
    }
   },
   "cell_type": "code",
   "source": [
    "import ai.timefold.solver.core.api.score.stream.Constraint\n",
    "import ai.timefold.solver.core.api.score.stream.ConstraintFactory\n",
    "import ai.timefold.solver.core.api.score.stream.ConstraintProvider\n",
    "import ai.timefold.solver.core.api.score.stream.Joiners\n",
    "\n",
    "class ScheduleConstraintProvider : ConstraintProvider {\n",
    "\n",
    "    override fun defineConstraints(constraintFactory: ConstraintFactory): Array<Constraint> {\n",
    "        return arrayOf(\n",
    "            skillRequirement(constraintFactory),\n",
    "            timeWindowViolation(constraintFactory),\n",
    "            agentWorkingHours(constraintFactory),\n",
    "            avoidOverlappingMeetings(constraintFactory),\n",
    "            minimizeTravelDistance(constraintFactory)\n",
    "        )\n",
    "    }\n",
    "\n",
    "    // 1. Agents must have required skills for the meetings they are assigned to.\n",
    "    fun skillRequirement(constraintFactory: ConstraintFactory): Constraint {\n",
    "        return constraintFactory.forEach(Meeting::class.java)\n",
    "            .filter { meeting ->\n",
    "                val agent = getAgent(meeting)\n",
    "                agent == null || !meeting.requiredSkills.all { skill -> agent.skills.contains(skill) }\n",
    "            }\n",
    "            .penalize(HardSoftScore.ONE_HARD)\n",
    "            .asConstraint(\"Skill requirement\")\n",
    "    }\n",
    "\n",
    "    // 2. Meetings must be within their time windows.\n",
    "    fun timeWindowViolation(constraintFactory: ConstraintFactory): Constraint {\n",
    "        return constraintFactory.forEach(Meeting::class.java)\n",
    "            .filter { meeting ->\n",
    "                val arrivalTime = meeting.arrivalTime\n",
    "                val departureTime = meeting.departureTime\n",
    "                arrivalTime == null || departureTime == null ||\n",
    "                        arrivalTime.isBefore(meeting.timeWindow.start) ||\n",
    "                        departureTime.isAfter(meeting.timeWindow.end)\n",
    "            }\n",
    "            .penalize(HardSoftScore.ONE_HARD)\n",
    "            .asConstraint(\"Time window violation\")\n",
    "    }\n",
    "\n",
    "    // 3. Agents must not exceed their working hours per day.\n",
    "    fun agentWorkingHours(constraintFactory: ConstraintFactory): Constraint {\n",
    "        return constraintFactory.forEach(Agent::class.java)\n",
    "            .penalize(HardSoftScore.ONE_HARD) { agent ->\n",
    "                val totalWorkingTime = calculateTotalWorkingTime(agent)\n",
    "                val overTime = totalWorkingTime.minus(agent.maxWorkingHoursPerDay)\n",
    "                if (overTime.isNegative) 0 else overTime.toMinutes().toInt()\n",
    "            }\n",
    "            .asConstraint(\"Agent working hours\")\n",
    "    }\n",
    "\n",
    "    // 4. Avoid overlapping meetings for the same agent.\n",
    "    fun avoidOverlappingMeetings(constraintFactory: ConstraintFactory): Constraint {\n",
    "        return constraintFactory.forEach(Meeting::class.java)\n",
    "            .join(Meeting::class.java,\n",
    "                Joiners.equal { meeting -> getAgent(meeting) },\n",
    "                Joiners.lessThan { meeting -> meeting.arrivalTime },\n",
    "                Joiners.overlapping(\n",
    "                    { meeting -> meeting.arrivalTime },\n",
    "                    { meeting -> meeting.departureTime },\n",
    "                    { meeting -> meeting.arrivalTime },\n",
    "                    { meeting -> meeting.departureTime }\n",
    "                )\n",
    "            )\n",
    "            .penalize(HardSoftScore.ONE_HARD)\n",
    "            .asConstraint(\"Avoid overlapping meetings\")\n",
    "    }\n",
    "\n",
    "    // 5. Minimize total travel distance for agents.\n",
    "    fun minimizeTravelDistance(constraintFactory: ConstraintFactory): Constraint {\n",
    "        return constraintFactory.forEach(Meeting::class.java)\n",
    "            .filter { meeting -> meeting.previousStandstill != null }\n",
    "            .penalizeDouble(HardSoftScore.ONE_SOFT) { meeting ->\n",
    "                meeting.previousStandstill!!.location.distanceTo(meeting.location)\n",
    "            }\n",
    "            .asConstraint(\"Minimize travel distance\")\n",
    "    }\n",
    "\n",
    "    // Helper functions\n",
    "    private fun getAgent(meeting: Meeting): Agent? {\n",
    "        var standstill = meeting.previousStandstill\n",
    "        while (standstill != null) {\n",
    "            when (standstill) {\n",
    "                is Agent -> return standstill\n",
    "                is Meeting -> standstill = standstill.previousStandstill\n",
    "                else -> break\n",
    "            }\n",
    "        }\n",
    "        return null\n",
    "    }\n",
    "\n",
    "    private fun calculateTotalWorkingTime(agent: Agent): Duration {\n",
    "        var totalTime = Duration.ZERO\n",
    "        var meeting = agent.nextMeeting\n",
    "        var previousStandstill: Standstill = agent\n",
    "        while (meeting != null) {\n",
    "            val travelTime = previousStandstill.location.travelTimeTo(meeting.location)\n",
    "            val serviceTime = meeting.duration\n",
    "            totalTime = totalTime.plus(travelTime).plus(serviceTime)\n",
    "            previousStandstill = meeting\n",
    "            meeting = meeting.nextMeeting\n",
    "        }\n",
    "        // Add travel time back home if needed\n",
    "        val returnTravelTime = previousStandstill.location.travelTimeTo(agent.homeLocation)\n",
    "        totalTime = totalTime.plus(returnTravelTime)\n",
    "        return totalTime\n",
    "    }\n",
    "}\n"
   ],
   "outputs": [
    {
     "name": "stderr",
     "output_type": "stream",
     "text": [
      "Line_39.jupyter.kts (20:34 - 41) Not enough information to infer type variable A\n",
      "Line_39.jupyter.kts (20:42 - 49) Unresolved reference: Meeting\n",
      "Line_39.jupyter.kts (21:23 - 30) Cannot infer a type for this parameter. Please specify it explicitly.\n",
      "Line_39.jupyter.kts (23:64 - 69) Cannot infer a type for this parameter. Please specify it explicitly.\n",
      "Line_39.jupyter.kts (25:23 - 36) Unresolved reference: HardSoftScore\n",
      "Line_39.jupyter.kts (31:34 - 41) Not enough information to infer type variable A\n",
      "Line_39.jupyter.kts (31:42 - 49) Unresolved reference: Meeting\n",
      "Line_39.jupyter.kts (32:23 - 30) Cannot infer a type for this parameter. Please specify it explicitly.\n",
      "Line_39.jupyter.kts (39:23 - 36) Unresolved reference: HardSoftScore\n",
      "Line_39.jupyter.kts (45:34 - 41) Not enough information to infer type variable A\n",
      "Line_39.jupyter.kts (45:42 - 47) Unresolved reference: Agent\n",
      "Line_39.jupyter.kts (46:23 - 36) Unresolved reference: HardSoftScore\n",
      "Line_39.jupyter.kts (46:49 - 54) Cannot infer a type for this parameter. Please specify it explicitly.\n",
      "Line_39.jupyter.kts (56:34 - 41) Not enough information to infer type variable A\n",
      "Line_39.jupyter.kts (56:42 - 49) Unresolved reference: Meeting\n",
      "Line_39.jupyter.kts (57:19 - 26) Unresolved reference: Meeting\n",
      "Line_39.jupyter.kts (58:33 - 40) Cannot infer a type for this parameter. Please specify it explicitly.\n",
      "Line_39.jupyter.kts (59:36 - 43) Cannot infer a type for this parameter. Please specify it explicitly.\n",
      "Line_39.jupyter.kts (61:23 - 30) Cannot infer a type for this parameter. Please specify it explicitly.\n",
      "Line_39.jupyter.kts (62:23 - 30) Cannot infer a type for this parameter. Please specify it explicitly.\n",
      "Line_39.jupyter.kts (63:23 - 30) Cannot infer a type for this parameter. Please specify it explicitly.\n",
      "Line_39.jupyter.kts (64:23 - 30) Cannot infer a type for this parameter. Please specify it explicitly.\n",
      "Line_39.jupyter.kts (67:23 - 36) Unresolved reference: HardSoftScore\n",
      "Line_39.jupyter.kts (73:34 - 41) Not enough information to infer type variable A\n",
      "Line_39.jupyter.kts (73:42 - 49) Unresolved reference: Meeting\n",
      "Line_39.jupyter.kts (74:23 - 30) Cannot infer a type for this parameter. Please specify it explicitly.\n",
      "Line_39.jupyter.kts (75:29 - 42) Unresolved reference: HardSoftScore\n",
      "Line_39.jupyter.kts (75:55 - 62) Cannot infer a type for this parameter. Please specify it explicitly.\n",
      "Line_39.jupyter.kts (82:35 - 42) Unresolved reference: Meeting\n",
      "Line_39.jupyter.kts (82:45 - 50) Unresolved reference: Agent\n",
      "Line_39.jupyter.kts (86:20 - 25) Unresolved reference: Agent\n",
      "Line_39.jupyter.kts (87:20 - 27) Unresolved reference: Meeting\n",
      "Line_39.jupyter.kts (94:50 - 55) Unresolved reference: Agent"
     ]
    }
   ],
   "execution_count": null
  },
  {
   "metadata": {
    "jupyter": {
     "is_executing": true
    },
    "ExecuteTime": {
     "start_time": "2024-09-20T10:07:02.079658500Z"
    }
   },
   "cell_type": "code",
   "source": [
    "import ai.timefold.solver.core.config.solver.SolverConfig\n",
    "import ai.timefold.solver.core.api.solver.SolverFactory\n",
    "import ai.timefold.solver.core.api.solver.Solver\n",
    "\n",
    "val solverConfig = SolverConfig()\n",
    "    .withSolutionClass(Schedule::class.java)\n",
    "    .withEntityClasses(Meeting::class.java)\n",
    "    .withConstraintProviderClass(ScheduleConstraintProvider::class.java)\n",
    "    .withTerminationSpentLimit(Duration.ofSeconds(10))\n",
    "\n",
    "val solverFactory: SolverFactory<Schedule> = SolverFactory.create(solverConfig)\n",
    "\n",
    "val problem: Schedule = generateFakeData(numAgents = 5, numMeetings = 20, numSkills = 3)\n",
    "\n",
    "println(\"Solving the problem ...\")\n",
    "val solver: Solver<Schedule> = solverFactory.buildSolver()\n",
    "val solution: Schedule = solver.solve(problem)\n",
    "println(\"Solving finished with score (${solution.score}).\")\n"
   ],
   "outputs": [
    {
     "name": "stderr",
     "output_type": "stream",
     "text": [
      "Line_40.jupyter.kts (6:24 - 32) Unresolved reference: Schedule\n",
      "Line_40.jupyter.kts (7:24 - 31) Unresolved reference: Meeting\n",
      "Line_40.jupyter.kts (8:34 - 60) Unresolved reference: ScheduleConstraintProvider\n",
      "Line_40.jupyter.kts (11:34 - 42) Unresolved reference: Schedule\n",
      "Line_40.jupyter.kts (13:14 - 22) Unresolved reference: Schedule\n",
      "Line_40.jupyter.kts (13:25 - 41) Unresolved reference: generateFakeData\n",
      "Line_40.jupyter.kts (16:20 - 28) Unresolved reference: Schedule\n",
      "Line_40.jupyter.kts (17:15 - 23) Unresolved reference: Schedule"
     ]
    }
   ],
   "execution_count": null
  },
  {
   "metadata": {
    "jupyter": {
     "is_executing": true
    },
    "ExecuteTime": {
     "start_time": "2024-09-20T10:07:02.116645600Z"
    }
   },
   "cell_type": "code",
   "source": [
    "println(\"Assignments:\")\n",
    "solution.agents.forEach { agent ->\n",
    "    println(\"Agent: ${agent.name}\")\n",
    "    var meeting = agent.nextMeeting\n",
    "    while (meeting != null) {\n",
    "        println(\"  Meeting: ${meeting.id}, Arrival: ${meeting.arrivalTime}, Departure: ${meeting.departureTime}, Location: ${meeting.location}\")\n",
    "        meeting = meeting.nextMeeting\n",
    "    }\n",
    "}\n"
   ],
   "outputs": [
    {
     "name": "stderr",
     "output_type": "stream",
     "text": [
      "Line_41.jupyter.kts (2:1 - 9) Unresolved reference: solution\n",
      "Line_41.jupyter.kts (2:17 - 24) Overload resolution ambiguity: \n",
      "public inline fun <T> Iterable<TypeVariable(T)>.forEach(action: (TypeVariable(T)) -> Unit): Unit defined in kotlin.collections\n",
      "public inline fun <K, V> Map<out TypeVariable(K), TypeVariable(V)>.forEach(action: (Map.Entry<TypeVariable(K), TypeVariable(V)>) -> Unit): Unit defined in kotlin.collections\n",
      "Line_41.jupyter.kts (2:27 - 32) Cannot infer a type for this parameter. Please specify it explicitly."
     ]
    }
   ],
   "execution_count": null
  }
 ],
 "metadata": {
  "kernelspec": {
   "display_name": "Kotlin",
   "language": "kotlin",
   "name": "kotlin"
  },
  "language_info": {
   "name": "kotlin",
   "version": "1.9.23",
   "mimetype": "text/x-kotlin",
   "file_extension": ".kt",
   "pygments_lexer": "kotlin",
   "codemirror_mode": "text/x-kotlin",
   "nbconvert_exporter": ""
  }
 },
 "nbformat": 4,
 "nbformat_minor": 0
}
