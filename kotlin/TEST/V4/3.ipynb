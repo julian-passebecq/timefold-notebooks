{
 "cells": [
  {
   "cell_type": "code",
   "metadata": {
    "collapsed": true,
    "ExecuteTime": {
     "end_time": "2024-09-20T12:15:33.275485100Z",
     "start_time": "2024-09-20T12:15:33.039913300Z"
    }
   },
   "source": "@file:DependsOn(\"ai.timefold.solver:timefold-solver-core:1.14.0\")\n",
   "outputs": [],
   "execution_count": 15
  },
  {
   "metadata": {
    "ExecuteTime": {
     "end_time": "2024-09-20T12:15:33.312411Z",
     "start_time": "2024-09-20T12:15:33.276495Z"
    }
   },
   "cell_type": "code",
   "source": [
    "// Import statements\n",
    "import java.time.Duration\n",
    "import java.time.LocalDateTime\n",
    "import ai.timefold.solver.core.api.domain.lookup.PlanningId\n",
    "import ai.timefold.solver.core.api.score.director.ScoreDirector\n",
    "import ai.timefold.solver.core.api.domain.variable.VariableListener\n",
    "import ai.timefold.solver.core.api.domain.entity.PlanningEntity\n",
    "import ai.timefold.solver.core.api.domain.variable.PlanningVariable\n",
    "import ai.timefold.solver.core.api.domain.variable.InverseRelationShadowVariable\n",
    "import ai.timefold.solver.core.api.domain.variable.PlanningVariableGraphType\n",
    "import ai.timefold.solver.core.api.domain.variable.ShadowVariable\n",
    "import ai.timefold.solver.core.api.domain.solution.PlanningEntityCollectionProperty\n",
    "import ai.timefold.solver.core.api.domain.solution.PlanningScore\n",
    "import ai.timefold.solver.core.api.domain.solution.PlanningSolution\n",
    "import ai.timefold.solver.core.api.domain.solution.ProblemFactCollectionProperty\n",
    "import ai.timefold.solver.core.api.domain.valuerange.ValueRangeProvider\n",
    "import ai.timefold.solver.core.api.score.buildin.hardsoft.HardSoftScore"
   ],
   "outputs": [],
   "execution_count": 16
  },
  {
   "metadata": {
    "ExecuteTime": {
     "end_time": "2024-09-20T12:15:33.634204100Z",
     "start_time": "2024-09-20T12:15:33.502691700Z"
    }
   },
   "cell_type": "code",
   "source": [
    "// Skill\n",
    "data class Skill(\n",
    "    val id: String,\n",
    "    val name: String\n",
    ")\n",
    "\n",
    "// Location\n",
    "data class Location(\n",
    "    val latitude: Double,\n",
    "    val longitude: Double\n",
    ") {\n",
    "    fun distanceTo(other: Location): Double {\n",
    "        val xDiff = latitude - other.latitude\n",
    "        val yDiff = longitude - other.longitude\n",
    "        return kotlin.math.sqrt(xDiff * xDiff + yDiff * yDiff)\n",
    "    }\n",
    "\n",
    "    fun travelTimeTo(other: Location): Duration {\n",
    "        val distanceKm = distanceTo(other) * 111  // Approximate conversion to kilometers\n",
    "        val averageSpeedKmh = 50.0\n",
    "        val timeInHours = distanceKm / averageSpeedKmh\n",
    "        return Duration.ofMinutes((timeInHours * 60).toLong())\n",
    "    }\n",
    "}\n",
    "\n",
    "// TimeWindow\n",
    "data class TimeWindow(\n",
    "    val start: LocalDateTime,\n",
    "    val end: LocalDateTime\n",
    ")\n"
   ],
   "outputs": [],
   "execution_count": 17
  },
  {
   "metadata": {
    "ExecuteTime": {
     "end_time": "2024-09-20T12:15:56.275635200Z",
     "start_time": "2024-09-20T12:15:56.239532300Z"
    }
   },
   "cell_type": "code",
   "source": [
    "interface Standstill {\n",
    "    val location: Location\n",
    "    val departureTime: LocalDateTime?\n",
    "}\n"
   ],
   "outputs": [],
   "execution_count": 18
  },
  {
   "metadata": {
    "ExecuteTime": {
     "end_time": "2024-09-20T12:15:56.488859Z",
     "start_time": "2024-09-20T12:15:56.451430900Z"
    }
   },
   "cell_type": "code",
   "source": [
    "@PlanningEntity\n",
    "class Meeting(\n",
    "    @PlanningId\n",
    "    val id: String,\n",
    "    override val location: Location,\n",
    "    val requiredSkills: List<Skill>,\n",
    "    val timeWindow: TimeWindow,\n",
    "    val duration: Duration\n",
    ") : Standstill {\n",
    "\n",
    "    @PlanningVariable(\n",
    "        valueRangeProviderRefs = [\"standstillRange\"],\n",
    "        graphType = PlanningVariableGraphType.CHAINED\n",
    "    )\n",
    "    var previousStandstill: Standstill? = null\n",
    "\n",
    "    @ShadowVariable(\n",
    "        sourceVariableName = \"previousStandstill\"\n",
    "    )\n",
    "    var arrivalTime: LocalDateTime? = null\n",
    "\n",
    "    @ShadowVariable(\n",
    "        sourceVariableName = \"arrivalTime\"\n",
    "    )\n",
    "    override var departureTime: LocalDateTime? = null\n",
    "\n",
    "    @InverseRelationShadowVariable(sourceVariableName = \"previousStandstill\")\n",
    "    var nextMeeting: Meeting? = null\n",
    "}\n"
   ],
   "outputs": [
    {
     "name": "stderr",
     "output_type": "stream",
     "text": [
      "Line_19.jupyter.kts (18:9 - 19:6) No value passed for parameter 'variableListenerClass'\n",
      "Line_19.jupyter.kts (23:9 - 24:6) No value passed for parameter 'variableListenerClass'"
     ]
    }
   ],
   "execution_count": 19
  },
  {
   "metadata": {
    "ExecuteTime": {
     "end_time": "2024-09-20T12:08:08.925623900Z",
     "start_time": "2024-09-20T12:08:08.881989900Z"
    }
   },
   "cell_type": "code",
   "source": [
    "@PlanningEntity\n",
    "class Meeting(\n",
    "    @PlanningId\n",
    "    val id: String,\n",
    "    override val location: Location,\n",
    "    val requiredSkills: List<Skill>,\n",
    "    val timeWindow: TimeWindow,\n",
    "    val duration: Duration\n",
    ") : Standstill {\n",
    "\n",
    "    // Planning variable: previous standstill (Agent or another Meeting)\n",
    "    @PlanningVariable(\n",
    "        valueRangeProviderRefs = [\"standstillRange\"],\n",
    "        graphType = PlanningVariableGraphType.CHAINED\n",
    "    )\n",
    "    var previousStandstill: Standstill? = null\n",
    "\n",
    "    // Shadow variables\n",
    "    @ShadowVariable(\n",
    "        variableListenerClass = ArrivalTimeUpdatingVariableListener::class,\n",
    "        sourceVariableName = \"previousStandstill\"\n",
    "    )\n",
    "    var arrivalTime: LocalDateTime? = null\n",
    "\n",
    "    @ShadowVariable(\n",
    "        variableListenerClass = DepartureTimeUpdatingVariableListener::class,\n",
    "        sourceVariableName = \"arrivalTime\"\n",
    "    )\n",
    "    override var departureTime: LocalDateTime? = null\n",
    "\n",
    "    // For chaining\n",
    "    @InverseRelationShadowVariable(sourceVariableName = \"previousStandstill\")\n",
    "    var nextMeeting: Meeting? = null\n",
    "}\n"
   ],
   "outputs": [
    {
     "name": "stderr",
     "output_type": "stream",
     "text": [
      "Line_14.jupyter.kts (5:28 - 36) Type of 'location' is not a subtype of the overridden property 'public abstract val location: Line_7_jupyter.Location defined in Line_9_jupyter.Standstill'\n",
      "Line_14.jupyter.kts (20:33 - 68) Unresolved reference: ArrivalTimeUpdatingVariableListener\n",
      "Line_14.jupyter.kts (20:33 - 75) An annotation argument must be a compile-time constant\n",
      "Line_14.jupyter.kts (26:33 - 70) Unresolved reference: DepartureTimeUpdatingVariableListener\n",
      "Line_14.jupyter.kts (26:33 - 77) An annotation argument must be a compile-time constant"
     ]
    }
   ],
   "execution_count": 14
  },
  {
   "metadata": {},
   "cell_type": "code",
   "outputs": [],
   "execution_count": null,
   "source": ""
  }
 ],
 "metadata": {
  "kernelspec": {
   "display_name": "Kotlin",
   "language": "kotlin",
   "name": "kotlin"
  },
  "language_info": {
   "name": "kotlin",
   "version": "1.9.23",
   "mimetype": "text/x-kotlin",
   "file_extension": ".kt",
   "pygments_lexer": "kotlin",
   "codemirror_mode": "text/x-kotlin",
   "nbconvert_exporter": ""
  }
 },
 "nbformat": 4,
 "nbformat_minor": 0
}
