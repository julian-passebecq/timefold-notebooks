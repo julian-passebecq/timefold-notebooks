{
 "cells": [
  {
   "cell_type": "code",
   "metadata": {
    "collapsed": true,
    "ExecuteTime": {
     "end_time": "2024-09-20T07:38:06.100182200Z",
     "start_time": "2024-09-20T07:38:04.182642300Z"
    }
   },
   "source": "",
   "outputs": [],
   "execution_count": 2
  },
  {
   "metadata": {},
   "cell_type": "markdown",
   "source": "# Import"
  },
  {
   "metadata": {
    "ExecuteTime": {
     "end_time": "2024-09-20T08:05:11.315111200Z",
     "start_time": "2024-09-20T08:05:10.970628800Z"
    }
   },
   "cell_type": "code",
   "source": [
    "@file:DependsOn(\"ai.timefold.solver:timefold-solver-core:1.11.0\")\n",
    "@file:DependsOn(\"com.fasterxml.jackson.module:jackson-module-kotlin:2.17.1\")"
   ],
   "outputs": [],
   "execution_count": 28
  },
  {
   "metadata": {
    "ExecuteTime": {
     "end_time": "2024-09-20T08:05:12.286465200Z",
     "start_time": "2024-09-20T08:05:12.228845100Z"
    }
   },
   "cell_type": "code",
   "source": [
    "// Import necessary libraries\n",
    "import ai.timefold.solver.core.api.domain.solution.PlanningSolution\n",
    "import ai.timefold.solver.core.api.domain.entity.PlanningEntity\n",
    "import ai.timefold.solver.core.api.domain.variable.PlanningVariable\n",
    "import ai.timefold.solver.core.api.domain.lookup.PlanningId\n",
    "import ai.timefold.solver.core.api.domain.solution.PlanningEntityCollectionProperty\n",
    "import ai.timefold.solver.core.api.domain.solution.ProblemFactCollectionProperty\n",
    "import ai.timefold.solver.core.api.domain.valuerange.ValueRangeProvider\n",
    "import ai.timefold.solver.core.api.score.buildin.hardsoft.HardSoftScore\n",
    "\n",
    "import java.time.LocalTime\n",
    "import java.time.DayOfWeek"
   ],
   "outputs": [],
   "execution_count": 29
  },
  {
   "metadata": {},
   "cell_type": "markdown",
   "source": "# Init"
  },
  {
   "metadata": {
    "ExecuteTime": {
     "end_time": "2024-09-20T08:05:14.202595200Z",
     "start_time": "2024-09-20T08:05:14.141931800Z"
    }
   },
   "cell_type": "code",
   "source": [
    "// Location class representing a point in Geneva\n",
    "data class Location(\n",
    "    val latitude: Double,\n",
    "    val longitude: Double\n",
    ")\n"
   ],
   "outputs": [],
   "execution_count": 30
  },
  {
   "metadata": {
    "ExecuteTime": {
     "end_time": "2024-09-20T08:05:15.074566500Z",
     "start_time": "2024-09-20T08:05:14.966173800Z"
    }
   },
   "cell_type": "code",
   "source": [
    "// Skill enumeration\n",
    "enum class Skill {\n",
    "    FIRE_CERTIFICATION,\n",
    "    BODYGUARD_CERTIFICATION,\n",
    "    FIRST_AID,\n",
    "    // Add more skills as needed\n",
    "}"
   ],
   "outputs": [],
   "execution_count": 31
  },
  {
   "metadata": {
    "ExecuteTime": {
     "end_time": "2024-09-20T08:05:15.753690300Z",
     "start_time": "2024-09-20T08:05:15.645715600Z"
    }
   },
   "cell_type": "code",
   "source": [
    "// Agent class representing a security agent\n",
    "data class Agent(\n",
    "    @PlanningId\n",
    "    val id: Long,\n",
    "    val name: String,\n",
    "    val homeLocation: Location,\n",
    "    val vehicleHomeLocation: Location,\n",
    "    val skills: Set<Skill>,\n",
    "    val weeklyWorkloadHours: Int = 40\n",
    ") {\n",
    "    // No-arg constructor required for Timefold\n",
    "    constructor() : this(0, \"\", Location(0.0, 0.0), Location(0.0, 0.0), emptySet(), 40)\n",
    "}"
   ],
   "outputs": [],
   "execution_count": 32
  },
  {
   "metadata": {
    "ExecuteTime": {
     "end_time": "2024-09-20T08:05:16.664967400Z",
     "start_time": "2024-09-20T08:05:16.557391200Z"
    }
   },
   "cell_type": "code",
   "source": [
    "// Meeting class representing a client meeting\n",
    "@PlanningEntity\n",
    "data class Meeting(\n",
    "    @PlanningId\n",
    "    val id: Long,\n",
    "    val clientName: String,\n",
    "    val location: Location,\n",
    "    val requiredSkills: Set<Skill>,\n",
    "    val durationHours: Int,\n",
    "    val timeWindowStart: LocalTime,\n",
    "    val timeWindowEnd: LocalTime,\n",
    "    val isNightMeeting: Boolean = false\n",
    ") {\n",
    "    @PlanningVariable(valueRangeProviderRefs = [\"agentRange\"], nullable = true)\n",
    "    var assignedAgent: Agent? = null\n",
    "\n",
    "    // No-arg constructor required for Timefold\n",
    "    constructor() : this(0, \"\", Location(0.0, 0.0), emptySet(), 1, LocalTime.MIN, LocalTime.MAX)\n",
    "}"
   ],
   "outputs": [],
   "execution_count": 33
  },
  {
   "metadata": {},
   "cell_type": "markdown",
   "source": "# Problem"
  },
  {
   "metadata": {
    "ExecuteTime": {
     "end_time": "2024-09-20T08:05:18.305013100Z",
     "start_time": "2024-09-20T08:05:18.201571100Z"
    }
   },
   "cell_type": "code",
   "source": [
    "// Solution class representing the entire problem\n",
    "@PlanningSolution\n",
    "data class SecurityAssignment(\n",
    "    @ProblemFactCollectionProperty\n",
    "    @ValueRangeProvider(id = \"agentRange\")\n",
    "    val agents: List<Agent>,\n",
    "\n",
    "    @ProblemFactCollectionProperty\n",
    "    val skills: Set<Skill>,\n",
    "\n",
    "    @PlanningEntityCollectionProperty\n",
    "    val meetings: List<Meeting>\n",
    ") {\n",
    "    @ai.timefold.solver.core.api.domain.solution.PlanningScore\n",
    "    var score: HardSoftScore? = null\n",
    "\n",
    "    // No-arg constructor required for Timefold\n",
    "    constructor() : this(emptyList(), emptySet(), emptyList())\n",
    "}"
   ],
   "outputs": [],
   "execution_count": 34
  },
  {
   "metadata": {},
   "cell_type": "markdown",
   "source": "# Fake Data"
  },
  {
   "metadata": {
    "ExecuteTime": {
     "end_time": "2024-09-20T08:05:19.687701800Z",
     "start_time": "2024-09-20T08:05:19.539012900Z"
    }
   },
   "cell_type": "code",
   "source": [
    "import kotlin.random.Random\n",
    "\n",
    "// Function to generate random locations around Geneva\n",
    "fun generateRandomLocation(): Location {\n",
    "    // Approximate latitude and longitude for Geneva\n",
    "    val genevaLat = 46.2044\n",
    "    val genevaLon = 6.1432\n",
    "    val latOffset = Random.nextDouble(-0.05, 0.05) // ~5 km\n",
    "    val lonOffset = Random.nextDouble(-0.05, 0.05)\n",
    "    return Location(genevaLat + latOffset, genevaLon + lonOffset)\n",
    "}\n",
    "\n",
    "// Function to generate fake agents\n",
    "fun generateAgents(\n",
    "    numberOfAgents: Int,\n",
    "    numberOfSkills: Int\n",
    "): List<Agent> {\n",
    "    val skills = Skill.values().take(numberOfSkills).toSet()\n",
    "    return (1..numberOfAgents).map { i ->\n",
    "        Agent(\n",
    "            id = i.toLong(),\n",
    "            name = \"Agent $i\",\n",
    "            homeLocation = generateRandomLocation(),\n",
    "            vehicleHomeLocation = generateRandomLocation(),\n",
    "            skills = skills.shuffled().take(Random.nextInt(1, skills.size)).toSet(),\n",
    "            weeklyWorkloadHours = 40\n",
    "        )\n",
    "    }\n",
    "}\n",
    "\n",
    "// Function to generate fake meetings\n",
    "fun generateMeetings(\n",
    "    numberOfMeetings: Int,\n",
    "    skills: Set<Skill>\n",
    "): List<Meeting> {\n",
    "    return (1..numberOfMeetings).map { i ->\n",
    "        val requiredSkills = skills.shuffled().take(Random.nextInt(1, 3)).toSet()\n",
    "        val isNight = Random.nextBoolean() && Random.nextDouble() > 0.7 // 30% chance\n",
    "        val timeWindowStart = if (isNight) LocalTime.of(20, 0) else LocalTime.of(8, 0)\n",
    "        val timeWindowEnd = if (isNight) LocalTime.of(23, 0) else LocalTime.of(18, 0)\n",
    "        Meeting(\n",
    "            id = i.toLong(),\n",
    "            clientName = \"Client $i\",\n",
    "            location = generateRandomLocation(),\n",
    "            requiredSkills = requiredSkills,\n",
    "            durationHours = Random.nextInt(1, 3),\n",
    "            timeWindowStart = timeWindowStart,\n",
    "            timeWindowEnd = timeWindowEnd,\n",
    "            isNightMeeting = isNight\n",
    "        )\n",
    "    }\n",
    "}\n",
    "\n"
   ],
   "outputs": [],
   "execution_count": 35
  },
  {
   "metadata": {
    "ExecuteTime": {
     "end_time": "2024-09-20T08:05:20.600092100Z",
     "start_time": "2024-09-20T08:05:20.533919800Z"
    }
   },
   "cell_type": "code",
   "source": [
    "// Parameters for data generation\n",
    "val numberOfAgents = 5\n",
    "val numberOfSkills = 3\n",
    "val numberOfMeetings = 15\n",
    "\n",
    "// Generate skills\n",
    "val allSkills = Skill.values().take(numberOfSkills).toSet()\n",
    "\n",
    "// Generate agents and meetings\n",
    "val agents = generateAgents(numberOfAgents, numberOfSkills)\n",
    "val meetings = generateMeetings(numberOfMeetings, allSkills)\n",
    "\n",
    "// Create the solution\n",
    "val problem = SecurityAssignment(\n",
    "    agents = agents,\n",
    "    skills = allSkills,\n",
    "    meetings = meetings\n",
    ")\n"
   ],
   "outputs": [],
   "execution_count": 36
  },
  {
   "metadata": {},
   "cell_type": "markdown",
   "source": "# Constraints"
  },
  {
   "metadata": {
    "ExecuteTime": {
     "end_time": "2024-09-20T08:05:22.255575Z",
     "start_time": "2024-09-20T08:05:21.995526Z"
    }
   },
   "cell_type": "code",
   "source": [
    "import ai.timefold.solver.core.api.score.stream.Constraint\n",
    "import ai.timefold.solver.core.api.score.stream.ConstraintFactory\n",
    "import ai.timefold.solver.core.api.score.stream.ConstraintProvider\n",
    "import ai.timefold.solver.core.api.score.buildin.hardsoft.HardSoftScore\n",
    "\n",
    "class SecurityConstraintProvider : ConstraintProvider {\n",
    "    override fun defineConstraints(constraintFactory: ConstraintFactory): Array<Constraint> {\n",
    "        return arrayOf(\n",
    "            // Hard Constraints\n",
    "            agentSkillConstraint(constraintFactory),\n",
    "            timeWindowConstraint(constraintFactory),\n",
    "            weeklyWorkloadConstraint(constraintFactory),\n",
    "            // Soft Constraints\n",
    "            minimizeNumberOfAgents(constraintFactory),\n",
    "            minimizeNightMeetingsOverlap(constraintFactory)\n",
    "        )\n",
    "    }\n",
    "\n",
    "    // Ensure the assigned agent has all required skills\n",
    "    fun agentSkillConstraint(constraintFactory: ConstraintFactory): Constraint {\n",
    "        return constraintFactory.forEach(Meeting::class.java)\n",
    "            .filter { meeting ->\n",
    "                meeting.assignedAgent != null &&\n",
    "                        !meeting.requiredSkills.all { it in meeting.assignedAgent!!.skills }\n",
    "            }\n",
    "            .penalize(HardSoftScore.ONE_HARD)\n",
    "            .asConstraint(\"Agent lacks required skills\")\n",
    "    }\n",
    "\n",
    "    // Ensure the meeting is within the agent's available time window\n",
    "    fun timeWindowConstraint(constraintFactory: ConstraintFactory): Constraint {\n",
    "        return constraintFactory.forEach(Meeting::class.java)\n",
    "            .filter { meeting ->\n",
    "                meeting.assignedAgent != null &&\n",
    "                        (meeting.timeWindowStart !in agentAvailableHours(meeting.assignedAgent!!) ||\n",
    "                                meeting.timeWindowEnd !in agentAvailableHours(meeting.assignedAgent!!))\n",
    "            }\n",
    "            .penalize(HardSoftScore.ONE_HARD)\n",
    "            .asConstraint(\"Meeting outside agent's available time window\")\n",
    "    }\n",
    "\n",
    "    // Dummy function for agent available hours (to be implemented based on agent's schedule)\n",
    "    fun agentAvailableHours(agent: Agent): List<LocalTime> {\n",
    "        // For simplicity, assume agents are available from 8 AM to 6 PM, and 8 PM to 11 PM for night meetings\n",
    "        val dayHours = (8..18).map { LocalTime.of(it, 0) }\n",
    "        val nightHours = (20..23).map { LocalTime.of(it, 0) }\n",
    "        return dayHours + nightHours\n",
    "    }\n",
    "\n",
    "    // Ensure agents do not exceed their weekly workload\n",
    "    fun weeklyWorkloadConstraint(constraintFactory: ConstraintFactory): Constraint {\n",
    "        return constraintFactory.forEach(Agent::class.java)\n",
    "            .join(constraintFactory.forEach(Meeting::class.java),\n",
    "                org.optaplanner.core.api.score.stream.Joiners.equal { agent: Agent -> agent },\n",
    "                org.optaplanner.core.api.score.stream.Joiners.filter { agent, meeting ->\n",
    "                    meeting.assignedAgent == agent\n",
    "                }\n",
    "            )\n",
    "            .groupBy({ _, meeting -> meeting.assignedAgent },\n",
    "                ConstraintCollectors.sum(Meeting::durationHours))\n",
    "            .filter { _, totalHours -> totalHours > 40 }\n",
    "            .penalize(HardSoftScore.ONE_HARD, { _, excess -> excess })\n",
    "            .asConstraint(\"Agent exceeds weekly workload\")\n",
    "    }\n",
    "\n",
    "    // Soft Constraint: Prefer to use fewer agents\n",
    "    fun minimizeNumberOfAgents(constraintFactory: ConstraintFactory): Constraint {\n",
    "        return constraintFactory.forEach(Agent::class.java)\n",
    "            .filter { agent -> agent.meetings.isEmpty() }\n",
    "            .penalize(HardSoftScore.ONE_SOFT)\n",
    "            .asConstraint(\"Minimize number of unused agents\")\n",
    "    }\n",
    "\n",
    "    // Soft Constraint: Minimize overlapping night meetings for the same agent\n",
    "    fun minimizeNightMeetingsOverlap(constraintFactory: ConstraintFactory): Constraint {\n",
    "        return constraintFactory.forEachUniquePair(Meeting::class.java,\n",
    "            org.optaplanner.core.api.score.stream.Joiners.equal(Meeting::assignedAgent),\n",
    "            org.optaplanner.core.api.score.stream.Joiners.equal { it.isNightMeeting }\n",
    "        )\n",
    "            .penalize(HardSoftScore.ONE_SOFT)\n",
    "            .asConstraint(\"Minimize overlapping night meetings\")\n",
    "    }\n",
    "}\n"
   ],
   "outputs": [
    {
     "name": "stderr",
     "output_type": "stream",
     "text": [
      "Line_35.jupyter.kts (43:29 - 34) Parameter 'agent' is never used\n",
      "Line_35.jupyter.kts (54:21 - 32) Unresolved reference: optaplanner\n",
      "Line_35.jupyter.kts (55:21 - 32) Unresolved reference: optaplanner\n",
      "Line_35.jupyter.kts (55:72 - 77) Cannot infer a type for this parameter. Please specify it explicitly.\n",
      "Line_35.jupyter.kts (55:79 - 86) Cannot infer a type for this parameter. Please specify it explicitly.\n",
      "Line_35.jupyter.kts (59:14 - 21) Not enough information to infer type variable ResultContainer_\n",
      "Line_35.jupyter.kts (60:17 - 37) Unresolved reference: ConstraintCollectors\n",
      "Line_35.jupyter.kts (61:23 - 24) Cannot infer a type for this parameter. Please specify it explicitly.\n",
      "Line_35.jupyter.kts (61:26 - 36) Cannot infer a type for this parameter. Please specify it explicitly.\n",
      "Line_35.jupyter.kts (62:49 - 50) Cannot infer a type for this parameter. Please specify it explicitly.\n",
      "Line_35.jupyter.kts (62:52 - 58) Cannot infer a type for this parameter. Please specify it explicitly.\n",
      "Line_35.jupyter.kts (69:38 - 46) Unresolved reference: meetings\n",
      "Line_35.jupyter.kts (77:17 - 28) Unresolved reference: optaplanner\n",
      "Line_35.jupyter.kts (78:17 - 28) Unresolved reference: optaplanner\n",
      "Line_35.jupyter.kts (78:67 - 69) Unresolved reference: it"
     ]
    }
   ],
   "execution_count": 37
  },
  {
   "metadata": {
    "ExecuteTime": {
     "end_time": "2024-09-20T08:02:15.385647300Z",
     "start_time": "2024-09-20T08:02:15.383134800Z"
    }
   },
   "cell_type": "code",
   "source": "",
   "outputs": [],
   "execution_count": 26
  },
  {
   "metadata": {
    "ExecuteTime": {
     "end_time": "2024-09-20T08:02:15.390646300Z",
     "start_time": "2024-09-20T08:02:15.388645300Z"
    }
   },
   "cell_type": "code",
   "source": "",
   "outputs": [],
   "execution_count": 27
  },
  {
   "metadata": {},
   "cell_type": "code",
   "outputs": [],
   "execution_count": null,
   "source": ""
  }
 ],
 "metadata": {
  "kernelspec": {
   "display_name": "Kotlin",
   "language": "kotlin",
   "name": "kotlin"
  },
  "language_info": {
   "name": "kotlin",
   "version": "1.9.23",
   "mimetype": "text/x-kotlin",
   "file_extension": ".kt",
   "pygments_lexer": "kotlin",
   "codemirror_mode": "text/x-kotlin",
   "nbconvert_exporter": ""
  }
 },
 "nbformat": 4,
 "nbformat_minor": 0
}
