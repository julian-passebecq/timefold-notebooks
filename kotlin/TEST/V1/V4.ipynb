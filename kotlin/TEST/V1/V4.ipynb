{
 "cells": [
  {
   "cell_type": "code",
   "metadata": {
    "collapsed": true,
    "ExecuteTime": {
     "end_time": "2024-09-18T15:26:21.213149300Z",
     "start_time": "2024-09-18T15:26:20.939330800Z"
    }
   },
   "source": [
    "@file:DependsOn(\"ai.timefold.solver:timefold-solver-core:1.14.0\") // Use the latest version\n",
    "@file:DependsOn(\"com.fasterxml.jackson.module:jackson-module-kotlin:2.15.2\")\n",
    "@file:DependsOn(\"org.jetbrains.kotlinx:kotlinx-coroutines-core:1.7.3\")\n",
    "@file:DependsOn(\"org.jetbrains.kotlinx:kotlinx-serialization-json:1.5.1\")\n"
   ],
   "outputs": [],
   "execution_count": 49
  },
  {
   "metadata": {},
   "cell_type": "code",
   "outputs": [],
   "execution_count": null,
   "source": ""
  },
  {
   "metadata": {
    "ExecuteTime": {
     "end_time": "2024-09-18T15:26:21.310331Z",
     "start_time": "2024-09-18T15:26:21.214355Z"
    }
   },
   "cell_type": "code",
   "source": [
    "import com.fasterxml.jackson.annotation.JsonFormat\n",
    "\n",
    "@JsonFormat(shape = JsonFormat.Shape.ARRAY)\n",
    "data class Location(\n",
    "    val latitude: Double,\n",
    "    val longitude: Double\n",
    ") {\n",
    "    fun calcEuclideanDistanceTo(other: Location): Double {\n",
    "        val xDifference = latitude - other.latitude\n",
    "        val yDifference = longitude - other.longitude\n",
    "        return Math.sqrt(xDifference * xDifference + yDifference * yDifference)\n",
    "    }\n",
    "}\n"
   ],
   "outputs": [],
   "execution_count": 50
  },
  {
   "metadata": {
    "ExecuteTime": {
     "end_time": "2024-09-18T15:26:21.376928500Z",
     "start_time": "2024-09-18T15:26:21.311335400Z"
    }
   },
   "cell_type": "code",
   "source": [
    "import ai.timefold.solver.core.api.domain.entity.PlanningEntity\n",
    "import ai.timefold.solver.core.api.domain.variable.PlanningListVariable\n",
    "import ai.timefold.solver.core.api.domain.variable.PlanningVariable\n",
    "import ai.timefold.solver.core.api.domain.lookup.PlanningId\n",
    "\n",
    "data class Agent(\n",
    "    @PlanningId\n",
    "    val name: String,\n",
    "    val homeLocation: Location,\n",
    "    val capacity: Int,\n",
    "    val skills: List<String>,\n",
    "    var currentLocation: Location = homeLocation, // To track agent's current location\n",
    "    var availableFrom: Int = 0 // Time when the agent is available\n",
    ") {\n",
    "    override fun toString(): String = name\n",
    "}\n"
   ],
   "outputs": [],
   "execution_count": 51
  },
  {
   "metadata": {
    "ExecuteTime": {
     "end_time": "2024-09-18T15:26:21.447021700Z",
     "start_time": "2024-09-18T15:26:21.377935500Z"
    }
   },
   "cell_type": "code",
   "source": [
    "data class Meeting(\n",
    "    @PlanningId\n",
    "    val name: String,\n",
    "    val location: Location,\n",
    "    val requiredSkill: String,\n",
    "    val timeWindow: List<Int>, // [start, end]\n",
    "    val duration: Int\n",
    ") {\n",
    "    override fun toString(): String = name\n",
    "}\n"
   ],
   "outputs": [],
   "execution_count": 52
  },
  {
   "metadata": {
    "ExecuteTime": {
     "end_time": "2024-09-18T15:26:21.514590100Z",
     "start_time": "2024-09-18T15:26:21.449023800Z"
    }
   },
   "cell_type": "code",
   "source": [
    "import ai.timefold.solver.core.api.domain.entity.PlanningEntity\n",
    "import ai.timefold.solver.core.api.domain.variable.PlanningVariable\n",
    "\n",
    "@PlanningEntity\n",
    "data class Assignment(\n",
    "    val meeting: Meeting\n",
    ") {\n",
    "    @PlanningVariable(valueRangeProviderRefs = [\"agentRange\"])\n",
    "    var agent: Agent? = null\n",
    "\n",
    "    var startTime: Int? = null // Time when the agent starts the meeting\n",
    "\n",
    "    override fun toString(): String = \"$meeting assigned to ${agent?.name ?: \"Unassigned\"}\"\n",
    "}\n"
   ],
   "outputs": [],
   "execution_count": 53
  },
  {
   "metadata": {
    "ExecuteTime": {
     "end_time": "2024-09-18T15:26:21.582490600Z",
     "start_time": "2024-09-18T15:26:21.515589500Z"
    }
   },
   "cell_type": "code",
   "source": [
    "import ai.timefold.solver.core.api.domain.entity.PlanningEntity\n",
    "import ai.timefold.solver.core.api.domain.variable.PlanningVariable\n",
    "\n",
    "@PlanningEntity\n",
    "data class Assignment(\n",
    "    val meeting: Meeting\n",
    ") {\n",
    "    @PlanningVariable(valueRangeProviderRefs = [\"agentRange\"])\n",
    "    var agent: Agent? = null\n",
    "\n",
    "    var startTime: Int? = null // Time when the agent starts the meeting\n",
    "\n",
    "    override fun toString(): String = \"$meeting assigned to ${agent?.name ?: \"Unassigned\"}\"\n",
    "}\n"
   ],
   "outputs": [],
   "execution_count": 54
  },
  {
   "metadata": {
    "ExecuteTime": {
     "end_time": "2024-09-18T15:26:21.691811400Z",
     "start_time": "2024-09-18T15:26:21.583993200Z"
    }
   },
   "cell_type": "code",
   "source": [
    "import ai.timefold.solver.core.api.domain.solution.PlanningEntityCollectionProperty\n",
    "import ai.timefold.solver.core.api.domain.solution.PlanningScore\n",
    "import ai.timefold.solver.core.api.domain.solution.PlanningSolution\n",
    "import ai.timefold.solver.core.api.domain.valuerange.ValueRangeProvider\n",
    "import ai.timefold.solver.core.api.domain.solution.ProblemFactCollectionProperty\n",
    "import ai.timefold.solver.core.api.score.buildin.hardsoftlong.HardSoftLongScore\n",
    "\n",
    "@PlanningSolution\n",
    "data class Schedule(\n",
    "    val name: String,\n",
    "\n",
    "    @ProblemFactCollectionProperty\n",
    "    @ValueRangeProvider(id = \"agentRange\")\n",
    "    val agents: List<Agent>,\n",
    "\n",
    "    @ProblemFactCollectionProperty\n",
    "    val meetings: List<Meeting>,\n",
    "\n",
    "    @PlanningEntityCollectionProperty\n",
    "    val assignments: List<Assignment>,\n",
    "\n",
    "    @PlanningScore\n",
    "    var score: HardSoftLongScore? = null\n",
    ") {\n",
    "    // No-arg constructor required for Timefold\n",
    "    constructor() : this(\"\", emptyList(), emptyList(), emptyList(), null)\n",
    "}\n"
   ],
   "outputs": [],
   "execution_count": 55
  },
  {
   "metadata": {
    "ExecuteTime": {
     "end_time": "2024-09-18T15:26:21.696324200Z",
     "start_time": "2024-09-18T15:26:21.694325300Z"
    }
   },
   "cell_type": "code",
   "source": "",
   "outputs": [],
   "execution_count": 56
  },
  {
   "metadata": {
    "ExecuteTime": {
     "end_time": "2024-09-18T15:26:21.700836100Z",
     "start_time": "2024-09-18T15:26:21.698161400Z"
    }
   },
   "cell_type": "code",
   "source": "",
   "outputs": [],
   "execution_count": 57
  }
 ],
 "metadata": {
  "kernelspec": {
   "display_name": "Kotlin",
   "language": "kotlin",
   "name": "kotlin"
  },
  "language_info": {
   "name": "kotlin",
   "version": "1.9.23",
   "mimetype": "text/x-kotlin",
   "file_extension": ".kt",
   "pygments_lexer": "kotlin",
   "codemirror_mode": "text/x-kotlin",
   "nbconvert_exporter": ""
  }
 },
 "nbformat": 4,
 "nbformat_minor": 0
}
