{
 "cells": [
  {
   "cell_type": "code",
   "metadata": {
    "collapsed": true,
    "ExecuteTime": {
     "end_time": "2024-09-18T12:36:05.188244200Z",
     "start_time": "2024-09-18T12:36:01.029522800Z"
    }
   },
   "source": [
    "@file:DependsOn(\"ai.timefold.solver:timefold-solver-core:1.11.0\")\n",
    "@file:DependsOn(\"com.fasterxml.jackson.module:jackson-module-kotlin:2.15.2\")\n"
   ],
   "outputs": [],
   "execution_count": 1
  },
  {
   "metadata": {
    "ExecuteTime": {
     "end_time": "2024-09-18T12:36:08.990727200Z",
     "start_time": "2024-09-18T12:36:07.417241600Z"
    }
   },
   "cell_type": "code",
   "source": [
    "import com.fasterxml.jackson.annotation.JsonFormat\n",
    "\n",
    "@JsonFormat(shape = JsonFormat.Shape.ARRAY)\n",
    "data class Location(\n",
    "    val latitude: Double,\n",
    "    val longitude: Double\n",
    ") {\n",
    "    fun calcEuclideanDistanceTo(other: Location): Double {\n",
    "        val xDifference = latitude - other.latitude\n",
    "        val yDifference = longitude - other.longitude\n",
    "        return Math.sqrt(xDifference * xDifference + yDifference * yDifference)\n",
    "    }\n",
    "}\n"
   ],
   "outputs": [],
   "execution_count": 2
  },
  {
   "metadata": {
    "ExecuteTime": {
     "end_time": "2024-09-18T12:36:11.327700Z",
     "start_time": "2024-09-18T12:36:11.116729500Z"
    }
   },
   "cell_type": "code",
   "source": [
    "import ai.timefold.solver.core.api.domain.entity.PlanningEntity\n",
    "import ai.timefold.solver.core.api.domain.variable.PlanningVariable\n",
    "import ai.timefold.solver.core.api.domain.variable.PlanningId\n",
    "import com.fasterxml.jackson.annotation.JsonProperty\n",
    "\n",
    "data class Agent(\n",
    "    @PlanningId\n",
    "    val name: String,\n",
    "    val homeLocation: Location,\n",
    "    val skills: List<String>\n",
    ")\n"
   ],
   "outputs": [],
   "execution_count": 3
  },
  {
   "metadata": {
    "ExecuteTime": {
     "end_time": "2024-09-18T12:36:12.596319900Z",
     "start_time": "2024-09-18T12:36:12.307355800Z"
    }
   },
   "cell_type": "code",
   "source": [
    "data class Meeting(\n",
    "    val name: String,\n",
    "    val location: Location,\n",
    "    @JsonProperty(\"required_skill\")\n",
    "    val requiredSkill: String,\n",
    "    @JsonProperty(\"time_window\")\n",
    "    val timeWindow: List<Int>, // Assuming time window is represented as [startTime, endTime]\n",
    "    val duration: Int\n",
    ")\n"
   ],
   "outputs": [],
   "execution_count": 4
  },
  {
   "metadata": {
    "ExecuteTime": {
     "end_time": "2024-09-18T12:36:13.828377600Z",
     "start_time": "2024-09-18T12:36:13.292090200Z"
    }
   },
   "cell_type": "code",
   "source": [
    "import ai.timefold.solver.core.api.domain.entity.PlanningEntity\n",
    "import ai.timefold.solver.core.api.domain.variable.PlanningVariable\n",
    "\n",
    "@PlanningEntity\n",
    "data class Assignment(\n",
    "    val meeting: Meeting\n",
    ") {\n",
    "    @PlanningVariable(valueRangeProviderRefs = [\"agentRange\"], nullable = true)\n",
    "    var agent: Agent? = null\n",
    "\n",
    "    // No-arg constructor required for Timefold\n",
    "    constructor() : this(Meeting(\"\", Location(0.0, 0.0), \"\", listOf(0, 0), 0))\n",
    "}\n"
   ],
   "outputs": [],
   "execution_count": 5
  },
  {
   "metadata": {
    "ExecuteTime": {
     "end_time": "2024-09-18T12:37:39.917119600Z",
     "start_time": "2024-09-18T12:37:39.831349200Z"
    }
   },
   "cell_type": "code",
   "source": [
    "import ai.timefold.solver.core.api.domain.solution.PlanningSolution\n",
    "import ai.timefold.solver.core.api.domain.solution.PlanningEntityCollectionProperty\n",
    "import ai.timefold.solver.core.api.domain.solution.ProblemFactCollectionProperty\n",
    "import ai.timefold.solver.core.api.domain.solution.PlanningScore\n",
    "import ai.timefold.solver.core.api.domain.valuerange.ValueRangeProvider\n",
    "import ai.timefold.solver.core.api.score.buildin.hardsoft.HardSoftScore\n",
    "\n",
    "@PlanningSolution\n",
    "data class Schedule(\n",
    "    @ProblemFactCollectionProperty\n",
    "    @ValueRangeProvider(id = \"agentRange\")\n",
    "    val agents: List<Agent>,\n",
    "\n",
    "    @ProblemFactCollectionProperty\n",
    "    val meetings: List<Meeting>,\n",
    "\n",
    "    @PlanningEntityCollectionProperty\n",
    "    val assignments: List<Assignment>\n",
    ") {\n",
    "    @PlanningScore\n",
    "    var score: HardSoftScore? = null\n",
    "\n",
    "    // No-arg constructor required for Timefold\n",
    "    constructor() : this(emptyList(), emptyList(), emptyList())\n",
    "}\n"
   ],
   "outputs": [],
   "execution_count": 7
  },
  {
   "metadata": {
    "ExecuteTime": {
     "end_time": "2024-09-18T12:37:42.775355900Z",
     "start_time": "2024-09-18T12:37:41.911469600Z"
    }
   },
   "cell_type": "code",
   "source": [
    "import ai.timefold.solver.core.api.score.stream.Constraint\n",
    "import ai.timefold.solver.core.api.score.stream.ConstraintFactory\n",
    "import ai.timefold.solver.core.api.score.stream.ConstraintProvider\n",
    "import ai.timefold.solver.core.api.score.buildin.hardsoft.HardSoftScore\n",
    "\n",
    "class AssignmentConstraintProvider : ConstraintProvider {\n",
    "    override fun defineConstraints(constraintFactory: ConstraintFactory): Array<Constraint> {\n",
    "        return arrayOf(\n",
    "            requiredSkillConstraint(constraintFactory),\n",
    "            agentConflictConstraint(constraintFactory),\n",
    "            minimizeTravelDistanceConstraint(constraintFactory),\n",
    "            timeWindowConstraint(constraintFactory)\n",
    "        )\n",
    "    }\n",
    "\n",
    "    // Hard constraint: Agent must have the required skill\n",
    "    private fun requiredSkillConstraint(constraintFactory: ConstraintFactory): Constraint {\n",
    "        return constraintFactory.from(Assignment::class.java)\n",
    "            .filter { assignment ->\n",
    "                val agentSkills = assignment.agent?.skills ?: return@filter false\n",
    "                !agentSkills.contains(assignment.meeting.requiredSkill)\n",
    "            }\n",
    "            .penalize(HardSoftScore.ONE_HARD)\n",
    "            .asConstraint(\"Agent must have the required skill\")\n",
    "    }\n",
    "\n",
    "    // Hard constraint: An agent can be assigned to only one meeting at a time\n",
    "    private fun agentConflictConstraint(constraintFactory: ConstraintFactory): Constraint {\n",
    "        return constraintFactory.fromUniquePair(Assignment::class.java)\n",
    "            .filter { a1, a2 ->\n",
    "                a1.agent != null && a1.agent == a2.agent &&\n",
    "                        timeOverlap(a1.meeting, a2.meeting)\n",
    "            }\n",
    "            .penalize(HardSoftScore.ONE_HARD)\n",
    "            .asConstraint(\"Agent cannot be assigned to overlapping meetings\")\n",
    "    }\n",
    "\n",
    "    // Soft constraint: Minimize total travel distance\n",
    "    private fun minimizeTravelDistanceConstraint(constraintFactory: ConstraintFactory): Constraint {\n",
    "        return constraintFactory.from(Assignment::class.java)\n",
    "            .filter { it.agent != null }\n",
    "            .penalizeDouble(HardSoftScore.ONE_SOFT) { assignment ->\n",
    "                val agentLocation = assignment.agent!!.homeLocation\n",
    "                val meetingLocation = assignment.meeting.location\n",
    "                agentLocation.calcEuclideanDistanceTo(meetingLocation)\n",
    "            }\n",
    "            .asConstraint(\"Minimize travel distance\")\n",
    "    }\n",
    "\n",
    "    // Hard constraint: Meeting must be within agent's availability (assuming agents are available all the time for now)\n",
    "    // Alternatively, enforce meeting time windows\n",
    "    private fun timeWindowConstraint(constraintFactory: ConstraintFactory): Constraint {\n",
    "        // For simplicity, we assume agents are available at all times.\n",
    "        // Implement this constraint if agents have specific availability windows.\n",
    "        return constraintFactory.from(Assignment::class.java)\n",
    "            .filter { it.agent != null } // Optional: Add time window constraints here\n",
    "            .reward(HardSoftScore.ZERO)\n",
    "            .asConstraint(\"Time window constraint placeholder\")\n",
    "    }\n",
    "\n",
    "    // Helper function to check time overlap between two meetings\n",
    "    private fun timeOverlap(meeting1: Meeting, meeting2: Meeting): Boolean {\n",
    "        val start1 = meeting1.timeWindow[0]\n",
    "        val end1 = meeting1.timeWindow[1]\n",
    "        val start2 = meeting2.timeWindow[0]\n",
    "        val end2 = meeting2.timeWindow[1]\n",
    "        return start1 < end2 && start2 < end1\n",
    "    }\n",
    "}\n"
   ],
   "outputs": [
    {
     "name": "stderr",
     "output_type": "stream",
     "text": [
      "Line_8.jupyter.kts (18:34 - 38) 'from(Class<A!>!): UniConstraintStream<A!>!' is deprecated. Deprecated in Java\n",
      "Line_8.jupyter.kts (28:34 - 38) 'from(Class<A!>!): UniConstraintStream<A!>!' is deprecated. Deprecated in Java\n",
      "Line_8.jupyter.kts (31:22 - 43) Type mismatch: inferred type is ([Error type: Cannot infer a lambda parameter type], [Error type: Cannot infer a lambda parameter type]) -> ??? but BiConstraintCollector<Line_3_jupyter.Agent!, Line_5_jupyter.Assignment!, TypeVariable(ResultContainerA_)!, TypeVariable(ResultA_)!>! was expected\n",
      "Line_8.jupyter.kts (31:24 - 29) Cannot infer a type for this parameter. Please specify it explicitly.\n",
      "Line_8.jupyter.kts (31:31 - 32) Cannot infer a type for this parameter. Please specify it explicitly.\n",
      "Line_8.jupyter.kts (31:45 - 93) Type mismatch: inferred type is ([Error type: Cannot infer a lambda parameter type], [Error type: Cannot infer a lambda parameter type]) -> ??? but BiConstraintCollector<Line_3_jupyter.Agent!, Line_5_jupyter.Assignment!, TypeVariable(ResultContainerB_)!, TypeVariable(ResultB_)!>! was expected\n",
      "Line_8.jupyter.kts (31:47 - 48) Cannot infer a type for this parameter. Please specify it explicitly.\n",
      "Line_8.jupyter.kts (31:50 - 60) Cannot infer a type for this parameter. Please specify it explicitly.\n",
      "Line_8.jupyter.kts (31:95 - 151) Type mismatch: inferred type is BinaryOperator<Int> but BiConstraintCollector<Line_3_jupyter.Agent!, Line_5_jupyter.Assignment!, TypeVariable(ResultContainerC_)!, TypeVariable(ResultC_)!>! was expected\n",
      "Line_8.jupyter.kts (32:23 - 28) Cannot infer a type for this parameter. Please specify it explicitly.\n",
      "Line_8.jupyter.kts (32:30 - 40) Cannot infer a type for this parameter. Please specify it explicitly.\n",
      "Line_8.jupyter.kts (33:49 - 54) Cannot infer a type for this parameter. Please specify it explicitly.\n",
      "Line_8.jupyter.kts (33:56 - 66) Cannot infer a type for this parameter. Please specify it explicitly.\n",
      "Line_8.jupyter.kts (39:34 - 48) 'fromUniquePair(Class<A!>!, BiJoiner<A!, A!>!, BiJoiner<A!, A!>!): BiConstraintStream<A!, A!>!' is deprecated. Deprecated in Java\n",
      "Line_8.jupyter.kts (42:19 - 76) Type mismatch: inferred type is IntRange! but Comparable<TypeVariable(Property_)!>! was expected\n",
      "Line_8.jupyter.kts (42:19 - 76) Type mismatch: inferred type is IntRange! but Comparable<IntRange!>! was expected\n",
      "Line_8.jupyter.kts (52:34 - 38) 'from(Class<A!>!): UniConstraintStream<A!>!' is deprecated. Deprecated in Java"
     ]
    }
   ],
   "execution_count": 8
  },
  {
   "metadata": {},
   "cell_type": "code",
   "outputs": [],
   "execution_count": null,
   "source": [
    "import java.io.File\n",
    "import com.fasterxml.jackson.module.kotlin.jacksonObjectMapper\n",
    "import com.fasterxml.jackson.module.kotlin.readValue\n",
    "\n",
    "val mapper = jacksonObjectMapper()\n",
    "\n",
    "// Read the JSON data\n",
    "data class InputData(\n",
    "    val vehicles: List<Agent>,\n",
    "    val visits: List<Meeting>\n",
    ")\n",
    "\n",
    "val inputData: InputData = mapper.readValue(File(\"data.json\"))\n",
    "\n",
    "// Create assignments (initially unassigned)\n",
    "val assignments = inputData.visits.map { Assignment(it) }\n",
    "\n",
    "// Create the Schedule (planning solution)\n",
    "val schedule = Schedule(\n",
    "    agents = inputData.vehicles,\n",
    "    meetings = inputData.visits,\n",
    "    assignments = assignments\n",
    ")\n"
   ]
  },
  {
   "metadata": {},
   "cell_type": "code",
   "outputs": [],
   "execution_count": null,
   "source": [
    "import ai.timefold.solver.core.config.solver.SolverConfig\n",
    "import ai.timefold.solver.core.api.solver.SolverFactory\n",
    "import ai.timefold.solver.core.api.solver.Solver\n",
    "\n",
    "val solverConfig = SolverConfig()\n",
    "    .withSolutionClass(Schedule::class.java)\n",
    "    .withEntityClasses(Assignment::class.java)\n",
    "    .withConstraintProviderClass(AssignmentConstraintProvider::class.java)\n",
    "    .withTerminationSpentLimit(java.time.Duration.ofSeconds(30)) // Adjust as needed\n",
    "\n",
    "val solverFactory = SolverFactory.create(solverConfig)\n",
    "val solver = solverFactory.buildSolver()\n",
    "\n",
    "// Create initial problem\n",
    "val schedule = Schedule(assignments, agents)\n",
    "\n",
    "// Solve the problem\n",
    "println(\"Solving the problem...\")\n",
    "val solution = solver.solve(schedule)\n",
    "println(\"Solving finished with score ${solution.score}\")\n"
   ]
  },
  {
   "metadata": {},
   "cell_type": "code",
   "outputs": [],
   "execution_count": null,
   "source": [
    "solution.assignments.filter { it.agent != null }.forEach { assignment ->\n",
    "    println(\"${assignment.meeting.name} is assigned to ${assignment.agent!!.name}\")\n",
    "}\n"
   ]
  },
  {
   "metadata": {},
   "cell_type": "code",
   "outputs": [],
   "execution_count": null,
   "source": [
    "// Prepare data for output\n",
    "data class AssignmentOutput(\n",
    "    val meetingName: String,\n",
    "    val agentName: String,\n",
    "    val meetingLocation: Location,\n",
    "    val agentHomeLocation: Location,\n",
    "    val requiredSkill: String,\n",
    "    val agentSkills: List<String>,\n",
    "    val timeWindow: Pair<Int, Int>,\n",
    "    val duration: Int\n",
    ")\n",
    "\n",
    "val assignmentOutputs = solution.assignments.filter { it.agent != null }.map { assignment ->\n",
    "    AssignmentOutput(\n",
    "        meetingName = assignment.meeting.name,\n",
    "        agentName = assignment.agent!!.name,\n",
    "        meetingLocation = assignment.meeting.location,\n",
    "        agentHomeLocation = assignment.agent!!.homeLocation,\n",
    "        requiredSkill = assignment.meeting.requiredSkill,\n",
    "        agentSkills = assignment.agent!!.skills,\n",
    "        timeWindow = assignment.meeting.timeWindow,\n",
    "        duration = assignment.meeting.duration\n",
    "    )\n",
    "}\n",
    "\n",
    "// Write to JSON\n",
    "val outputFile = File(\"assignments.json\")\n",
    "mapper.writeValue(outputFile, assignmentOutputs)\n"
   ]
  }
 ],
 "metadata": {
  "kernelspec": {
   "display_name": "Kotlin",
   "language": "kotlin",
   "name": "kotlin"
  },
  "language_info": {
   "name": "kotlin",
   "version": "1.9.23",
   "mimetype": "text/x-kotlin",
   "file_extension": ".kt",
   "pygments_lexer": "kotlin",
   "codemirror_mode": "text/x-kotlin",
   "nbconvert_exporter": ""
  }
 },
 "nbformat": 4,
 "nbformat_minor": 0
}
